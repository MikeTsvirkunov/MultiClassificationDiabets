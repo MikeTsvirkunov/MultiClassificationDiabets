{
 "cells": [
  {
   "cell_type": "code",
   "execution_count": 1,
   "metadata": {},
   "outputs": [],
   "source": [
    "from sklearn.tree import DecisionTreeClassifier\n",
    "import pandas as pd\n",
    "import numpy as np\n",
    "import matplotlib.pyplot as plt\n",
    "from sklearn.model_selection import train_test_split\n",
    "from sklearn.model_selection import GridSearchCV, RandomizedSearchCV\n",
    "from sklearn.metrics import accuracy_score, confusion_matrix, classification_report, roc_curve, RocCurveDisplay, auc\n",
    "from sklearn.preprocessing import LabelEncoder\n"
   ]
  },
  {
   "cell_type": "code",
   "execution_count": 2,
   "metadata": {},
   "outputs": [],
   "source": [
    "diabets_classes = pd.read_csv('../../DATA/down_sampling.csv', index_col=False)\n",
    "diabets_x = diabets_classes.drop(['diabets'], axis=1)\n",
    "diabets = diabets_classes['diabets']\n"
   ]
  },
  {
   "cell_type": "code",
   "execution_count": 3,
   "metadata": {},
   "outputs": [],
   "source": [
    "x_train, x_test, y_train, y_test = train_test_split(diabets_x, diabets, test_size=0.25)"
   ]
  },
  {
   "attachments": {},
   "cell_type": "markdown",
   "metadata": {},
   "source": [
    "# Diabets KNN"
   ]
  },
  {
   "cell_type": "code",
   "execution_count": 4,
   "metadata": {},
   "outputs": [],
   "source": [
    "params = {'criterion': ['gini', 'entropy', 'log_loss'], \n",
    "          'max_depth': np.arange(10, 20)}\n"
   ]
  },
  {
   "cell_type": "code",
   "execution_count": 5,
   "metadata": {},
   "outputs": [],
   "source": [
    "diabets_classifier = GridSearchCV(DecisionTreeClassifier(),\n",
    "                                  params,\n",
    "                                  n_jobs=4,\n",
    "                                  scoring='f1_micro'\n",
    "                                  ).fit(x_train, y_train)\n",
    "\n",
    "# 3 min\n"
   ]
  },
  {
   "cell_type": "code",
   "execution_count": 8,
   "metadata": {},
   "outputs": [],
   "source": [
    "diabets_predict = diabets_classifier.predict(x_test)\n",
    "# 1 min\n"
   ]
  },
  {
   "cell_type": "code",
   "execution_count": 9,
   "metadata": {},
   "outputs": [
    {
     "name": "stdout",
     "output_type": "stream",
     "text": [
      "              precision    recall  f1-score   support\n",
      "\n",
      "         0.0       0.88      0.84      0.86     55907\n",
      "         1.0       0.66      0.70      0.68     50028\n",
      "         2.0       0.79      0.78      0.79     54343\n",
      "\n",
      "    accuracy                           0.78    160278\n",
      "   macro avg       0.78      0.78      0.78    160278\n",
      "weighted avg       0.78      0.78      0.78    160278\n",
      "\n"
     ]
    }
   ],
   "source": [
    "print(classification_report(diabets_predict, y_test))\n"
   ]
  }
 ],
 "metadata": {
  "kernelspec": {
   "display_name": "Python 3",
   "language": "python",
   "name": "python3"
  },
  "language_info": {
   "codemirror_mode": {
    "name": "ipython",
    "version": 3
   },
   "file_extension": ".py",
   "mimetype": "text/x-python",
   "name": "python",
   "nbconvert_exporter": "python",
   "pygments_lexer": "ipython3",
   "version": "3.9.2"
  },
  "orig_nbformat": 4
 },
 "nbformat": 4,
 "nbformat_minor": 2
}

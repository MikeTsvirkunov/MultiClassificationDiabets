{
 "cells": [
  {
   "cell_type": "code",
   "execution_count": 14,
   "metadata": {},
   "outputs": [],
   "source": [
    "import pandas as pd\n",
    "import matplotlib.pyplot as plt\n",
    "import numpy as np\n",
    "from sklearn.model_selection import train_test_split\n",
    "import tensorflow as tf\n",
    "from sklearn.metrics import accuracy_score, confusion_matrix, classification_report, roc_curve, RocCurveDisplay, auc\n",
    "from sklearn.preprocessing import OneHotEncoder\n"
   ]
  },
  {
   "cell_type": "code",
   "execution_count": 15,
   "metadata": {},
   "outputs": [],
   "source": [
    "diabets_classes = pd.read_csv('../../DATA/down_sampling.csv', index_col=False)\n",
    "diabets_x = diabets_classes.drop(['diabets'], axis=1)\n",
    "diabets = OneHotEncoder(sparse_output=False).fit_transform(diabets_classes['diabets'].to_numpy().T.reshape(-1, 1))\n"
   ]
  },
  {
   "cell_type": "code",
   "execution_count": 16,
   "metadata": {},
   "outputs": [],
   "source": [
    "x_train, x_test, y_train, y_test = train_test_split(diabets_x, diabets, test_size=0.25)"
   ]
  },
  {
   "cell_type": "code",
   "execution_count": 20,
   "metadata": {},
   "outputs": [],
   "source": [
    "def get_model(X_train, y_train):\n",
    "    diabets_classifier = tf.keras.models.Sequential()\n",
    "    diabets_classifier.add(tf.keras.layers.Dense(X_train.shape[1],\n",
    "                                                activation='sigmoid',\n",
    "                                                input_shape=(X_train.shape[1],),\n",
    "                                                name='input',\n",
    "                                                # kernel_regularizer=tf.keras.regularizers.L2(l2=1),\n",
    "                                                #   kernel_constraint=tf.keras.constraints.max_norm(1000.),\n",
    "                                                # bias_initializer=tf.keras.initializers.HeNormal,\n",
    "                                                use_bias=True\n",
    "                                                ))\n",
    "    diabets_classifier.add(tf.keras.layers.Dense(X_train.shape[1]*2,\n",
    "                                                activation='sigmoid',\n",
    "                                                name='hidden_layer_2',\n",
    "                                                # kernel_regularizer=tf.keras.regularizers.L2(l2=1),\n",
    "                                                #   kernel_constraint=tf.keras.constraints.max_norm(1000.),\n",
    "                                                # bias_initializer=tf.keras.initializers.HeNormal,\n",
    "                                                use_bias=True\n",
    "                                                ))\n",
    "    diabets_classifier.add(tf.keras.layers.Dense(X_train.shape[1]*3,\n",
    "                                                activation='sigmoid',\n",
    "                                                name='hidden_layer_3',\n",
    "                                                # kernel_regularizer=tf.keras.regularizers.L2(l2=1),\n",
    "                                                #   kernel_constraint=tf.keras.constraints.max_norm(1000.),\n",
    "                                                # bias_initializer=tf.keras.initializers.HeNormal,\n",
    "                                                use_bias=True\n",
    "                                                ))\n",
    "    diabets_classifier.add(tf.keras.layers.Dense(X_train.shape[1]*2,\n",
    "                                                 activation='sigmoid',\n",
    "                                                 name='hidden_layer_4',\n",
    "                                                 # kernel_regularizer=tf.keras.regularizers.L2(l2=1),\n",
    "                                                 #   kernel_constraint=tf.keras.constraints.max_norm(1000.),\n",
    "                                                 # bias_initializer=tf.keras.initializers.HeNormal,\n",
    "                                                 use_bias=True\n",
    "                                                 ))\n",
    "    diabets_classifier.add(tf.keras.layers.Dense(X_train.shape[1]*1,\n",
    "                                                 activation='sigmoid',\n",
    "                                                 name='hidden_layer_5',\n",
    "                                                 # kernel_regularizer=tf.keras.regularizers.L2(l2=1),\n",
    "                                                 #   kernel_constraint=tf.keras.constraints.max_norm(1000.),\n",
    "                                                 # bias_initializer=tf.keras.initializers.HeNormal,\n",
    "                                                 use_bias=True\n",
    "                                                 ))\n",
    "    diabets_classifier.add(tf.keras.layers.Dense(X_train.shape[1]//2,\n",
    "                                                 activation='sigmoid',\n",
    "                                                 name='hidden_layer_6',\n",
    "                                                 # kernel_regularizer=tf.keras.regularizers.L2(l2=1),\n",
    "                                                 #   kernel_constraint=tf.keras.constraints.max_norm(1000.),\n",
    "                                                 # bias_initializer=tf.keras.initializers.HeNormal,\n",
    "                                                 use_bias=True\n",
    "                                                 ))\n",
    "    diabets_classifier.add(tf.keras.layers.Dense(3,\n",
    "                                                name='output',\n",
    "                                                activation='softmax',\n",
    "                                                # kernel_regularizer=tf.keras.regularizers.L2(l2=1),\n",
    "                                                #   kernel_constraint=tf.keras.constraints.max_norm(1000.),\n",
    "                                                # bias_initializer=tf.keras.initializers.HeNormal,\n",
    "                                                use_bias=True\n",
    "                                                ))\n",
    "    diabets_classifier.summary()\n",
    "    diabets_classifier.compile(\n",
    "        optimizer='Adam',\n",
    "        loss='categorical_crossentropy',\n",
    "        metrics=['mse', tf.keras.metrics.FalseNegatives(),\n",
    "                tf.keras.metrics.Recall()]\n",
    "    )\n",
    "    diabets_classifier.fit(\n",
    "        X_train.to_numpy(),\n",
    "        y_train,\n",
    "        validation_split=0.5,\n",
    "        epochs=20,\n",
    "        batch_size=10\n",
    "    )\n",
    "    return diabets_classifier\n"
   ]
  },
  {
   "attachments": {},
   "cell_type": "markdown",
   "metadata": {},
   "source": [
    "# Diabets KNN"
   ]
  },
  {
   "cell_type": "code",
   "execution_count": 21,
   "metadata": {},
   "outputs": [
    {
     "name": "stdout",
     "output_type": "stream",
     "text": [
      "Model: \"sequential_3\"\n",
      "_________________________________________________________________\n",
      " Layer (type)                Output Shape              Param #   \n",
      "=================================================================\n",
      " input (Dense)               (None, 10)                110       \n",
      "                                                                 \n",
      " hidden_layer_2 (Dense)      (None, 20)                220       \n",
      "                                                                 \n",
      " hidden_layer_3 (Dense)      (None, 30)                630       \n",
      "                                                                 \n",
      " hidden_layer_4 (Dense)      (None, 20)                620       \n",
      "                                                                 \n",
      " hidden_layer_5 (Dense)      (None, 10)                210       \n",
      "                                                                 \n",
      " hidden_layer_6 (Dense)      (None, 5)                 55        \n",
      "                                                                 \n",
      " output (Dense)              (None, 3)                 18        \n",
      "                                                                 \n",
      "=================================================================\n",
      "Total params: 1,863\n",
      "Trainable params: 1,863\n",
      "Non-trainable params: 0\n",
      "_________________________________________________________________\n",
      "Epoch 1/20\n",
      "521/521 [==============================] - 3s 3ms/step - loss: 1.1141 - mse: 0.2258 - false_negatives_3: 5019.0000 - recall_3: 0.0365 - val_loss: 1.0986 - val_mse: 0.2222 - val_false_negatives_3: 5210.0000 - val_recall_3: 0.0000e+00\n",
      "Epoch 2/20\n",
      "521/521 [==============================] - 1s 2ms/step - loss: 1.0993 - mse: 0.2224 - false_negatives_3: 5209.0000 - recall_3: 0.0000e+00 - val_loss: 1.0988 - val_mse: 0.2223 - val_false_negatives_3: 5210.0000 - val_recall_3: 0.0000e+00\n",
      "Epoch 3/20\n",
      "521/521 [==============================] - 1s 3ms/step - loss: 1.0993 - mse: 0.2224 - false_negatives_3: 5209.0000 - recall_3: 0.0000e+00 - val_loss: 1.0994 - val_mse: 0.2224 - val_false_negatives_3: 5210.0000 - val_recall_3: 0.0000e+00\n",
      "Epoch 4/20\n",
      "521/521 [==============================] - 1s 3ms/step - loss: 1.0986 - mse: 0.2222 - false_negatives_3: 5209.0000 - recall_3: 0.0000e+00 - val_loss: 1.0977 - val_mse: 0.2220 - val_false_negatives_3: 5210.0000 - val_recall_3: 0.0000e+00\n",
      "Epoch 5/20\n",
      "521/521 [==============================] - 1s 3ms/step - loss: 1.0743 - mse: 0.2168 - false_negatives_3: 5209.0000 - recall_3: 0.0000e+00 - val_loss: 1.0435 - val_mse: 0.2099 - val_false_negatives_3: 5210.0000 - val_recall_3: 0.0000e+00\n",
      "Epoch 6/20\n",
      "521/521 [==============================] - 1s 2ms/step - loss: 1.0306 - mse: 0.2071 - false_negatives_3: 4654.0000 - recall_3: 0.1065 - val_loss: 1.0240 - val_mse: 0.2054 - val_false_negatives_3: 4413.0000 - val_recall_3: 0.1530\n",
      "Epoch 7/20\n",
      "521/521 [==============================] - 1s 2ms/step - loss: 1.0207 - mse: 0.2049 - false_negatives_3: 4327.0000 - recall_3: 0.1693 - val_loss: 1.0286 - val_mse: 0.2066 - val_false_negatives_3: 4222.0000 - val_recall_3: 0.1896\n",
      "Epoch 8/20\n",
      "521/521 [==============================] - 1s 2ms/step - loss: 1.0185 - mse: 0.2044 - false_negatives_3: 4324.0000 - recall_3: 0.1699 - val_loss: 1.0190 - val_mse: 0.2044 - val_false_negatives_3: 4338.0000 - val_recall_3: 0.1674\n",
      "Epoch 9/20\n",
      "521/521 [==============================] - 1s 2ms/step - loss: 1.0155 - mse: 0.2037 - false_negatives_3: 4351.0000 - recall_3: 0.1647 - val_loss: 1.0144 - val_mse: 0.2033 - val_false_negatives_3: 4412.0000 - val_recall_3: 0.1532\n",
      "Epoch 10/20\n",
      "521/521 [==============================] - 1s 2ms/step - loss: 1.0137 - mse: 0.2033 - false_negatives_3: 4382.0000 - recall_3: 0.1588 - val_loss: 1.0126 - val_mse: 0.2029 - val_false_negatives_3: 4401.0000 - val_recall_3: 0.1553\n",
      "Epoch 11/20\n",
      "521/521 [==============================] - 1s 2ms/step - loss: 1.0108 - mse: 0.2027 - false_negatives_3: 4377.0000 - recall_3: 0.1597 - val_loss: 1.0095 - val_mse: 0.2022 - val_false_negatives_3: 4413.0000 - val_recall_3: 0.1530\n",
      "Epoch 12/20\n",
      "521/521 [==============================] - 1s 2ms/step - loss: 1.0085 - mse: 0.2022 - false_negatives_3: 4404.0000 - recall_3: 0.1545 - val_loss: 1.0068 - val_mse: 0.2016 - val_false_negatives_3: 4448.0000 - val_recall_3: 0.1463\n",
      "Epoch 13/20\n",
      "521/521 [==============================] - 1s 2ms/step - loss: 1.0061 - mse: 0.2016 - false_negatives_3: 4423.0000 - recall_3: 0.1509 - val_loss: 1.0065 - val_mse: 0.2015 - val_false_negatives_3: 4383.0000 - val_recall_3: 0.1587\n",
      "Epoch 14/20\n",
      "521/521 [==============================] - 1s 3ms/step - loss: 1.0045 - mse: 0.2013 - false_negatives_3: 4427.0000 - recall_3: 0.1501 - val_loss: 1.0020 - val_mse: 0.2006 - val_false_negatives_3: 4509.0000 - val_recall_3: 0.1345\n",
      "Epoch 15/20\n",
      "521/521 [==============================] - 1s 3ms/step - loss: 1.0032 - mse: 0.2010 - false_negatives_3: 4448.0000 - recall_3: 0.1461 - val_loss: 1.0003 - val_mse: 0.2002 - val_false_negatives_3: 4495.0000 - val_recall_3: 0.1372\n",
      "Epoch 16/20\n",
      "521/521 [==============================] - 1s 2ms/step - loss: 1.0012 - mse: 0.2006 - false_negatives_3: 4366.0000 - recall_3: 0.1618 - val_loss: 0.9991 - val_mse: 0.2000 - val_false_negatives_3: 4277.0000 - val_recall_3: 0.1791\n",
      "Epoch 17/20\n",
      "521/521 [==============================] - 1s 2ms/step - loss: 1.0003 - mse: 0.2004 - false_negatives_3: 4386.0000 - recall_3: 0.1580 - val_loss: 0.9970 - val_mse: 0.1995 - val_false_negatives_3: 4462.0000 - val_recall_3: 0.1436\n",
      "Epoch 18/20\n",
      "521/521 [==============================] - 1s 2ms/step - loss: 0.9985 - mse: 0.2000 - false_negatives_3: 4392.0000 - recall_3: 0.1568 - val_loss: 0.9954 - val_mse: 0.1992 - val_false_negatives_3: 4413.0000 - val_recall_3: 0.1530\n",
      "Epoch 19/20\n",
      "521/521 [==============================] - 1s 3ms/step - loss: 0.9976 - mse: 0.1998 - false_negatives_3: 4394.0000 - recall_3: 0.1565 - val_loss: 0.9980 - val_mse: 0.1998 - val_false_negatives_3: 4143.0000 - val_recall_3: 0.2048\n",
      "Epoch 20/20\n",
      "521/521 [==============================] - 1s 2ms/step - loss: 0.9959 - mse: 0.1994 - false_negatives_3: 4348.0000 - recall_3: 0.1653 - val_loss: 0.9930 - val_mse: 0.1988 - val_false_negatives_3: 4223.0000 - val_recall_3: 0.1894\n"
     ]
    }
   ],
   "source": [
    "diabets_classifier = get_model(x_train, y_train)\n"
   ]
  },
  {
   "cell_type": "code",
   "execution_count": 26,
   "metadata": {},
   "outputs": [
    {
     "name": "stdout",
     "output_type": "stream",
     "text": [
      "109/109 [==============================] - 0s 1ms/step\n"
     ]
    },
    {
     "data": {
      "text/plain": [
       "array([1, 0, 1, ..., 1, 0, 0], dtype=int64)"
      ]
     },
     "execution_count": 26,
     "metadata": {},
     "output_type": "execute_result"
    }
   ],
   "source": [
    "diabets_predict = diabets_classifier.predict(x_test).argmax(axis=1)\n",
    "diabets_predict\n",
    "# 1 min\n"
   ]
  },
  {
   "cell_type": "code",
   "execution_count": 29,
   "metadata": {},
   "outputs": [
    {
     "name": "stdout",
     "output_type": "stream",
     "text": [
      "              precision    recall  f1-score   support\n",
      "\n",
      "           0       0.53      0.55      0.54      1098\n",
      "           1       0.68      0.44      0.54      1767\n",
      "           2       0.20      0.40      0.27       609\n",
      "\n",
      "    accuracy                           0.47      3474\n",
      "   macro avg       0.47      0.46      0.45      3474\n",
      "weighted avg       0.55      0.47      0.49      3474\n",
      "\n"
     ]
    }
   ],
   "source": [
    "print(classification_report(diabets_predict, y_test.argmax(axis=1)))\n"
   ]
  }
 ],
 "metadata": {
  "kernelspec": {
   "display_name": "Python 3",
   "language": "python",
   "name": "python3"
  },
  "language_info": {
   "codemirror_mode": {
    "name": "ipython",
    "version": 3
   },
   "file_extension": ".py",
   "mimetype": "text/x-python",
   "name": "python",
   "nbconvert_exporter": "python",
   "pygments_lexer": "ipython3",
   "version": "3.9.2"
  },
  "orig_nbformat": 4
 },
 "nbformat": 4,
 "nbformat_minor": 2
}

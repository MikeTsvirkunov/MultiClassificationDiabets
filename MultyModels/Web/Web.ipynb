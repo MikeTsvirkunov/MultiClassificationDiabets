{
 "cells": [
  {
   "cell_type": "code",
   "execution_count": 34,
   "metadata": {},
   "outputs": [],
   "source": [
    "import pandas as pd\n",
    "import matplotlib.pyplot as plt\n",
    "import numpy as np\n",
    "from sklearn.model_selection import train_test_split\n",
    "import tensorflow as tf\n",
    "from sklearn.metrics import accuracy_score, confusion_matrix, classification_report, roc_curve, RocCurveDisplay, auc\n",
    "from sklearn.preprocessing import OneHotEncoder\n"
   ]
  },
  {
   "cell_type": "code",
   "execution_count": 35,
   "metadata": {},
   "outputs": [],
   "source": [
    "diabets_classes = pd.read_csv('../../DATA/down_sampling.csv', index_col=False)\n",
    "diabets_x = diabets_classes.drop(['diabets'], axis=1)\n",
    "diabets = OneHotEncoder(sparse_output=False).fit_transform(diabets_classes['diabets'].to_numpy().T.reshape(-1, 1))\n"
   ]
  },
  {
   "cell_type": "code",
   "execution_count": 36,
   "metadata": {},
   "outputs": [],
   "source": [
    "x_train, x_test, y_train, y_test = train_test_split(diabets_x, diabets, test_size=0.25)"
   ]
  },
  {
   "cell_type": "code",
   "execution_count": 37,
   "metadata": {},
   "outputs": [],
   "source": [
    "def get_model(X_train, y_train):\n",
    "    diabets_classifier = tf.keras.models.Sequential()\n",
    "    diabets_classifier.add(tf.keras.layers.Dense(X_train.shape[1],\n",
    "                                                activation='relu',\n",
    "                                                input_shape=(X_train.shape[1],),\n",
    "                                                name='input',\n",
    "                                                # kernel_regularizer=tf.keras.regularizers.L2(l2=1),\n",
    "                                                #   kernel_constraint=tf.keras.constraints.max_norm(1000.),\n",
    "                                                # bias_initializer=tf.keras.initializers.HeNormal,\n",
    "                                                use_bias=True\n",
    "                                                ))\n",
    "    diabets_classifier.add(tf.keras.layers.Dense(X_train.shape[1]*2,\n",
    "                                                activation='relu',\n",
    "                                                name='hidden_layer_2',\n",
    "                                                # kernel_regularizer=tf.keras.regularizers.L2(l2=1),\n",
    "                                                #   kernel_constraint=tf.keras.constraints.max_norm(1000.),\n",
    "                                                # bias_initializer=tf.keras.initializers.HeNormal,\n",
    "                                                use_bias=True\n",
    "                                                ))\n",
    "    diabets_classifier.add(tf.keras.layers.Dense(X_train.shape[1]*3,\n",
    "                                                activation='relu',\n",
    "                                                name='hidden_layer_3',\n",
    "                                                # kernel_regularizer=tf.keras.regularizers.L2(l2=1),\n",
    "                                                #   kernel_constraint=tf.keras.constraints.max_norm(1000.),\n",
    "                                                # bias_initializer=tf.keras.initializers.HeNormal,\n",
    "                                                use_bias=True\n",
    "                                                ))\n",
    "    diabets_classifier.add(tf.keras.layers.Dense(X_train.shape[1]*2,\n",
    "                                                 activation='relu',\n",
    "                                                 name='hidden_layer_4',\n",
    "                                                 # kernel_regularizer=tf.keras.regularizers.L2(l2=1),\n",
    "                                                 #   kernel_constraint=tf.keras.constraints.max_norm(1000.),\n",
    "                                                 # bias_initializer=tf.keras.initializers.HeNormal,\n",
    "                                                 use_bias=True\n",
    "                                                 ))\n",
    "    diabets_classifier.add(tf.keras.layers.Dense(X_train.shape[1]*1,\n",
    "                                                 activation='sigmoid',\n",
    "                                                 name='hidden_layer_5',\n",
    "                                                 # kernel_regularizer=tf.keras.regularizers.L2(l2=1),\n",
    "                                                 #   kernel_constraint=tf.keras.constraints.max_norm(1000.),\n",
    "                                                 # bias_initializer=tf.keras.initializers.HeNormal,\n",
    "                                                 use_bias=True\n",
    "                                                 ))\n",
    "    diabets_classifier.add(tf.keras.layers.Dense(X_train.shape[1]//2,\n",
    "                                                 activation='tanh',\n",
    "                                                 name='hidden_layer_6',\n",
    "                                                 # kernel_regularizer=tf.keras.regularizers.L2(l2=1),\n",
    "                                                 #   kernel_constraint=tf.keras.constraints.max_norm(1000.),\n",
    "                                                 # bias_initializer=tf.keras.initializers.HeNormal,\n",
    "                                                 use_bias=True\n",
    "                                                 ))\n",
    "    diabets_classifier.add(tf.keras.layers.Dense(3,\n",
    "                                                name='output',\n",
    "                                                activation='sigmoid',\n",
    "                                                # kernel_regularizer=tf.keras.regularizers.L2(l2=1),\n",
    "                                                #   kernel_constraint=tf.keras.constraints.max_norm(1000.),\n",
    "                                                # bias_initializer=tf.keras.initializers.HeNormal,\n",
    "                                                use_bias=True\n",
    "                                                ))\n",
    "    diabets_classifier.summary()\n",
    "    diabets_classifier.compile(\n",
    "        optimizer='Adam',\n",
    "        loss='categorical_crossentropy',\n",
    "        metrics=['mse', tf.keras.metrics.FalseNegatives(),\n",
    "                tf.keras.metrics.Recall()]\n",
    "    )\n",
    "    diabets_classifier.fit(\n",
    "        X_train.to_numpy(),\n",
    "        y_train,\n",
    "        validation_split=0.25,\n",
    "        epochs=30,\n",
    "        batch_size=45\n",
    "    )\n",
    "    return diabets_classifier\n"
   ]
  },
  {
   "attachments": {},
   "cell_type": "markdown",
   "metadata": {},
   "source": [
    "# Diabets KNN"
   ]
  },
  {
   "cell_type": "code",
   "execution_count": 38,
   "metadata": {},
   "outputs": [
    {
     "name": "stdout",
     "output_type": "stream",
     "text": [
      "Model: \"sequential_7\"\n",
      "_________________________________________________________________\n",
      " Layer (type)                Output Shape              Param #   \n",
      "=================================================================\n",
      " input (Dense)               (None, 21)                462       \n",
      "                                                                 \n",
      " hidden_layer_2 (Dense)      (None, 42)                924       \n",
      "                                                                 \n",
      " hidden_layer_3 (Dense)      (None, 63)                2709      \n",
      "                                                                 \n",
      " hidden_layer_4 (Dense)      (None, 42)                2688      \n",
      "                                                                 \n",
      " hidden_layer_5 (Dense)      (None, 21)                903       \n",
      "                                                                 \n",
      " hidden_layer_6 (Dense)      (None, 10)                220       \n",
      "                                                                 \n",
      " output (Dense)              (None, 3)                 33        \n",
      "                                                                 \n",
      "=================================================================\n",
      "Total params: 7,939\n",
      "Trainable params: 7,939\n",
      "Non-trainable params: 0\n",
      "_________________________________________________________________\n",
      "Epoch 1/30\n",
      "8014/8014 [==============================] - 16s 2ms/step - loss: 0.9376 - mse: 0.2369 - false_negatives_7: 51595.0000 - recall_7: 0.8569 - val_loss: 0.9223 - val_mse: 0.2381 - val_false_negatives_7: 15938.0000 - val_recall_7: 0.8674\n",
      "Epoch 2/30\n",
      "8014/8014 [==============================] - 15s 2ms/step - loss: 0.9116 - mse: 0.2301 - false_negatives_7: 54669.0000 - recall_7: 0.8484 - val_loss: 0.9076 - val_mse: 0.2266 - val_false_negatives_7: 21479.0000 - val_recall_7: 0.8213\n",
      "Epoch 3/30\n",
      "8014/8014 [==============================] - 15s 2ms/step - loss: 0.8943 - mse: 0.2235 - false_negatives_7: 63180.0000 - recall_7: 0.8248 - val_loss: 0.8863 - val_mse: 0.2239 - val_false_negatives_7: 20968.0000 - val_recall_7: 0.8256\n",
      "Epoch 4/30\n",
      "8014/8014 [==============================] - 15s 2ms/step - loss: 0.8781 - mse: 0.2182 - false_negatives_7: 68164.0000 - recall_7: 0.8110 - val_loss: 0.8798 - val_mse: 0.2217 - val_false_negatives_7: 22885.0000 - val_recall_7: 0.8096\n",
      "Epoch 5/30\n",
      "8014/8014 [==============================] - 15s 2ms/step - loss: 0.8613 - mse: 0.2146 - false_negatives_7: 69638.0000 - recall_7: 0.8069 - val_loss: 0.8566 - val_mse: 0.2122 - val_false_negatives_7: 23465.0000 - val_recall_7: 0.8048\n",
      "Epoch 6/30\n",
      "8014/8014 [==============================] - 15s 2ms/step - loss: 0.8464 - mse: 0.2109 - false_negatives_7: 72312.0000 - recall_7: 0.7995 - val_loss: 0.8495 - val_mse: 0.2153 - val_false_negatives_7: 23796.0000 - val_recall_7: 0.8020\n",
      "Epoch 7/30\n",
      "8014/8014 [==============================] - 15s 2ms/step - loss: 0.8333 - mse: 0.2082 - false_negatives_7: 73632.0000 - recall_7: 0.7958 - val_loss: 0.8360 - val_mse: 0.2098 - val_false_negatives_7: 24702.0000 - val_recall_7: 0.7945\n",
      "Epoch 8/30\n",
      "8014/8014 [==============================] - 15s 2ms/step - loss: 0.8221 - mse: 0.2059 - false_negatives_7: 75301.0000 - recall_7: 0.7912 - val_loss: 0.8228 - val_mse: 0.2081 - val_false_negatives_7: 25077.0000 - val_recall_7: 0.7914\n",
      "Epoch 9/30\n",
      "8014/8014 [==============================] - 15s 2ms/step - loss: 0.8125 - mse: 0.2031 - false_negatives_7: 78364.0000 - recall_7: 0.7827 - val_loss: 0.8122 - val_mse: 0.2019 - val_false_negatives_7: 26975.0000 - val_recall_7: 0.7756\n",
      "Epoch 10/30\n",
      "8014/8014 [==============================] - 15s 2ms/step - loss: 0.8041 - mse: 0.2014 - false_negatives_7: 79221.0000 - recall_7: 0.7803 - val_loss: 0.8102 - val_mse: 0.2010 - val_false_negatives_7: 26580.0000 - val_recall_7: 0.7789\n",
      "Epoch 11/30\n",
      "8014/8014 [==============================] - 15s 2ms/step - loss: 0.7964 - mse: 0.2001 - false_negatives_7: 79611.0000 - recall_7: 0.7792 - val_loss: 0.8139 - val_mse: 0.2075 - val_false_negatives_7: 26884.0000 - val_recall_7: 0.7764\n",
      "Epoch 12/30\n",
      "8014/8014 [==============================] - 15s 2ms/step - loss: 0.7902 - mse: 0.1998 - false_negatives_7: 78045.0000 - recall_7: 0.7836 - val_loss: 0.7972 - val_mse: 0.2027 - val_false_negatives_7: 25364.0000 - val_recall_7: 0.7890\n",
      "Epoch 13/30\n",
      "8014/8014 [==============================] - 15s 2ms/step - loss: 0.7837 - mse: 0.1999 - false_negatives_7: 75795.0000 - recall_7: 0.7898 - val_loss: 0.8012 - val_mse: 0.2088 - val_false_negatives_7: 25015.0000 - val_recall_7: 0.7919\n",
      "Epoch 14/30\n",
      "8014/8014 [==============================] - 15s 2ms/step - loss: 0.7776 - mse: 0.2001 - false_negatives_7: 73333.0000 - recall_7: 0.7966 - val_loss: 0.7881 - val_mse: 0.2016 - val_false_negatives_7: 26555.0000 - val_recall_7: 0.7791\n",
      "Epoch 15/30\n",
      "8014/8014 [==============================] - 15s 2ms/step - loss: 0.7723 - mse: 0.1990 - false_negatives_7: 74730.0000 - recall_7: 0.7928 - val_loss: 0.7906 - val_mse: 0.2059 - val_false_negatives_7: 25693.0000 - val_recall_7: 0.7863\n",
      "Epoch 16/30\n",
      "8014/8014 [==============================] - 15s 2ms/step - loss: 0.7670 - mse: 0.1989 - false_negatives_7: 72836.0000 - recall_7: 0.7980 - val_loss: 0.7735 - val_mse: 0.1990 - val_false_negatives_7: 24629.0000 - val_recall_7: 0.7951\n",
      "Epoch 17/30\n",
      "8014/8014 [==============================] - 15s 2ms/step - loss: 0.7613 - mse: 0.1984 - false_negatives_7: 72121.0000 - recall_7: 0.8000 - val_loss: 0.7629 - val_mse: 0.1993 - val_false_negatives_7: 23891.0000 - val_recall_7: 0.8013\n",
      "Epoch 18/30\n",
      "8014/8014 [==============================] - 15s 2ms/step - loss: 0.7564 - mse: 0.1981 - false_negatives_7: 71297.0000 - recall_7: 0.8023 - val_loss: 0.7674 - val_mse: 0.1974 - val_false_negatives_7: 24748.0000 - val_recall_7: 0.7941\n",
      "Epoch 19/30\n",
      "8014/8014 [==============================] - 15s 2ms/step - loss: 0.7528 - mse: 0.1984 - false_negatives_7: 70481.0000 - recall_7: 0.8046 - val_loss: 0.7694 - val_mse: 0.2000 - val_false_negatives_7: 25685.0000 - val_recall_7: 0.7863\n",
      "Epoch 20/30\n",
      "8014/8014 [==============================] - 15s 2ms/step - loss: 0.7486 - mse: 0.1985 - false_negatives_7: 69357.0000 - recall_7: 0.8077 - val_loss: 0.7579 - val_mse: 0.2002 - val_false_negatives_7: 23232.0000 - val_recall_7: 0.8067\n",
      "Epoch 21/30\n",
      "8014/8014 [==============================] - 15s 2ms/step - loss: 0.7452 - mse: 0.1995 - false_negatives_7: 67768.0000 - recall_7: 0.8121 - val_loss: 0.7638 - val_mse: 0.1974 - val_false_negatives_7: 24817.0000 - val_recall_7: 0.7935\n",
      "Epoch 22/30\n",
      "8014/8014 [==============================] - 15s 2ms/step - loss: 0.7419 - mse: 0.1985 - false_negatives_7: 68888.0000 - recall_7: 0.8090 - val_loss: 0.7818 - val_mse: 0.2072 - val_false_negatives_7: 24580.0000 - val_recall_7: 0.7955\n",
      "Epoch 23/30\n",
      "8014/8014 [==============================] - 15s 2ms/step - loss: 0.7390 - mse: 0.1989 - false_negatives_7: 68032.0000 - recall_7: 0.8113 - val_loss: 0.7586 - val_mse: 0.2026 - val_false_negatives_7: 23901.0000 - val_recall_7: 0.8012\n",
      "Epoch 24/30\n",
      "8014/8014 [==============================] - 15s 2ms/step - loss: 0.7355 - mse: 0.1979 - false_negatives_7: 68254.0000 - recall_7: 0.8107 - val_loss: 0.7426 - val_mse: 0.2001 - val_false_negatives_7: 22220.0000 - val_recall_7: 0.8152\n",
      "Epoch 25/30\n",
      "8014/8014 [==============================] - 15s 2ms/step - loss: 0.7324 - mse: 0.1983 - false_negatives_7: 67610.0000 - recall_7: 0.8125 - val_loss: 0.7436 - val_mse: 0.2003 - val_false_negatives_7: 22542.0000 - val_recall_7: 0.8125\n",
      "Epoch 26/30\n",
      "8014/8014 [==============================] - 15s 2ms/step - loss: 0.7303 - mse: 0.1976 - false_negatives_7: 68130.0000 - recall_7: 0.8111 - val_loss: 0.7378 - val_mse: 0.1994 - val_false_negatives_7: 23235.0000 - val_recall_7: 0.8067\n",
      "Epoch 27/30\n",
      "8014/8014 [==============================] - 15s 2ms/step - loss: 0.7278 - mse: 0.1983 - false_negatives_7: 66989.0000 - recall_7: 0.8142 - val_loss: 0.7433 - val_mse: 0.1999 - val_false_negatives_7: 23124.0000 - val_recall_7: 0.8076\n",
      "Epoch 28/30\n",
      "8014/8014 [==============================] - 15s 2ms/step - loss: 0.7255 - mse: 0.1981 - false_negatives_7: 66662.0000 - recall_7: 0.8151 - val_loss: 0.7424 - val_mse: 0.1963 - val_false_negatives_7: 23655.0000 - val_recall_7: 0.8032\n",
      "Epoch 29/30\n",
      "8014/8014 [==============================] - 15s 2ms/step - loss: 0.7238 - mse: 0.1985 - false_negatives_7: 65118.0000 - recall_7: 0.8194 - val_loss: 0.7345 - val_mse: 0.1994 - val_false_negatives_7: 22829.0000 - val_recall_7: 0.8101\n",
      "Epoch 30/30\n",
      "8014/8014 [==============================] - 15s 2ms/step - loss: 0.7221 - mse: 0.1985 - false_negatives_7: 65846.0000 - recall_7: 0.8174 - val_loss: 0.7412 - val_mse: 0.2019 - val_false_negatives_7: 22518.0000 - val_recall_7: 0.8127\n"
     ]
    }
   ],
   "source": [
    "diabets_classifier = get_model(x_train, y_train)\n"
   ]
  },
  {
   "cell_type": "code",
   "execution_count": 41,
   "metadata": {},
   "outputs": [
    {
     "name": "stdout",
     "output_type": "stream",
     "text": [
      "5009/5009 [==============================] - 6s 1ms/step\n"
     ]
    },
    {
     "data": {
      "text/plain": [
       "array([0, 2, 2, ..., 0, 2, 0], dtype=int64)"
      ]
     },
     "execution_count": 41,
     "metadata": {},
     "output_type": "execute_result"
    }
   ],
   "source": [
    "diabets_predict = diabets_classifier.predict(x_test).argmax(axis=1)\n",
    "diabets_predict\n",
    "# 1 min\n"
   ]
  },
  {
   "cell_type": "code",
   "execution_count": 42,
   "metadata": {},
   "outputs": [
    {
     "name": "stdout",
     "output_type": "stream",
     "text": [
      "              precision    recall  f1-score   support\n",
      "\n",
      "           0       0.65      0.73      0.68     47459\n",
      "           1       0.58      0.65      0.61     47345\n",
      "           2       0.78      0.64      0.70     65474\n",
      "\n",
      "    accuracy                           0.67    160278\n",
      "   macro avg       0.67      0.67      0.67    160278\n",
      "weighted avg       0.68      0.67      0.67    160278\n",
      "\n"
     ]
    }
   ],
   "source": [
    "print(classification_report(diabets_predict, y_test.argmax(axis=1)))\n"
   ]
  }
 ],
 "metadata": {
  "kernelspec": {
   "display_name": "Python 3",
   "language": "python",
   "name": "python3"
  },
  "language_info": {
   "codemirror_mode": {
    "name": "ipython",
    "version": 3
   },
   "file_extension": ".py",
   "mimetype": "text/x-python",
   "name": "python",
   "nbconvert_exporter": "python",
   "pygments_lexer": "ipython3",
   "version": "3.9.2"
  },
  "orig_nbformat": 4
 },
 "nbformat": 4,
 "nbformat_minor": 2
}

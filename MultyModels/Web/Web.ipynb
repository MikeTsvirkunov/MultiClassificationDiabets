{
 "cells": [
  {
   "cell_type": "code",
   "execution_count": 1,
   "metadata": {},
   "outputs": [],
   "source": [
    "import pandas as pd\n",
    "import matplotlib.pyplot as plt\n",
    "import numpy as np\n",
    "from sklearn.model_selection import train_test_split\n",
    "import tensorflow as tf\n",
    "from sklearn.metrics import accuracy_score, confusion_matrix, classification_report, roc_curve, RocCurveDisplay, auc\n",
    "from sklearn.preprocessing import OneHotEncoder\n"
   ]
  },
  {
   "cell_type": "code",
   "execution_count": 2,
   "metadata": {},
   "outputs": [],
   "source": [
    "diabets_classes = pd.read_csv('../../DATA/down_sampling.csv', index_col=False)\n",
    "diabets_x = diabets_classes.drop(['diabets'], axis=1)\n",
    "diabets = OneHotEncoder(sparse_output=False).fit_transform(diabets_classes['diabets'].to_numpy().T.reshape(-1, 1))\n"
   ]
  },
  {
   "cell_type": "code",
   "execution_count": 3,
   "metadata": {},
   "outputs": [],
   "source": [
    "x_train, x_test, y_train, y_test = train_test_split(diabets_x, diabets, test_size=0.25)"
   ]
  },
  {
   "cell_type": "code",
   "execution_count": 4,
   "metadata": {},
   "outputs": [],
   "source": [
    "def get_model(X_train, y_train):\n",
    "    diabets_classifier = tf.keras.models.Sequential()\n",
    "    diabets_classifier.add(tf.keras.layers.Dense(X_train.shape[1],\n",
    "                                                activation='sigmoid',\n",
    "                                                input_shape=(X_train.shape[1],),\n",
    "                                                name='input',\n",
    "                                                # kernel_regularizer=tf.keras.regularizers.L2(l2=1),\n",
    "                                                #   kernel_constraint=tf.keras.constraints.max_norm(1000.),\n",
    "                                                # bias_initializer=tf.keras.initializers.HeNormal,\n",
    "                                                use_bias=True\n",
    "                                                ))\n",
    "    diabets_classifier.add(tf.keras.layers.Dense(X_train.shape[1]*2,\n",
    "                                                activation='sigmoid',\n",
    "                                                name='hidden_layer_2',\n",
    "                                                # kernel_regularizer=tf.keras.regularizers.L2(l2=1),\n",
    "                                                #   kernel_constraint=tf.keras.constraints.max_norm(1000.),\n",
    "                                                # bias_initializer=tf.keras.initializers.HeNormal,\n",
    "                                                use_bias=True\n",
    "                                                ))\n",
    "    diabets_classifier.add(tf.keras.layers.Dense(X_train.shape[1]*3,\n",
    "                                                activation='sigmoid',\n",
    "                                                name='hidden_layer_3',\n",
    "                                                # kernel_regularizer=tf.keras.regularizers.L2(l2=1),\n",
    "                                                #   kernel_constraint=tf.keras.constraints.max_norm(1000.),\n",
    "                                                # bias_initializer=tf.keras.initializers.HeNormal,\n",
    "                                                use_bias=True\n",
    "                                                ))\n",
    "    diabets_classifier.add(tf.keras.layers.Dense(X_train.shape[1]*2,\n",
    "                                                 activation='sigmoid',\n",
    "                                                 name='hidden_layer_4',\n",
    "                                                 # kernel_regularizer=tf.keras.regularizers.L2(l2=1),\n",
    "                                                 #   kernel_constraint=tf.keras.constraints.max_norm(1000.),\n",
    "                                                 # bias_initializer=tf.keras.initializers.HeNormal,\n",
    "                                                 use_bias=True\n",
    "                                                 ))\n",
    "    diabets_classifier.add(tf.keras.layers.Dense(X_train.shape[1]*1,\n",
    "                                                 activation='sigmoid',\n",
    "                                                 name='hidden_layer_5',\n",
    "                                                 # kernel_regularizer=tf.keras.regularizers.L2(l2=1),\n",
    "                                                 #   kernel_constraint=tf.keras.constraints.max_norm(1000.),\n",
    "                                                 # bias_initializer=tf.keras.initializers.HeNormal,\n",
    "                                                 use_bias=True\n",
    "                                                 ))\n",
    "    diabets_classifier.add(tf.keras.layers.Dense(X_train.shape[1]//2,\n",
    "                                                 activation='sigmoid',\n",
    "                                                 name='hidden_layer_6',\n",
    "                                                 # kernel_regularizer=tf.keras.regularizers.L2(l2=1),\n",
    "                                                 #   kernel_constraint=tf.keras.constraints.max_norm(1000.),\n",
    "                                                 # bias_initializer=tf.keras.initializers.HeNormal,\n",
    "                                                 use_bias=True\n",
    "                                                 ))\n",
    "    diabets_classifier.add(tf.keras.layers.Dense(3,\n",
    "                                                name='output',\n",
    "                                                activation='softmax',\n",
    "                                                # kernel_regularizer=tf.keras.regularizers.L2(l2=1),\n",
    "                                                #   kernel_constraint=tf.keras.constraints.max_norm(1000.),\n",
    "                                                # bias_initializer=tf.keras.initializers.HeNormal,\n",
    "                                                use_bias=True\n",
    "                                                ))\n",
    "    diabets_classifier.summary()\n",
    "    diabets_classifier.compile(\n",
    "        optimizer='Adam',\n",
    "        loss='categorical_crossentropy',\n",
    "        metrics=['mse', tf.keras.metrics.FalseNegatives(),\n",
    "                tf.keras.metrics.Recall()]\n",
    "    )\n",
    "    diabets_classifier.fit(\n",
    "        X_train.to_numpy(),\n",
    "        y_train,\n",
    "        validation_split=0.5,\n",
    "        epochs=20,\n",
    "        batch_size=10\n",
    "    )\n",
    "    return diabets_classifier\n"
   ]
  },
  {
   "attachments": {},
   "cell_type": "markdown",
   "metadata": {},
   "source": [
    "# Diabets KNN"
   ]
  },
  {
   "cell_type": "code",
   "execution_count": 5,
   "metadata": {},
   "outputs": [
    {
     "name": "stdout",
     "output_type": "stream",
     "text": [
      "Model: \"sequential\"\n",
      "_________________________________________________________________\n",
      " Layer (type)                Output Shape              Param #   \n",
      "=================================================================\n",
      " input (Dense)               (None, 17)                306       \n",
      "                                                                 \n",
      " hidden_layer_2 (Dense)      (None, 34)                612       \n",
      "                                                                 \n",
      " hidden_layer_3 (Dense)      (None, 51)                1785      \n",
      "                                                                 \n",
      " hidden_layer_4 (Dense)      (None, 34)                1768      \n",
      "                                                                 \n",
      " hidden_layer_5 (Dense)      (None, 17)                595       \n",
      "                                                                 \n",
      " hidden_layer_6 (Dense)      (None, 8)                 144       \n",
      "                                                                 \n",
      " output (Dense)              (None, 3)                 27        \n",
      "                                                                 \n",
      "=================================================================\n",
      "Total params: 5,237\n",
      "Trainable params: 5,237\n",
      "Non-trainable params: 0\n",
      "_________________________________________________________________\n",
      "Epoch 1/20\n",
      "521/521 [==============================] - 3s 3ms/step - loss: 1.1014 - mse: 0.2228 - false_negatives: 5209.0000 - recall: 0.0000e+00 - val_loss: 1.0979 - val_mse: 0.2221 - val_false_negatives: 5210.0000 - val_recall: 0.0000e+00\n",
      "Epoch 2/20\n",
      "521/521 [==============================] - 1s 2ms/step - loss: 1.0823 - mse: 0.2186 - false_negatives: 5209.0000 - recall: 0.0000e+00 - val_loss: 1.0437 - val_mse: 0.2100 - val_false_negatives: 5210.0000 - val_recall: 0.0000e+00\n",
      "Epoch 3/20\n",
      "521/521 [==============================] - 1s 2ms/step - loss: 1.0296 - mse: 0.2068 - false_negatives: 4507.0000 - recall: 0.1348 - val_loss: 1.0264 - val_mse: 0.2061 - val_false_negatives: 4486.0000 - val_recall: 0.1390\n",
      "Epoch 4/20\n",
      "521/521 [==============================] - 1s 2ms/step - loss: 1.0212 - mse: 0.2049 - false_negatives: 4425.0000 - recall: 0.1505 - val_loss: 1.0228 - val_mse: 0.2053 - val_false_negatives: 4467.0000 - val_recall: 0.1426\n",
      "Epoch 5/20\n",
      "521/521 [==============================] - 1s 2ms/step - loss: 1.0163 - mse: 0.2037 - false_negatives: 4466.0000 - recall: 0.1426 - val_loss: 1.0242 - val_mse: 0.2056 - val_false_negatives: 4405.0000 - val_recall: 0.1545\n",
      "Epoch 6/20\n",
      "521/521 [==============================] - 1s 2ms/step - loss: 1.0132 - mse: 0.2031 - false_negatives: 4479.0000 - recall: 0.1401 - val_loss: 1.0148 - val_mse: 0.2035 - val_false_negatives: 4569.0000 - val_recall: 0.1230\n",
      "Epoch 7/20\n",
      "521/521 [==============================] - 1s 2ms/step - loss: 1.0082 - mse: 0.2020 - false_negatives: 4506.0000 - recall: 0.1350 - val_loss: 1.0110 - val_mse: 0.2026 - val_false_negatives: 4576.0000 - val_recall: 0.1217\n",
      "Epoch 8/20\n",
      "521/521 [==============================] - 1s 2ms/step - loss: 1.0047 - mse: 0.2012 - false_negatives: 4495.0000 - recall: 0.1371 - val_loss: 1.0140 - val_mse: 0.2032 - val_false_negatives: 4435.0000 - val_recall: 0.1488\n",
      "Epoch 9/20\n",
      "521/521 [==============================] - 1s 2ms/step - loss: 1.0023 - mse: 0.2008 - false_negatives: 4505.0000 - recall: 0.1352 - val_loss: 1.0065 - val_mse: 0.2017 - val_false_negatives: 4471.0000 - val_recall: 0.1418\n",
      "Epoch 10/20\n",
      "521/521 [==============================] - 1s 2ms/step - loss: 0.9994 - mse: 0.2002 - false_negatives: 4370.0000 - recall: 0.1611 - val_loss: 1.0081 - val_mse: 0.2021 - val_false_negatives: 4698.0000 - val_recall: 0.0983\n",
      "Epoch 11/20\n",
      "521/521 [==============================] - 1s 3ms/step - loss: 0.9972 - mse: 0.1998 - false_negatives: 4434.0000 - recall: 0.1488 - val_loss: 1.0056 - val_mse: 0.2014 - val_false_negatives: 4479.0000 - val_recall: 0.1403\n",
      "Epoch 12/20\n",
      "521/521 [==============================] - 1s 2ms/step - loss: 0.9970 - mse: 0.1997 - false_negatives: 4333.0000 - recall: 0.1682 - val_loss: 1.0084 - val_mse: 0.2022 - val_false_negatives: 4543.0000 - val_recall: 0.1280\n",
      "Epoch 13/20\n",
      "521/521 [==============================] - 1s 2ms/step - loss: 0.9950 - mse: 0.1993 - false_negatives: 4414.0000 - recall: 0.1526 - val_loss: 1.0072 - val_mse: 0.2021 - val_false_negatives: 3873.0000 - val_recall: 0.2566\n",
      "Epoch 14/20\n",
      "521/521 [==============================] - 1s 2ms/step - loss: 0.9948 - mse: 0.1993 - false_negatives: 4302.0000 - recall: 0.1741 - val_loss: 1.0005 - val_mse: 0.2003 - val_false_negatives: 4352.0000 - val_recall: 0.1647\n",
      "Epoch 15/20\n",
      "521/521 [==============================] - 1s 2ms/step - loss: 0.9932 - mse: 0.1990 - false_negatives: 4232.0000 - recall: 0.1876 - val_loss: 1.0047 - val_mse: 0.2014 - val_false_negatives: 4629.0000 - val_recall: 0.1115\n",
      "Epoch 16/20\n",
      "521/521 [==============================] - 1s 2ms/step - loss: 0.9914 - mse: 0.1986 - false_negatives: 4297.0000 - recall: 0.1751 - val_loss: 1.0046 - val_mse: 0.2011 - val_false_negatives: 4494.0000 - val_recall: 0.1374\n",
      "Epoch 17/20\n",
      "521/521 [==============================] - 1s 2ms/step - loss: 0.9926 - mse: 0.1990 - false_negatives: 4254.0000 - recall: 0.1833 - val_loss: 1.0067 - val_mse: 0.2015 - val_false_negatives: 4418.0000 - val_recall: 0.1520\n",
      "Epoch 18/20\n",
      "521/521 [==============================] - 1s 2ms/step - loss: 0.9918 - mse: 0.1986 - false_negatives: 4256.0000 - recall: 0.1830 - val_loss: 0.9997 - val_mse: 0.2002 - val_false_negatives: 3965.0000 - val_recall: 0.2390\n",
      "Epoch 19/20\n",
      "521/521 [==============================] - 1s 2ms/step - loss: 0.9906 - mse: 0.1985 - false_negatives: 4153.0000 - recall: 0.2027 - val_loss: 0.9993 - val_mse: 0.2002 - val_false_negatives: 4591.0000 - val_recall: 0.1188\n",
      "Epoch 20/20\n",
      "521/521 [==============================] - 1s 2ms/step - loss: 0.9900 - mse: 0.1984 - false_negatives: 4252.0000 - recall: 0.1837 - val_loss: 0.9985 - val_mse: 0.1999 - val_false_negatives: 4193.0000 - val_recall: 0.1952\n"
     ]
    }
   ],
   "source": [
    "diabets_classifier = get_model(x_train, y_train)\n"
   ]
  },
  {
   "cell_type": "code",
   "execution_count": 6,
   "metadata": {},
   "outputs": [
    {
     "name": "stdout",
     "output_type": "stream",
     "text": [
      "109/109 [==============================] - 0s 1ms/step\n"
     ]
    },
    {
     "data": {
      "text/plain": [
       "array([1, 0, 2, ..., 2, 0, 0], dtype=int64)"
      ]
     },
     "execution_count": 6,
     "metadata": {},
     "output_type": "execute_result"
    }
   ],
   "source": [
    "diabets_predict = diabets_classifier.predict(x_test).argmax(axis=1)\n",
    "diabets_predict\n",
    "# 1 min\n"
   ]
  },
  {
   "cell_type": "code",
   "execution_count": 7,
   "metadata": {},
   "outputs": [
    {
     "name": "stdout",
     "output_type": "stream",
     "text": [
      "              precision    recall  f1-score   support\n",
      "\n",
      "           0       0.60      0.58      0.59      1218\n",
      "           1       0.63      0.47      0.54      1527\n",
      "           2       0.24      0.37      0.29       729\n",
      "\n",
      "    accuracy                           0.49      3474\n",
      "   macro avg       0.49      0.48      0.47      3474\n",
      "weighted avg       0.54      0.49      0.51      3474\n",
      "\n"
     ]
    }
   ],
   "source": [
    "print(classification_report(diabets_predict, y_test.argmax(axis=1)))\n"
   ]
  }
 ],
 "metadata": {
  "kernelspec": {
   "display_name": "Python 3",
   "language": "python",
   "name": "python3"
  },
  "language_info": {
   "codemirror_mode": {
    "name": "ipython",
    "version": 3
   },
   "file_extension": ".py",
   "mimetype": "text/x-python",
   "name": "python",
   "nbconvert_exporter": "python",
   "pygments_lexer": "ipython3",
   "version": "3.9.2"
  },
  "orig_nbformat": 4
 },
 "nbformat": 4,
 "nbformat_minor": 2
}

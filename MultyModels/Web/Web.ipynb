{
 "cells": [
  {
   "cell_type": "code",
   "execution_count": 1,
   "metadata": {},
   "outputs": [],
   "source": [
    "import pandas as pd\n",
    "import matplotlib.pyplot as plt\n",
    "import numpy as np\n",
    "from sklearn.model_selection import train_test_split\n",
    "import tensorflow as tf\n",
    "from sklearn.metrics import accuracy_score, confusion_matrix, classification_report, roc_curve, RocCurveDisplay, auc\n",
    "from sklearn.preprocessing import OneHotEncoder\n"
   ]
  },
  {
   "cell_type": "code",
   "execution_count": 2,
   "metadata": {},
   "outputs": [],
   "source": [
    "diabets_classes = pd.read_csv('../../DATA/down_sampling.csv', index_col=False)\n",
    "diabets_x = diabets_classes.drop(['diabets'], axis=1)\n",
    "diabets = OneHotEncoder(sparse_output=False).fit_transform(diabets_classes['diabets'].to_numpy().T.reshape(-1, 1))\n"
   ]
  },
  {
   "cell_type": "code",
   "execution_count": 3,
   "metadata": {},
   "outputs": [],
   "source": [
    "x_train, x_test, y_train, y_test = train_test_split(diabets_x, diabets, test_size=0.25)"
   ]
  },
  {
   "cell_type": "code",
   "execution_count": 4,
   "metadata": {},
   "outputs": [],
   "source": [
    "def get_model(X_train, y_train):\n",
    "    diabets_classifier = tf.keras.models.Sequential()\n",
    "    diabets_classifier.add(tf.keras.layers.Dense(X_train.shape[1],\n",
    "                                                activation='sigmoid',\n",
    "                                                input_shape=(X_train.shape[1],),\n",
    "                                                name='input',\n",
    "                                                # kernel_regularizer=tf.keras.regularizers.L2(l2=1),\n",
    "                                                #   kernel_constraint=tf.keras.constraints.max_norm(1000.),\n",
    "                                                # bias_initializer=tf.keras.initializers.HeNormal,\n",
    "                                                use_bias=True\n",
    "                                                ))\n",
    "    diabets_classifier.add(tf.keras.layers.Dense(X_train.shape[1]*2,\n",
    "                                                activation='sigmoid',\n",
    "                                                name='hidden_layer_2',\n",
    "                                                # kernel_regularizer=tf.keras.regularizers.L2(l2=1),\n",
    "                                                #   kernel_constraint=tf.keras.constraints.max_norm(1000.),\n",
    "                                                # bias_initializer=tf.keras.initializers.HeNormal,\n",
    "                                                use_bias=True\n",
    "                                                ))\n",
    "    diabets_classifier.add(tf.keras.layers.Dense(X_train.shape[1]*3,\n",
    "                                                activation='sigmoid',\n",
    "                                                name='hidden_layer_3',\n",
    "                                                # kernel_regularizer=tf.keras.regularizers.L2(l2=1),\n",
    "                                                #   kernel_constraint=tf.keras.constraints.max_norm(1000.),\n",
    "                                                # bias_initializer=tf.keras.initializers.HeNormal,\n",
    "                                                use_bias=True\n",
    "                                                ))\n",
    "    diabets_classifier.add(tf.keras.layers.Dense(X_train.shape[1]*2,\n",
    "                                                 activation='sigmoid',\n",
    "                                                 name='hidden_layer_4',\n",
    "                                                 # kernel_regularizer=tf.keras.regularizers.L2(l2=1),\n",
    "                                                 #   kernel_constraint=tf.keras.constraints.max_norm(1000.),\n",
    "                                                 # bias_initializer=tf.keras.initializers.HeNormal,\n",
    "                                                 use_bias=True\n",
    "                                                 ))\n",
    "    diabets_classifier.add(tf.keras.layers.Dense(X_train.shape[1]*1,\n",
    "                                                 activation='sigmoid',\n",
    "                                                 name='hidden_layer_5',\n",
    "                                                 # kernel_regularizer=tf.keras.regularizers.L2(l2=1),\n",
    "                                                 #   kernel_constraint=tf.keras.constraints.max_norm(1000.),\n",
    "                                                 # bias_initializer=tf.keras.initializers.HeNormal,\n",
    "                                                 use_bias=True\n",
    "                                                 ))\n",
    "    diabets_classifier.add(tf.keras.layers.Dense(X_train.shape[1]//2,\n",
    "                                                 activation='sigmoid',\n",
    "                                                 name='hidden_layer_6',\n",
    "                                                 # kernel_regularizer=tf.keras.regularizers.L2(l2=1),\n",
    "                                                 #   kernel_constraint=tf.keras.constraints.max_norm(1000.),\n",
    "                                                 # bias_initializer=tf.keras.initializers.HeNormal,\n",
    "                                                 use_bias=True\n",
    "                                                 ))\n",
    "    diabets_classifier.add(tf.keras.layers.Dense(3,\n",
    "                                                name='output',\n",
    "                                                activation='softmax',\n",
    "                                                # kernel_regularizer=tf.keras.regularizers.L2(l2=1),\n",
    "                                                #   kernel_constraint=tf.keras.constraints.max_norm(1000.),\n",
    "                                                # bias_initializer=tf.keras.initializers.HeNormal,\n",
    "                                                use_bias=True\n",
    "                                                ))\n",
    "    diabets_classifier.summary()\n",
    "    diabets_classifier.compile(\n",
    "        optimizer='Adam',\n",
    "        loss='categorical_crossentropy',\n",
    "        metrics=['mse', tf.keras.metrics.FalseNegatives(),\n",
    "                tf.keras.metrics.Recall()]\n",
    "    )\n",
    "    diabets_classifier.fit(\n",
    "        X_train.to_numpy(),\n",
    "        y_train,\n",
    "        validation_split=0.5,\n",
    "        epochs=20,\n",
    "        batch_size=10\n",
    "    )\n",
    "    return diabets_classifier\n"
   ]
  },
  {
   "attachments": {},
   "cell_type": "markdown",
   "metadata": {},
   "source": [
    "# Diabets KNN"
   ]
  },
  {
   "cell_type": "code",
   "execution_count": 5,
   "metadata": {},
   "outputs": [
    {
     "name": "stdout",
     "output_type": "stream",
     "text": [
      "Model: \"sequential\"\n",
      "_________________________________________________________________\n",
      " Layer (type)                Output Shape              Param #   \n",
      "=================================================================\n",
      " input (Dense)               (None, 21)                462       \n",
      "                                                                 \n",
      " hidden_layer_2 (Dense)      (None, 42)                924       \n",
      "                                                                 \n",
      " hidden_layer_3 (Dense)      (None, 63)                2709      \n",
      "                                                                 \n",
      " hidden_layer_4 (Dense)      (None, 42)                2688      \n",
      "                                                                 \n",
      " hidden_layer_5 (Dense)      (None, 21)                903       \n",
      "                                                                 \n",
      " hidden_layer_6 (Dense)      (None, 10)                220       \n",
      "                                                                 \n",
      " output (Dense)              (None, 3)                 33        \n",
      "                                                                 \n",
      "=================================================================\n",
      "Total params: 7,939\n",
      "Trainable params: 7,939\n",
      "Non-trainable params: 0\n",
      "_________________________________________________________________\n",
      "Epoch 1/20\n",
      "521/521 [==============================] - 3s 3ms/step - loss: 1.1142 - mse: 0.2247 - false_negatives: 5133.0000 - recall: 0.0146 - val_loss: 1.1009 - val_mse: 0.2228 - val_false_negatives: 5210.0000 - val_recall: 0.0000e+00\n",
      "Epoch 2/20\n",
      "521/521 [==============================] - 1s 3ms/step - loss: 1.0999 - mse: 0.2225 - false_negatives: 5209.0000 - recall: 0.0000e+00 - val_loss: 1.0984 - val_mse: 0.2222 - val_false_negatives: 5210.0000 - val_recall: 0.0000e+00\n",
      "Epoch 3/20\n",
      "521/521 [==============================] - 1s 2ms/step - loss: 1.0889 - mse: 0.2201 - false_negatives: 5209.0000 - recall: 0.0000e+00 - val_loss: 1.0471 - val_mse: 0.2111 - val_false_negatives: 5210.0000 - val_recall: 0.0000e+00\n",
      "Epoch 4/20\n",
      "521/521 [==============================] - 1s 2ms/step - loss: 1.0293 - mse: 0.2069 - false_negatives: 4587.0000 - recall: 0.1194 - val_loss: 1.0289 - val_mse: 0.2065 - val_false_negatives: 4514.0000 - val_recall: 0.1336\n",
      "Epoch 5/20\n",
      "521/521 [==============================] - 1s 2ms/step - loss: 1.0175 - mse: 0.2041 - false_negatives: 4402.0000 - recall: 0.1549 - val_loss: 1.0247 - val_mse: 0.2060 - val_false_negatives: 4303.0000 - val_recall: 0.1741\n",
      "Epoch 6/20\n",
      "521/521 [==============================] - 1s 2ms/step - loss: 1.0110 - mse: 0.2027 - false_negatives: 4398.0000 - recall: 0.1557 - val_loss: 1.0141 - val_mse: 0.2036 - val_false_negatives: 4437.0000 - val_recall: 0.1484\n",
      "Epoch 7/20\n",
      "521/521 [==============================] - 1s 3ms/step - loss: 1.0037 - mse: 0.2012 - false_negatives: 4411.0000 - recall: 0.1532 - val_loss: 1.0109 - val_mse: 0.2029 - val_false_negatives: 4379.0000 - val_recall: 0.1595\n",
      "Epoch 8/20\n",
      "521/521 [==============================] - 1s 3ms/step - loss: 0.9994 - mse: 0.2002 - false_negatives: 4326.0000 - recall: 0.1695 - val_loss: 1.0074 - val_mse: 0.2020 - val_false_negatives: 4552.0000 - val_recall: 0.1263\n",
      "Epoch 9/20\n",
      "521/521 [==============================] - 1s 2ms/step - loss: 0.9973 - mse: 0.1997 - false_negatives: 4319.0000 - recall: 0.1709 - val_loss: 1.0035 - val_mse: 0.2012 - val_false_negatives: 4527.0000 - val_recall: 0.1311\n",
      "Epoch 10/20\n",
      "521/521 [==============================] - 1s 2ms/step - loss: 0.9943 - mse: 0.1992 - false_negatives: 4325.0000 - recall: 0.1697 - val_loss: 1.0014 - val_mse: 0.2008 - val_false_negatives: 4193.0000 - val_recall: 0.1952\n",
      "Epoch 11/20\n",
      "521/521 [==============================] - 1s 3ms/step - loss: 0.9923 - mse: 0.1988 - false_negatives: 4200.0000 - recall: 0.1937 - val_loss: 0.9999 - val_mse: 0.2004 - val_false_negatives: 4235.0000 - val_recall: 0.1871\n",
      "Epoch 12/20\n",
      "521/521 [==============================] - 1s 3ms/step - loss: 0.9902 - mse: 0.1983 - false_negatives: 4203.0000 - recall: 0.1931 - val_loss: 0.9997 - val_mse: 0.2004 - val_false_negatives: 4043.0000 - val_recall: 0.2240\n",
      "Epoch 13/20\n",
      "521/521 [==============================] - 1s 3ms/step - loss: 0.9901 - mse: 0.1983 - false_negatives: 4188.0000 - recall: 0.1960 - val_loss: 0.9988 - val_mse: 0.2003 - val_false_negatives: 4571.0000 - val_recall: 0.1226\n",
      "Epoch 14/20\n",
      "521/521 [==============================] - 1s 2ms/step - loss: 0.9885 - mse: 0.1980 - false_negatives: 4215.0000 - recall: 0.1908 - val_loss: 1.0014 - val_mse: 0.2009 - val_false_negatives: 4118.0000 - val_recall: 0.2096\n",
      "Epoch 15/20\n",
      "521/521 [==============================] - 1s 2ms/step - loss: 0.9870 - mse: 0.1977 - false_negatives: 4143.0000 - recall: 0.2046 - val_loss: 1.0095 - val_mse: 0.2023 - val_false_negatives: 3896.0000 - val_recall: 0.2522\n",
      "Epoch 16/20\n",
      "521/521 [==============================] - 1s 2ms/step - loss: 0.9865 - mse: 0.1976 - false_negatives: 4184.0000 - recall: 0.1968 - val_loss: 0.9954 - val_mse: 0.1995 - val_false_negatives: 3960.0000 - val_recall: 0.2399\n",
      "Epoch 17/20\n",
      "521/521 [==============================] - 1s 3ms/step - loss: 0.9847 - mse: 0.1973 - false_negatives: 4080.0000 - recall: 0.2167 - val_loss: 0.9950 - val_mse: 0.1994 - val_false_negatives: 3907.0000 - val_recall: 0.2501\n",
      "Epoch 18/20\n",
      "521/521 [==============================] - 1s 2ms/step - loss: 0.9842 - mse: 0.1971 - false_negatives: 4057.0000 - recall: 0.2212 - val_loss: 0.9938 - val_mse: 0.1992 - val_false_negatives: 4004.0000 - val_recall: 0.2315\n",
      "Epoch 19/20\n",
      "521/521 [==============================] - 1s 2ms/step - loss: 0.9824 - mse: 0.1967 - false_negatives: 4086.0000 - recall: 0.2156 - val_loss: 1.0018 - val_mse: 0.2009 - val_false_negatives: 4179.0000 - val_recall: 0.1979\n",
      "Epoch 20/20\n",
      "521/521 [==============================] - 1s 2ms/step - loss: 0.9829 - mse: 0.1970 - false_negatives: 4074.0000 - recall: 0.2179 - val_loss: 0.9950 - val_mse: 0.1994 - val_false_negatives: 4137.0000 - val_recall: 0.2060\n"
     ]
    }
   ],
   "source": [
    "diabets_classifier = get_model(x_train, y_train)\n"
   ]
  },
  {
   "cell_type": "code",
   "execution_count": 6,
   "metadata": {},
   "outputs": [
    {
     "name": "stdout",
     "output_type": "stream",
     "text": [
      "109/109 [==============================] - 0s 1ms/step\n"
     ]
    },
    {
     "data": {
      "text/plain": [
       "array([0, 0, 2, ..., 2, 0, 1], dtype=int64)"
      ]
     },
     "execution_count": 6,
     "metadata": {},
     "output_type": "execute_result"
    }
   ],
   "source": [
    "diabets_predict = diabets_classifier.predict(x_test).argmax(axis=1)\n",
    "diabets_predict\n",
    "# 1 min\n"
   ]
  },
  {
   "cell_type": "code",
   "execution_count": 7,
   "metadata": {},
   "outputs": [
    {
     "name": "stdout",
     "output_type": "stream",
     "text": [
      "              precision    recall  f1-score   support\n",
      "\n",
      "           0       0.47      0.63      0.54       870\n",
      "           1       0.70      0.44      0.54      1817\n",
      "           2       0.25      0.38      0.31       787\n",
      "\n",
      "    accuracy                           0.47      3474\n",
      "   macro avg       0.48      0.48      0.46      3474\n",
      "weighted avg       0.54      0.47      0.49      3474\n",
      "\n"
     ]
    }
   ],
   "source": [
    "print(classification_report(diabets_predict, y_test.argmax(axis=1)))\n"
   ]
  }
 ],
 "metadata": {
  "kernelspec": {
   "display_name": "Python 3",
   "language": "python",
   "name": "python3"
  },
  "language_info": {
   "codemirror_mode": {
    "name": "ipython",
    "version": 3
   },
   "file_extension": ".py",
   "mimetype": "text/x-python",
   "name": "python",
   "nbconvert_exporter": "python",
   "pygments_lexer": "ipython3",
   "version": "3.9.2"
  },
  "orig_nbformat": 4
 },
 "nbformat": 4,
 "nbformat_minor": 2
}

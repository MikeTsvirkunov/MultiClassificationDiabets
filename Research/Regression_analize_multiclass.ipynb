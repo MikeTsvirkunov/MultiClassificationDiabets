{
 "cells": [
  {
   "cell_type": "code",
   "execution_count": 1,
   "metadata": {},
   "outputs": [],
   "source": [
    "import pandas as pd\n",
    "import numpy as np\n",
    "import matplotlib.pyplot as plt\n",
    "from sklearn.model_selection import train_test_split\n",
    "from sklearn.linear_model import LogisticRegression\n",
    "from sklearn.model_selection import GridSearchCV, RandomizedSearchCV\n",
    "from sklearn.metrics import accuracy_score, confusion_matrix, classification_report, roc_curve, RocCurveDisplay, auc\n",
    "from sklearn.preprocessing import LabelEncoder\n"
   ]
  },
  {
   "cell_type": "code",
   "execution_count": 2,
   "metadata": {},
   "outputs": [],
   "source": [
    "data = pd.read_csv('../DATA/nan_remove_data.csv')\n",
    "x = data.drop('Diabetes_012', axis=1)\n",
    "y = data['Diabetes_012']\n",
    "X_train, X_test, y_train, y_test = train_test_split(x, y, test_size=0.25)\n",
    "lab = LabelEncoder()\n",
    "y_train = lab.fit_transform(y_train)\n",
    "y_test = lab.fit_transform(y_test)\n"
   ]
  },
  {
   "cell_type": "code",
   "execution_count": 3,
   "metadata": {},
   "outputs": [],
   "source": [
    "lr = RandomizedSearchCV(LogisticRegression(penalty='l1', solver='saga'),\n",
    "                        {'C': [1e-5, 1e-4, 1e-3, 1e-2, 1e-1, 1, 10, 100],\n",
    "                         'warm_start': [True, False],\n",
    "                         'multi_class': ['ovr', 'multinomial'],\n",
    "                         },\n",
    "                         n_iter=10,\n",
    "                         n_jobs=4,\n",
    "                         scoring='f1_micro',\n",
    "                         random_state=71\n",
    "                         ).fit(X_train, y_train)\n"
   ]
  },
  {
   "cell_type": "code",
   "execution_count": 6,
   "metadata": {},
   "outputs": [
    {
     "name": "stdout",
     "output_type": "stream",
     "text": [
      "[0.38701179 0.56455439 0.91560601 4.39010707 0.01019073 0.12522441\n",
      " 0.2371402  0.0406767  0.04188697 0.0298089  0.6323324  0.08604898\n",
      " 0.31862024 1.20314533 0.136887   0.12525662 0.13171656 0.15929281\n",
      " 1.30121747 0.18496165 0.38541595]\n"
     ]
    },
    {
     "data": {
      "text/plain": [
       "<matplotlib.lines.Line2D at 0x22531ac1370>"
      ]
     },
     "execution_count": 6,
     "metadata": {},
     "output_type": "execute_result"
    },
    {
     "data": {
      "image/png": "[encoded data removed]",
      "text/plain": [
       "<Figure size 432x288 with 1 Axes>"
      ]
     },
     "metadata": {
      "needs_background": "light"
     },
     "output_type": "display_data"
    }
   ],
   "source": [
    "print(abs(lr.best_estimator_.coef_).max(axis=0))\n",
    "plt.bar(x.columns, abs(lr.best_estimator_.coef_).max(axis=0))\n",
    "plt.xticks(rotation=90)\n",
    "plt.axhline(abs(lr.best_estimator_.coef_).max(axis=0).mean(), color='red')\n",
    "plt.axhline(np.median(abs(lr.best_estimator_.coef_).mean(axis=0)), color='green')\n"
   ]
  },
  {
   "cell_type": "code",
   "execution_count": 7,
   "metadata": {},
   "outputs": [
    {
     "data": {
      "text/plain": [
       "array(['HighBP', 'HighChol', 'CholCheck', 'BMI', 'Stroke',\n",
       "       'HeartDiseaseorAttack', 'HvyAlcoholConsump', 'AnyHealthcare',\n",
       "       'NoDocbcCost', 'GenHlth', 'MentHlth', 'PhysHlth', 'DiffWalk',\n",
       "       'Sex', 'Age', 'Education', 'Income'], dtype=object)"
      ]
     },
     "execution_count": 7,
     "metadata": {},
     "output_type": "execute_result"
    }
   ],
   "source": [
    "med = np.median(abs(lr.best_estimator_.coef_).mean(axis=0))\n",
    "useful_columns = x.columns.to_numpy()[abs(lr.best_estimator_.coef_).max(axis=0) >= med]\n",
    "useful_columns\n"
   ]
  },
  {
   "cell_type": "code",
   "execution_count": 9,
   "metadata": {},
   "outputs": [],
   "source": [
    "data[np.append(useful_columns.tolist(), 'Diabetes_012')].to_csv('../DATA/regression_remove_data.csv', index=False)\n"
   ]
  }
 ],
 "metadata": {
  "kernelspec": {
   "display_name": "Python 3",
   "language": "python",
   "name": "python3"
  },
  "language_info": {
   "codemirror_mode": {
    "name": "ipython",
    "version": 3
   },
   "file_extension": ".py",
   "mimetype": "text/x-python",
   "name": "python",
   "nbconvert_exporter": "python",
   "pygments_lexer": "ipython3",
   "version": "3.9.2"
  },
  "orig_nbformat": 4
 },
 "nbformat": 4,
 "nbformat_minor": 2
}

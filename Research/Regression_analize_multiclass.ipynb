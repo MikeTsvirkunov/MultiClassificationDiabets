{
 "cells": [
  {
   "cell_type": "code",
   "execution_count": 1,
   "metadata": {},
   "outputs": [],
   "source": [
    "import pandas as pd\n",
    "import numpy as np\n",
    "import matplotlib.pyplot as plt\n",
    "from sklearn.model_selection import train_test_split\n",
    "from sklearn.linear_model import LogisticRegression\n",
    "from sklearn.model_selection import GridSearchCV, RandomizedSearchCV\n",
    "from sklearn.metrics import accuracy_score, confusion_matrix, classification_report, roc_curve, RocCurveDisplay, auc\n",
    "from sklearn.preprocessing import LabelEncoder\n"
   ]
  },
  {
   "cell_type": "code",
   "execution_count": 2,
   "metadata": {},
   "outputs": [],
   "source": [
    "data = pd.read_csv('../DATA/nan_remove_data.csv')\n",
    "x = data.drop('Diabetes_012', axis=1)\n",
    "y = data['Diabetes_012']\n",
    "X_train, X_test, y_train, y_test = train_test_split(x, y, test_size=0.25)\n",
    "lab = LabelEncoder()\n",
    "y_train = lab.fit_transform(y_train)\n",
    "y_test = lab.fit_transform(y_test)\n"
   ]
  },
  {
   "cell_type": "code",
   "execution_count": 3,
   "metadata": {},
   "outputs": [],
   "source": [
    "lr = RandomizedSearchCV(LogisticRegression(penalty='l1', solver='saga'),\n",
    "                        {'C': [1e-5, 1e-4, 1e-3, 1e-2, 1e-1, 1, 10, 100],\n",
    "                         'warm_start': [True, False],\n",
    "                         'multi_class': ['ovr', 'multinomial'],\n",
    "                         },\n",
    "                         n_iter=10,\n",
    "                         n_jobs=4,\n",
    "                         scoring='f1_micro',\n",
    "                         random_state=71\n",
    "                         ).fit(X_train, y_train)\n"
   ]
  },
  {
   "cell_type": "code",
   "execution_count": 4,
   "metadata": {},
   "outputs": [
    {
     "name": "stdout",
     "output_type": "stream",
     "text": [
      "[4.20460465e-01 5.50169565e-01 7.31518955e-01 4.12003454e+00\n",
      " 0.00000000e+00 5.56909301e-02 2.06351055e-01 5.26075597e-02\n",
      " 4.34814838e-02 1.64738029e-02 5.00786870e-01 4.52833864e-05\n",
      " 5.99724676e-02 1.34766248e+00 4.85566391e-02 8.65660034e-02\n",
      " 1.40380700e-01 2.12431781e-01 1.33829538e+00 9.81752336e-02\n",
      " 3.76149015e-01]\n"
     ]
    },
    {
     "data": {
      "text/plain": [
       "<matplotlib.lines.Line2D at 0x21e241bc2e0>"
      ]
     },
     "execution_count": 4,
     "metadata": {},
     "output_type": "execute_result"
    },
    {
     "data": {
      "image/png": "[encoded data removed]",
      "text/plain": [
       "<Figure size 432x288 with 1 Axes>"
      ]
     },
     "metadata": {
      "needs_background": "light"
     },
     "output_type": "display_data"
    }
   ],
   "source": [
    "print(abs(lr.best_estimator_.coef_).max(axis=0))\n",
    "plt.bar(x.columns, abs(lr.best_estimator_.coef_).max(axis=0))\n",
    "plt.xticks(rotation=90)\n",
    "plt.axhline(abs(lr.best_estimator_.coef_).max(axis=0).mean(), color='red')\n",
    "plt.axhline(np.median(abs(lr.best_estimator_.coef_).mean(axis=0)), color='green')\n"
   ]
  },
  {
   "cell_type": "code",
   "execution_count": 5,
   "metadata": {},
   "outputs": [
    {
     "data": {
      "text/plain": [
       "array(['HighBP', 'HighChol', 'CholCheck', 'BMI', 'Smoker', 'Stroke',\n",
       "       'HeartDiseaseorAttack', 'PhysActivity', 'Fruits', 'Veggies',\n",
       "       'HvyAlcoholConsump', 'AnyHealthcare', 'NoDocbcCost', 'GenHlth',\n",
       "       'MentHlth', 'PhysHlth', 'DiffWalk', 'Sex', 'Age', 'Education',\n",
       "       'Income'], dtype=object)"
      ]
     },
     "execution_count": 5,
     "metadata": {},
     "output_type": "execute_result"
    }
   ],
   "source": [
    "med = np.median(abs(lr.best_estimator_.coef_).mean(axis=0))\n",
    "useful_columns = x.columns.to_numpy()[abs(lr.best_estimator_.coef_).max(axis=0) >= -1]\n",
    "useful_columns\n"
   ]
  },
  {
   "cell_type": "code",
   "execution_count": 6,
   "metadata": {},
   "outputs": [],
   "source": [
    "data[np.append(useful_columns.tolist(), 'Diabetes_012')].to_csv('../DATA/regression_remove_data.csv', index=False)\n"
   ]
  }
 ],
 "metadata": {
  "kernelspec": {
   "display_name": "Python 3",
   "language": "python",
   "name": "python3"
  },
  "language_info": {
   "codemirror_mode": {
    "name": "ipython",
    "version": 3
   },
   "file_extension": ".py",
   "mimetype": "text/x-python",
   "name": "python",
   "nbconvert_exporter": "python",
   "pygments_lexer": "ipython3",
   "version": "3.9.2"
  },
  "orig_nbformat": 4
 },
 "nbformat": 4,
 "nbformat_minor": 2
}

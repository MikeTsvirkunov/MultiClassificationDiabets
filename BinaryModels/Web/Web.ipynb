{
 "cells": [
  {
   "cell_type": "code",
   "execution_count": 3,
   "metadata": {},
   "outputs": [],
   "source": [
    "import pandas as pd\n",
    "import matplotlib.pyplot as plt\n",
    "import numpy as np\n",
    "from sklearn.model_selection import train_test_split\n",
    "import tensorflow as tf\n",
    "from sklearn.metrics import accuracy_score, confusion_matrix, classification_report, roc_curve, RocCurveDisplay, auc\n"
   ]
  },
  {
   "cell_type": "code",
   "execution_count": 4,
   "metadata": {},
   "outputs": [],
   "source": [
    "diabets_classes = pd.read_csv('../../DATA/diabets_classes.csv', index_col=False)\n",
    "diabets_x = diabets_classes.drop(['diabets'], axis=1)\n",
    "diabets = diabets_classes['diabets']\n",
    "pre_diabets_classes = pd.read_csv('../../DATA/pre_diabets_classes.csv', index_col=False)\n",
    "pre_diabets_x = pre_diabets_classes.drop(['pre_diabets'], axis=1)\n",
    "pre_diabets = pre_diabets_classes['pre_diabets']\n",
    "non_diabets_classes = pd.read_csv('../../DATA/non_diabets_classes.csv', index_col=False)\n",
    "non_diabets_x = non_diabets_classes.drop(['non_diabets'], axis=1)\n",
    "non_diabets = non_diabets_classes['non_diabets']\n"
   ]
  },
  {
   "cell_type": "code",
   "execution_count": 5,
   "metadata": {},
   "outputs": [],
   "source": [
    "x_diabets_train, x_diabets_test, y_diabets_train, y_diabets_test = train_test_split(diabets_x, diabets, test_size=0.25)\n",
    "x_pre_diabets_train, x_pre_diabets_test, y_pre_diabets_train, y_pre_diabets_test = train_test_split(pre_diabets_x, pre_diabets, test_size=0.25)\n",
    "x_non_diabets_train, x_non_diabets_test, y_non_diabets_train, y_non_diabets_test = train_test_split(non_diabets_x, non_diabets, test_size=0.25)"
   ]
  },
  {
   "cell_type": "code",
   "execution_count": 6,
   "metadata": {},
   "outputs": [],
   "source": [
    "def get_model(X_train, y_train):\n",
    "    diabets_classifier = tf.keras.models.Sequential()\n",
    "    diabets_classifier.add(tf.keras.layers.Dense(X_train.shape[1],\n",
    "                                                activation='sigmoid',\n",
    "                                                input_shape=(X_train.shape[1],),\n",
    "                                                name='input',\n",
    "                                                # kernel_regularizer=tf.keras.regularizers.L2(l2=1),\n",
    "                                                #   kernel_constraint=tf.keras.constraints.max_norm(1000.),\n",
    "                                                # bias_initializer=tf.keras.initializers.HeNormal,\n",
    "                                                use_bias=True\n",
    "                                                ))\n",
    "    diabets_classifier.add(tf.keras.layers.Dense(X_train.shape[1]*2,\n",
    "                                                activation='sigmoid',\n",
    "                                                name='hidden_layer_2',\n",
    "                                                # kernel_regularizer=tf.keras.regularizers.L2(l2=1),\n",
    "                                                #   kernel_constraint=tf.keras.constraints.max_norm(1000.),\n",
    "                                                # bias_initializer=tf.keras.initializers.HeNormal,\n",
    "                                                use_bias=True\n",
    "                                                ))\n",
    "    diabets_classifier.add(tf.keras.layers.Dense(X_train.shape[1]*3,\n",
    "                                                activation='sigmoid',\n",
    "                                                name='hidden_layer_3',\n",
    "                                                # kernel_regularizer=tf.keras.regularizers.L2(l2=1),\n",
    "                                                #   kernel_constraint=tf.keras.constraints.max_norm(1000.),\n",
    "                                                # bias_initializer=tf.keras.initializers.HeNormal,\n",
    "                                                use_bias=True\n",
    "                                                ))\n",
    "    diabets_classifier.add(tf.keras.layers.Dense(X_train.shape[1]*2,\n",
    "                                                 activation='sigmoid',\n",
    "                                                 name='hidden_layer_4',\n",
    "                                                 # kernel_regularizer=tf.keras.regularizers.L2(l2=1),\n",
    "                                                 #   kernel_constraint=tf.keras.constraints.max_norm(1000.),\n",
    "                                                 # bias_initializer=tf.keras.initializers.HeNormal,\n",
    "                                                 use_bias=True\n",
    "                                                 ))\n",
    "    diabets_classifier.add(tf.keras.layers.Dense(X_train.shape[1]*1,\n",
    "                                                 activation='sigmoid',\n",
    "                                                 name='hidden_layer_5',\n",
    "                                                 # kernel_regularizer=tf.keras.regularizers.L2(l2=1),\n",
    "                                                 #   kernel_constraint=tf.keras.constraints.max_norm(1000.),\n",
    "                                                 # bias_initializer=tf.keras.initializers.HeNormal,\n",
    "                                                 use_bias=True\n",
    "                                                 ))\n",
    "    diabets_classifier.add(tf.keras.layers.Dense(X_train.shape[1]//2,\n",
    "                                                 activation='sigmoid',\n",
    "                                                 name='hidden_layer_6',\n",
    "                                                 # kernel_regularizer=tf.keras.regularizers.L2(l2=1),\n",
    "                                                 #   kernel_constraint=tf.keras.constraints.max_norm(1000.),\n",
    "                                                 # bias_initializer=tf.keras.initializers.HeNormal,\n",
    "                                                 use_bias=True\n",
    "                                                 ))\n",
    "    diabets_classifier.add(tf.keras.layers.Dense(1,\n",
    "                                                name='output',\n",
    "                                                activation='sigmoid',\n",
    "                                                # kernel_regularizer=tf.keras.regularizers.L2(l2=1),\n",
    "                                                #   kernel_constraint=tf.keras.constraints.max_norm(1000.),\n",
    "                                                # bias_initializer=tf.keras.initializers.HeNormal,\n",
    "                                                use_bias=True\n",
    "                                                ))\n",
    "    diabets_classifier.summary()\n",
    "    diabets_classifier.compile(\n",
    "        optimizer='Adam',\n",
    "        loss='binary_crossentropy',\n",
    "        metrics=['mse', tf.keras.metrics.FalseNegatives(),\n",
    "                tf.keras.metrics.Recall()]\n",
    "    )\n",
    "    diabets_classifier.fit(\n",
    "        X_train.to_numpy(),\n",
    "        y_train.to_numpy(),\n",
    "        validation_split=0.5,\n",
    "        epochs=20,\n",
    "        batch_size=10\n",
    "    )\n",
    "    return diabets_classifier\n"
   ]
  },
  {
   "attachments": {},
   "cell_type": "markdown",
   "metadata": {},
   "source": [
    "# Diabets KNN"
   ]
  },
  {
   "cell_type": "code",
   "execution_count": 7,
   "metadata": {},
   "outputs": [
    {
     "name": "stdout",
     "output_type": "stream",
     "text": [
      "Model: \"sequential\"\n",
      "_________________________________________________________________\n",
      " Layer (type)                Output Shape              Param #   \n",
      "=================================================================\n",
      " input (Dense)               (None, 21)                462       \n",
      "                                                                 \n",
      " hidden_layer_2 (Dense)      (None, 42)                924       \n",
      "                                                                 \n",
      " hidden_layer_3 (Dense)      (None, 63)                2709      \n",
      "                                                                 \n",
      " hidden_layer_4 (Dense)      (None, 42)                2688      \n",
      "                                                                 \n",
      " hidden_layer_5 (Dense)      (None, 21)                903       \n",
      "                                                                 \n",
      " hidden_layer_6 (Dense)      (None, 10)                220       \n",
      "                                                                 \n",
      " output (Dense)              (None, 1)                 11        \n",
      "                                                                 \n",
      "=================================================================\n",
      "Total params: 7,917\n",
      "Trainable params: 7,917\n",
      "Non-trainable params: 0\n",
      "_________________________________________________________________\n",
      "Epoch 1/20\n",
      "16028/16028 [==============================] - 39s 2ms/step - loss: 0.6727 - mse: 0.2404 - false_negatives: 18372.0000 - recall: 0.7711 - val_loss: 0.6641 - val_mse: 0.2365 - val_false_negatives: 14340.0000 - val_recall: 0.8208\n",
      "Epoch 2/20\n",
      "16028/16028 [==============================] - 38s 2ms/step - loss: 0.6622 - mse: 0.2358 - false_negatives: 12876.0000 - recall: 0.8396 - val_loss: 0.6651 - val_mse: 0.2370 - val_false_negatives: 20481.0000 - val_recall: 0.7441\n",
      "Epoch 3/20\n",
      "16028/16028 [==============================] - 38s 2ms/step - loss: 0.6597 - mse: 0.2347 - false_negatives: 12956.0000 - recall: 0.8386 - val_loss: 0.6617 - val_mse: 0.2357 - val_false_negatives: 24973.0000 - val_recall: 0.6880\n",
      "Epoch 4/20\n",
      "16028/16028 [==============================] - 38s 2ms/step - loss: 0.6578 - mse: 0.2338 - false_negatives: 13387.0000 - recall: 0.8332 - val_loss: 0.6575 - val_mse: 0.2338 - val_false_negatives: 9692.0000 - val_recall: 0.8789\n",
      "Epoch 5/20\n",
      "16028/16028 [==============================] - 39s 2ms/step - loss: 0.6557 - mse: 0.2329 - false_negatives: 15043.0000 - recall: 0.8126 - val_loss: 0.6573 - val_mse: 0.2336 - val_false_negatives: 22711.0000 - val_recall: 0.7163\n",
      "Epoch 6/20\n",
      "16028/16028 [==============================] - 40s 2ms/step - loss: 0.6533 - mse: 0.2317 - false_negatives: 15711.0000 - recall: 0.8043 - val_loss: 0.6574 - val_mse: 0.2337 - val_false_negatives: 29606.0000 - val_recall: 0.6301\n",
      "Epoch 7/20\n",
      "16028/16028 [==============================] - 39s 2ms/step - loss: 0.6513 - mse: 0.2308 - false_negatives: 16407.0000 - recall: 0.7956 - val_loss: 0.6499 - val_mse: 0.2303 - val_false_negatives: 20870.0000 - val_recall: 0.7393\n",
      "Epoch 8/20\n",
      "16028/16028 [==============================] - 39s 2ms/step - loss: 0.6486 - mse: 0.2296 - false_negatives: 17692.0000 - recall: 0.7796 - val_loss: 0.6474 - val_mse: 0.2291 - val_false_negatives: 17350.0000 - val_recall: 0.7832\n",
      "Epoch 9/20\n",
      "16028/16028 [==============================] - 39s 2ms/step - loss: 0.6460 - mse: 0.2284 - false_negatives: 18472.0000 - recall: 0.7699 - val_loss: 0.6444 - val_mse: 0.2277 - val_false_negatives: 21061.0000 - val_recall: 0.7369\n",
      "Epoch 10/20\n",
      "16028/16028 [==============================] - 39s 2ms/step - loss: 0.6433 - mse: 0.2271 - false_negatives: 19379.0000 - recall: 0.7586 - val_loss: 0.6418 - val_mse: 0.2265 - val_false_negatives: 19517.0000 - val_recall: 0.7562\n",
      "Epoch 11/20\n",
      "16028/16028 [==============================] - 38s 2ms/step - loss: 0.6409 - mse: 0.2260 - false_negatives: 19494.0000 - recall: 0.7571 - val_loss: 0.6399 - val_mse: 0.2256 - val_false_negatives: 24519.0000 - val_recall: 0.6937\n",
      "Epoch 12/20\n",
      "16028/16028 [==============================] - 39s 2ms/step - loss: 0.6388 - mse: 0.2250 - false_negatives: 19803.0000 - recall: 0.7533 - val_loss: 0.6409 - val_mse: 0.2262 - val_false_negatives: 13146.0000 - val_recall: 0.8358\n",
      "Epoch 13/20\n",
      "16028/16028 [==============================] - 39s 2ms/step - loss: 0.6368 - mse: 0.2241 - false_negatives: 19575.0000 - recall: 0.7561 - val_loss: 0.6391 - val_mse: 0.2253 - val_false_negatives: 13017.0000 - val_recall: 0.8374\n",
      "Epoch 14/20\n",
      "16028/16028 [==============================] - 38s 2ms/step - loss: 0.6347 - mse: 0.2232 - false_negatives: 19917.0000 - recall: 0.7519 - val_loss: 0.6358 - val_mse: 0.2238 - val_false_negatives: 14711.0000 - val_recall: 0.8162\n",
      "Epoch 15/20\n",
      "16028/16028 [==============================] - 38s 2ms/step - loss: 0.6323 - mse: 0.2221 - false_negatives: 19848.0000 - recall: 0.7527 - val_loss: 0.6359 - val_mse: 0.2238 - val_false_negatives: 11998.0000 - val_recall: 0.8501\n",
      "Epoch 16/20\n",
      "16028/16028 [==============================] - 39s 2ms/step - loss: 0.6297 - mse: 0.2209 - false_negatives: 19586.0000 - recall: 0.7560 - val_loss: 0.6304 - val_mse: 0.2213 - val_false_negatives: 27168.0000 - val_recall: 0.6606\n",
      "Epoch 17/20\n",
      "16028/16028 [==============================] - 39s 2ms/step - loss: 0.6277 - mse: 0.2200 - false_negatives: 19597.0000 - recall: 0.7559 - val_loss: 0.6340 - val_mse: 0.2230 - val_false_negatives: 34523.0000 - val_recall: 0.5687\n",
      "Epoch 18/20\n",
      "16028/16028 [==============================] - 38s 2ms/step - loss: 0.6254 - mse: 0.2190 - false_negatives: 18948.0000 - recall: 0.7639 - val_loss: 0.6255 - val_mse: 0.2191 - val_false_negatives: 13952.0000 - val_recall: 0.8257\n",
      "Epoch 19/20\n",
      "16028/16028 [==============================] - 38s 2ms/step - loss: 0.6235 - mse: 0.2182 - false_negatives: 19531.0000 - recall: 0.7567 - val_loss: 0.6223 - val_mse: 0.2177 - val_false_negatives: 20090.0000 - val_recall: 0.7490\n",
      "Epoch 20/20\n",
      "16028/16028 [==============================] - 38s 2ms/step - loss: 0.6221 - mse: 0.2176 - false_negatives: 19058.0000 - recall: 0.7626 - val_loss: 0.6210 - val_mse: 0.2171 - val_false_negatives: 21504.0000 - val_recall: 0.7313\n"
     ]
    }
   ],
   "source": [
    "diabets_classifier = get_model(x_diabets_train, y_diabets_train)\n"
   ]
  },
  {
   "cell_type": "code",
   "execution_count": 8,
   "metadata": {},
   "outputs": [
    {
     "name": "stdout",
     "output_type": "stream",
     "text": [
      "3340/3340 [==============================] - 3s 990us/step\n"
     ]
    },
    {
     "data": {
      "text/plain": [
       "array([0.4072339 , 0.6412156 , 0.37751803, ..., 0.60060245, 0.13663255,\n",
       "       0.51144123], dtype=float32)"
      ]
     },
     "execution_count": 8,
     "metadata": {},
     "output_type": "execute_result"
    }
   ],
   "source": [
    "diabets_predict = diabets_classifier.predict(x_diabets_test).T[0]\n",
    "diabets_predict\n",
    "# 1 min\n"
   ]
  },
  {
   "cell_type": "code",
   "execution_count": 9,
   "metadata": {},
   "outputs": [
    {
     "name": "stdout",
     "output_type": "stream",
     "text": [
      "              precision    recall  f1-score   support\n",
      "\n",
      "       False       0.64      0.64      0.64     53426\n",
      "        True       0.64      0.64      0.64     53426\n",
      "\n",
      "    accuracy                           0.64    106852\n",
      "   macro avg       0.64      0.64      0.64    106852\n",
      "weighted avg       0.64      0.64      0.64    106852\n",
      "\n"
     ]
    }
   ],
   "source": [
    "print(classification_report(diabets_predict > np.median(diabets_predict), y_diabets_test))\n"
   ]
  },
  {
   "attachments": {},
   "cell_type": "markdown",
   "metadata": {},
   "source": [
    "# Prediabets KNN"
   ]
  },
  {
   "cell_type": "code",
   "execution_count": 10,
   "metadata": {},
   "outputs": [
    {
     "name": "stdout",
     "output_type": "stream",
     "text": [
      "Model: \"sequential_1\"\n",
      "_________________________________________________________________\n",
      " Layer (type)                Output Shape              Param #   \n",
      "=================================================================\n",
      " input (Dense)               (None, 21)                462       \n",
      "                                                                 \n",
      " hidden_layer_2 (Dense)      (None, 42)                924       \n",
      "                                                                 \n",
      " hidden_layer_3 (Dense)      (None, 63)                2709      \n",
      "                                                                 \n",
      " hidden_layer_4 (Dense)      (None, 42)                2688      \n",
      "                                                                 \n",
      " hidden_layer_5 (Dense)      (None, 21)                903       \n",
      "                                                                 \n",
      " hidden_layer_6 (Dense)      (None, 10)                220       \n",
      "                                                                 \n",
      " output (Dense)              (None, 1)                 11        \n",
      "                                                                 \n",
      "=================================================================\n",
      "Total params: 7,917\n",
      "Trainable params: 7,917\n",
      "Non-trainable params: 0\n",
      "_________________________________________________________________\n",
      "Epoch 1/20\n",
      "16028/16028 [==============================] - 42s 3ms/step - loss: 0.6734 - mse: 0.2407 - false_negatives_1: 17918.0000 - recall_1: 0.7768 - val_loss: 0.6659 - val_mse: 0.2375 - val_false_negatives_1: 7841.0000 - val_recall_1: 0.9020\n",
      "Epoch 2/20\n",
      "16028/16028 [==============================] - 39s 2ms/step - loss: 0.6629 - mse: 0.2361 - false_negatives_1: 12805.0000 - recall_1: 0.8405 - val_loss: 0.6621 - val_mse: 0.2358 - val_false_negatives_1: 8250.0000 - val_recall_1: 0.8969\n",
      "Epoch 3/20\n",
      "16028/16028 [==============================] - 39s 2ms/step - loss: 0.6604 - mse: 0.2350 - false_negatives_1: 11888.0000 - recall_1: 0.8519 - val_loss: 0.6594 - val_mse: 0.2346 - val_false_negatives_1: 14297.0000 - val_recall_1: 0.8214\n",
      "Epoch 4/20\n",
      "16028/16028 [==============================] - 40s 2ms/step - loss: 0.6585 - mse: 0.2342 - false_negatives_1: 12554.0000 - recall_1: 0.8436 - val_loss: 0.6604 - val_mse: 0.2352 - val_false_negatives_1: 7799.0000 - val_recall_1: 0.9026\n",
      "Epoch 5/20\n",
      "16028/16028 [==============================] - 39s 2ms/step - loss: 0.6565 - mse: 0.2333 - false_negatives_1: 14607.0000 - recall_1: 0.8180 - val_loss: 0.6566 - val_mse: 0.2334 - val_false_negatives_1: 23544.0000 - val_recall_1: 0.7058\n",
      "Epoch 6/20\n",
      "16028/16028 [==============================] - 39s 2ms/step - loss: 0.6541 - mse: 0.2322 - false_negatives_1: 16316.0000 - recall_1: 0.7967 - val_loss: 0.6528 - val_mse: 0.2316 - val_false_negatives_1: 18928.0000 - val_recall_1: 0.7635\n",
      "Epoch 7/20\n",
      "16028/16028 [==============================] - 39s 2ms/step - loss: 0.6519 - mse: 0.2311 - false_negatives_1: 17183.0000 - recall_1: 0.7859 - val_loss: 0.6505 - val_mse: 0.2306 - val_false_negatives_1: 14497.0000 - val_recall_1: 0.8189\n",
      "Epoch 8/20\n",
      "16028/16028 [==============================] - 39s 2ms/step - loss: 0.6496 - mse: 0.2301 - false_negatives_1: 17434.0000 - recall_1: 0.7828 - val_loss: 0.6487 - val_mse: 0.2297 - val_false_negatives_1: 18110.0000 - val_recall_1: 0.7737\n",
      "Epoch 9/20\n",
      "16028/16028 [==============================] - 39s 2ms/step - loss: 0.6471 - mse: 0.2289 - false_negatives_1: 18736.0000 - recall_1: 0.7666 - val_loss: 0.6450 - val_mse: 0.2280 - val_false_negatives_1: 18546.0000 - val_recall_1: 0.7683\n",
      "Epoch 10/20\n",
      "16028/16028 [==============================] - 40s 2ms/step - loss: 0.6445 - mse: 0.2277 - false_negatives_1: 19311.0000 - recall_1: 0.7594 - val_loss: 0.6435 - val_mse: 0.2273 - val_false_negatives_1: 17800.0000 - val_recall_1: 0.7776\n",
      "Epoch 11/20\n",
      "16028/16028 [==============================] - 40s 2ms/step - loss: 0.6427 - mse: 0.2269 - false_negatives_1: 19234.0000 - recall_1: 0.7604 - val_loss: 0.6416 - val_mse: 0.2264 - val_false_negatives_1: 20802.0000 - val_recall_1: 0.7401\n",
      "Epoch 12/20\n",
      "16028/16028 [==============================] - 39s 2ms/step - loss: 0.6407 - mse: 0.2260 - false_negatives_1: 19236.0000 - recall_1: 0.7604 - val_loss: 0.6423 - val_mse: 0.2267 - val_false_negatives_1: 12919.0000 - val_recall_1: 0.8386\n",
      "Epoch 13/20\n",
      "16028/16028 [==============================] - 39s 2ms/step - loss: 0.6387 - mse: 0.2251 - false_negatives_1: 19185.0000 - recall_1: 0.7610 - val_loss: 0.6395 - val_mse: 0.2256 - val_false_negatives_1: 12384.0000 - val_recall_1: 0.8453\n",
      "Epoch 14/20\n",
      "16028/16028 [==============================] - 39s 2ms/step - loss: 0.6368 - mse: 0.2242 - false_negatives_1: 18701.0000 - recall_1: 0.7670 - val_loss: 0.6344 - val_mse: 0.2232 - val_false_negatives_1: 18418.0000 - val_recall_1: 0.7699\n",
      "Epoch 15/20\n",
      "16028/16028 [==============================] - 39s 2ms/step - loss: 0.6344 - mse: 0.2232 - false_negatives_1: 18351.0000 - recall_1: 0.7714 - val_loss: 0.6322 - val_mse: 0.2222 - val_false_negatives_1: 19348.0000 - val_recall_1: 0.7583\n",
      "Epoch 16/20\n",
      "16028/16028 [==============================] - 40s 2ms/step - loss: 0.6326 - mse: 0.2224 - false_negatives_1: 18473.0000 - recall_1: 0.7699 - val_loss: 0.6351 - val_mse: 0.2230 - val_false_negatives_1: 22637.0000 - val_recall_1: 0.7172\n",
      "Epoch 17/20\n",
      "16028/16028 [==============================] - 39s 2ms/step - loss: 0.6305 - mse: 0.2215 - false_negatives_1: 18143.0000 - recall_1: 0.7740 - val_loss: 0.6296 - val_mse: 0.2211 - val_false_negatives_1: 19232.0000 - val_recall_1: 0.7597\n",
      "Epoch 18/20\n",
      "16028/16028 [==============================] - 39s 2ms/step - loss: 0.6284 - mse: 0.2206 - false_negatives_1: 17837.0000 - recall_1: 0.7778 - val_loss: 0.6308 - val_mse: 0.2218 - val_false_negatives_1: 12436.0000 - val_recall_1: 0.8446\n",
      "Epoch 19/20\n",
      "16028/16028 [==============================] - 39s 2ms/step - loss: 0.6264 - mse: 0.2197 - false_negatives_1: 17431.0000 - recall_1: 0.7828 - val_loss: 0.6287 - val_mse: 0.2209 - val_false_negatives_1: 10724.0000 - val_recall_1: 0.8660\n",
      "Epoch 20/20\n",
      "16028/16028 [==============================] - 39s 2ms/step - loss: 0.6238 - mse: 0.2186 - false_negatives_1: 17809.0000 - recall_1: 0.7781 - val_loss: 0.6218 - val_mse: 0.2178 - val_false_negatives_1: 19470.0000 - val_recall_1: 0.7567\n"
     ]
    }
   ],
   "source": [
    "pre_diabets_classifier = get_model(x_diabets_train, y_diabets_train)\n",
    "# 6 min\n"
   ]
  },
  {
   "cell_type": "code",
   "execution_count": 11,
   "metadata": {},
   "outputs": [
    {
     "name": "stdout",
     "output_type": "stream",
     "text": [
      "   1/3340 [..............................] - ETA: 59s"
     ]
    },
    {
     "name": "stdout",
     "output_type": "stream",
     "text": [
      "3340/3340 [==============================] - 4s 1ms/step\n"
     ]
    }
   ],
   "source": [
    "pre_diabets_predict = diabets_classifier.predict(x_pre_diabets_test).T[0]\n",
    "# 1 min\n"
   ]
  },
  {
   "cell_type": "code",
   "execution_count": 12,
   "metadata": {},
   "outputs": [
    {
     "name": "stdout",
     "output_type": "stream",
     "text": [
      "              precision    recall  f1-score   support\n",
      "\n",
      "       False       0.50      0.50      0.50     53426\n",
      "        True       0.50      0.50      0.50     53426\n",
      "\n",
      "    accuracy                           0.50    106852\n",
      "   macro avg       0.50      0.50      0.50    106852\n",
      "weighted avg       0.50      0.50      0.50    106852\n",
      "\n"
     ]
    }
   ],
   "source": [
    "print(classification_report(pre_diabets_predict > np.median(pre_diabets_predict), y_pre_diabets_test))\n"
   ]
  },
  {
   "attachments": {},
   "cell_type": "markdown",
   "metadata": {},
   "source": [
    "# Nondiabets KNN"
   ]
  },
  {
   "cell_type": "code",
   "execution_count": 13,
   "metadata": {},
   "outputs": [
    {
     "name": "stdout",
     "output_type": "stream",
     "text": [
      "Model: \"sequential_2\"\n",
      "_________________________________________________________________\n",
      " Layer (type)                Output Shape              Param #   \n",
      "=================================================================\n",
      " input (Dense)               (None, 21)                462       \n",
      "                                                                 \n",
      " hidden_layer_2 (Dense)      (None, 42)                924       \n",
      "                                                                 \n",
      " hidden_layer_3 (Dense)      (None, 63)                2709      \n",
      "                                                                 \n",
      " hidden_layer_4 (Dense)      (None, 42)                2688      \n",
      "                                                                 \n",
      " hidden_layer_5 (Dense)      (None, 21)                903       \n",
      "                                                                 \n",
      " hidden_layer_6 (Dense)      (None, 10)                220       \n",
      "                                                                 \n",
      " output (Dense)              (None, 1)                 11        \n",
      "                                                                 \n",
      "=================================================================\n",
      "Total params: 7,917\n",
      "Trainable params: 7,917\n",
      "Non-trainable params: 0\n",
      "_________________________________________________________________\n",
      "Epoch 1/20\n",
      "16028/16028 [==============================] - 40s 2ms/step - loss: 0.5670 - mse: 0.1929 - false_negatives_2: 28943.0000 - recall_2: 0.6380 - val_loss: 0.5561 - val_mse: 0.1884 - val_false_negatives_2: 19714.0000 - val_recall_2: 0.7546\n",
      "Epoch 2/20\n",
      "16028/16028 [==============================] - 38s 2ms/step - loss: 0.5457 - mse: 0.1841 - false_negatives_2: 26719.0000 - recall_2: 0.6658 - val_loss: 0.5447 - val_mse: 0.1838 - val_false_negatives_2: 21624.0000 - val_recall_2: 0.7308\n",
      "Epoch 3/20\n",
      "16028/16028 [==============================] - 39s 2ms/step - loss: 0.5432 - mse: 0.1830 - false_negatives_2: 26649.0000 - recall_2: 0.6667 - val_loss: 0.5446 - val_mse: 0.1839 - val_false_negatives_2: 33545.0000 - val_recall_2: 0.5824\n",
      "Epoch 4/20\n",
      "16028/16028 [==============================] - 38s 2ms/step - loss: 0.5411 - mse: 0.1822 - false_negatives_2: 27039.0000 - recall_2: 0.6618 - val_loss: 0.5396 - val_mse: 0.1816 - val_false_negatives_2: 23475.0000 - val_recall_2: 0.7077\n",
      "Epoch 5/20\n",
      "16028/16028 [==============================] - 38s 2ms/step - loss: 0.5383 - mse: 0.1811 - false_negatives_2: 26735.0000 - recall_2: 0.6656 - val_loss: 0.5353 - val_mse: 0.1799 - val_false_negatives_2: 24456.0000 - val_recall_2: 0.6955\n",
      "Epoch 6/20\n",
      "16028/16028 [==============================] - 38s 2ms/step - loss: 0.5361 - mse: 0.1801 - false_negatives_2: 26854.0000 - recall_2: 0.6641 - val_loss: 0.5391 - val_mse: 0.1815 - val_false_negatives_2: 32884.0000 - val_recall_2: 0.5906\n",
      "Epoch 7/20\n",
      "16028/16028 [==============================] - 38s 2ms/step - loss: 0.5332 - mse: 0.1790 - false_negatives_2: 26231.0000 - recall_2: 0.6719 - val_loss: 0.5302 - val_mse: 0.1778 - val_false_negatives_2: 25349.0000 - val_recall_2: 0.6844\n",
      "Epoch 8/20\n",
      "16028/16028 [==============================] - 38s 2ms/step - loss: 0.5307 - mse: 0.1780 - false_negatives_2: 25719.0000 - recall_2: 0.6783 - val_loss: 0.5340 - val_mse: 0.1790 - val_false_negatives_2: 20162.0000 - val_recall_2: 0.7490\n",
      "Epoch 9/20\n",
      "16028/16028 [==============================] - 38s 2ms/step - loss: 0.5280 - mse: 0.1769 - false_negatives_2: 25641.0000 - recall_2: 0.6793 - val_loss: 0.5278 - val_mse: 0.1768 - val_false_negatives_2: 22695.0000 - val_recall_2: 0.7174\n",
      "Epoch 10/20\n",
      "16028/16028 [==============================] - 38s 2ms/step - loss: 0.5262 - mse: 0.1762 - false_negatives_2: 25246.0000 - recall_2: 0.6843 - val_loss: 0.5263 - val_mse: 0.1763 - val_false_negatives_2: 21745.0000 - val_recall_2: 0.7293\n",
      "Epoch 11/20\n",
      "16028/16028 [==============================] - 39s 2ms/step - loss: 0.5244 - mse: 0.1755 - false_negatives_2: 25218.0000 - recall_2: 0.6846 - val_loss: 0.5264 - val_mse: 0.1756 - val_false_negatives_2: 23519.0000 - val_recall_2: 0.7072\n",
      "Epoch 12/20\n",
      "16028/16028 [==============================] - 39s 2ms/step - loss: 0.5231 - mse: 0.1749 - false_negatives_2: 24655.0000 - recall_2: 0.6916 - val_loss: 0.5264 - val_mse: 0.1763 - val_false_negatives_2: 29066.0000 - val_recall_2: 0.6381\n",
      "Epoch 13/20\n",
      "16028/16028 [==============================] - 38s 2ms/step - loss: 0.5217 - mse: 0.1744 - false_negatives_2: 24545.0000 - recall_2: 0.6930 - val_loss: 0.5254 - val_mse: 0.1760 - val_false_negatives_2: 29705.0000 - val_recall_2: 0.6302\n",
      "Epoch 14/20\n",
      "16028/16028 [==============================] - 38s 2ms/step - loss: 0.5205 - mse: 0.1739 - false_negatives_2: 24483.0000 - recall_2: 0.6938 - val_loss: 0.5213 - val_mse: 0.1741 - val_false_negatives_2: 23822.0000 - val_recall_2: 0.7034\n",
      "Epoch 15/20\n",
      "16028/16028 [==============================] - 39s 2ms/step - loss: 0.5190 - mse: 0.1733 - false_negatives_2: 24323.0000 - recall_2: 0.6958 - val_loss: 0.5239 - val_mse: 0.1753 - val_false_negatives_2: 19885.0000 - val_recall_2: 0.7524\n",
      "Epoch 16/20\n",
      "16028/16028 [==============================] - 38s 2ms/step - loss: 0.5182 - mse: 0.1730 - false_negatives_2: 24257.0000 - recall_2: 0.6966 - val_loss: 0.5181 - val_mse: 0.1729 - val_false_negatives_2: 23112.0000 - val_recall_2: 0.7123\n",
      "Epoch 17/20\n",
      "16028/16028 [==============================] - 39s 2ms/step - loss: 0.5169 - mse: 0.1725 - false_negatives_2: 24305.0000 - recall_2: 0.6960 - val_loss: 0.5180 - val_mse: 0.1728 - val_false_negatives_2: 23453.0000 - val_recall_2: 0.7080\n",
      "Epoch 18/20\n",
      "16028/16028 [==============================] - 39s 2ms/step - loss: 0.5161 - mse: 0.1722 - false_negatives_2: 24349.0000 - recall_2: 0.6955 - val_loss: 0.5160 - val_mse: 0.1721 - val_false_negatives_2: 24185.0000 - val_recall_2: 0.6989\n",
      "Epoch 19/20\n",
      "16028/16028 [==============================] - 38s 2ms/step - loss: 0.5150 - mse: 0.1717 - false_negatives_2: 24263.0000 - recall_2: 0.6965 - val_loss: 0.5161 - val_mse: 0.1721 - val_false_negatives_2: 25596.0000 - val_recall_2: 0.6813\n",
      "Epoch 20/20\n",
      "16028/16028 [==============================] - 39s 2ms/step - loss: 0.5142 - mse: 0.1715 - false_negatives_2: 24018.0000 - recall_2: 0.6996 - val_loss: 0.5146 - val_mse: 0.1715 - val_false_negatives_2: 23631.0000 - val_recall_2: 0.7058\n"
     ]
    }
   ],
   "source": [
    "non_diabets_classifier = get_model(x_non_diabets_train, y_non_diabets_train)\n",
    "# 6 min\n"
   ]
  },
  {
   "cell_type": "code",
   "execution_count": 14,
   "metadata": {},
   "outputs": [
    {
     "name": "stdout",
     "output_type": "stream",
     "text": [
      "  50/3340 [..............................] - ETA: 3s  "
     ]
    },
    {
     "name": "stdout",
     "output_type": "stream",
     "text": [
      "3340/3340 [==============================] - 4s 1ms/step\n"
     ]
    }
   ],
   "source": [
    "non_diabets_predict = diabets_classifier.predict(x_non_diabets_test).T[0]\n",
    "# 1 min\n"
   ]
  },
  {
   "cell_type": "code",
   "execution_count": 15,
   "metadata": {},
   "outputs": [
    {
     "name": "stdout",
     "output_type": "stream",
     "text": [
      "              precision    recall  f1-score   support\n",
      "\n",
      "       False       0.08      0.18      0.11     22453\n",
      "        True       0.66      0.42      0.51     84399\n",
      "\n",
      "    accuracy                           0.37    106852\n",
      "   macro avg       0.37      0.30      0.31    106852\n",
      "weighted avg       0.53      0.37      0.42    106852\n",
      "\n"
     ]
    }
   ],
   "source": [
    "print(classification_report(non_diabets_predict > np.median(x_non_diabets_test), y_non_diabets_test))\n"
   ]
  }
 ],
 "metadata": {
  "kernelspec": {
   "display_name": "Python 3",
   "language": "python",
   "name": "python3"
  },
  "language_info": {
   "codemirror_mode": {
    "name": "ipython",
    "version": 3
   },
   "file_extension": ".py",
   "mimetype": "text/x-python",
   "name": "python",
   "nbconvert_exporter": "python",
   "pygments_lexer": "ipython3",
   "version": "3.9.2"
  },
  "orig_nbformat": 4
 },
 "nbformat": 4,
 "nbformat_minor": 2
}

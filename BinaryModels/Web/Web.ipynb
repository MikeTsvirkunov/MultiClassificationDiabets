{
 "cells": [
  {
   "cell_type": "code",
   "execution_count": 1,
   "metadata": {},
   "outputs": [],
   "source": [
    "import pandas as pd\n",
    "import matplotlib.pyplot as plt\n",
    "import numpy as np\n",
    "from sklearn.model_selection import train_test_split\n",
    "import tensorflow as tf\n",
    "from sklearn.metrics import accuracy_score, confusion_matrix, classification_report, roc_curve, RocCurveDisplay, auc\n"
   ]
  },
  {
   "cell_type": "code",
   "execution_count": 2,
   "metadata": {},
   "outputs": [],
   "source": [
    "diabets_classes = pd.read_csv('../../DATA/diabets_classes.csv', index_col=False)\n",
    "diabets_x = diabets_classes.drop(['diabets'], axis=1)\n",
    "diabets = diabets_classes['diabets']\n",
    "pre_diabets_classes = pd.read_csv('../../DATA/pre_diabets_classes.csv', index_col=False)\n",
    "pre_diabets_x = pre_diabets_classes.drop(['pre_diabets'], axis=1)\n",
    "pre_diabets = pre_diabets_classes['pre_diabets']\n",
    "non_diabets_classes = pd.read_csv('../../DATA/non_diabets_classes.csv', index_col=False)\n",
    "non_diabets_x = non_diabets_classes.drop(['non_diabets'], axis=1)\n",
    "non_diabets = non_diabets_classes['non_diabets']\n"
   ]
  },
  {
   "cell_type": "code",
   "execution_count": 3,
   "metadata": {},
   "outputs": [],
   "source": [
    "x_diabets_train, x_diabets_test, y_diabets_train, y_diabets_test = train_test_split(diabets_x, diabets, test_size=0.25)\n",
    "x_pre_diabets_train, x_pre_diabets_test, y_pre_diabets_train, y_pre_diabets_test = train_test_split(pre_diabets_x, pre_diabets, test_size=0.25)\n",
    "x_non_diabets_train, x_non_diabets_test, y_non_diabets_train, y_non_diabets_test = train_test_split(non_diabets_x, non_diabets, test_size=0.25)"
   ]
  },
  {
   "cell_type": "code",
   "execution_count": 19,
   "metadata": {},
   "outputs": [],
   "source": [
    "def get_model(X_train, y_train):\n",
    "    diabets_classifier = tf.keras.models.Sequential()\n",
    "    diabets_classifier.add(tf.keras.layers.Dense(X_train.shape[1],\n",
    "                                                activation='sigmoid',\n",
    "                                                input_shape=(X_train.shape[1],),\n",
    "                                                name='input',\n",
    "                                                # kernel_regularizer=tf.keras.regularizers.L2(l2=1),\n",
    "                                                #   kernel_constraint=tf.keras.constraints.max_norm(1000.),\n",
    "                                                # bias_initializer=tf.keras.initializers.HeNormal,\n",
    "                                                use_bias=True\n",
    "                                                ))\n",
    "    diabets_classifier.add(tf.keras.layers.Dense(X_train.shape[1]*2,\n",
    "                                                activation='sigmoid',\n",
    "                                                name='hidden_layer_2',\n",
    "                                                # kernel_regularizer=tf.keras.regularizers.L2(l2=1),\n",
    "                                                #   kernel_constraint=tf.keras.constraints.max_norm(1000.),\n",
    "                                                # bias_initializer=tf.keras.initializers.HeNormal,\n",
    "                                                use_bias=True\n",
    "                                                ))\n",
    "    diabets_classifier.add(tf.keras.layers.Dense(X_train.shape[1]*3,\n",
    "                                                activation='sigmoid',\n",
    "                                                name='hidden_layer_3',\n",
    "                                                # kernel_regularizer=tf.keras.regularizers.L2(l2=1),\n",
    "                                                #   kernel_constraint=tf.keras.constraints.max_norm(1000.),\n",
    "                                                # bias_initializer=tf.keras.initializers.HeNormal,\n",
    "                                                use_bias=True\n",
    "                                                ))\n",
    "    diabets_classifier.add(tf.keras.layers.Dense(X_train.shape[1]*2,\n",
    "                                                 activation='sigmoid',\n",
    "                                                 name='hidden_layer_4',\n",
    "                                                 # kernel_regularizer=tf.keras.regularizers.L2(l2=1),\n",
    "                                                 #   kernel_constraint=tf.keras.constraints.max_norm(1000.),\n",
    "                                                 # bias_initializer=tf.keras.initializers.HeNormal,\n",
    "                                                 use_bias=True\n",
    "                                                 ))\n",
    "    diabets_classifier.add(tf.keras.layers.Dense(X_train.shape[1]*1,\n",
    "                                                 activation='sigmoid',\n",
    "                                                 name='hidden_layer_5',\n",
    "                                                 # kernel_regularizer=tf.keras.regularizers.L2(l2=1),\n",
    "                                                 #   kernel_constraint=tf.keras.constraints.max_norm(1000.),\n",
    "                                                 # bias_initializer=tf.keras.initializers.HeNormal,\n",
    "                                                 use_bias=True\n",
    "                                                 ))\n",
    "    diabets_classifier.add(tf.keras.layers.Dense(X_train.shape[1]//2,\n",
    "                                                 activation='sigmoid',\n",
    "                                                 name='hidden_layer_6',\n",
    "                                                 # kernel_regularizer=tf.keras.regularizers.L2(l2=1),\n",
    "                                                 #   kernel_constraint=tf.keras.constraints.max_norm(1000.),\n",
    "                                                 # bias_initializer=tf.keras.initializers.HeNormal,\n",
    "                                                 use_bias=True\n",
    "                                                 ))\n",
    "    diabets_classifier.add(tf.keras.layers.Dense(1,\n",
    "                                                name='output',\n",
    "                                                activation='sigmoid',\n",
    "                                                # kernel_regularizer=tf.keras.regularizers.L2(l2=1),\n",
    "                                                #   kernel_constraint=tf.keras.constraints.max_norm(1000.),\n",
    "                                                # bias_initializer=tf.keras.initializers.HeNormal,\n",
    "                                                use_bias=True\n",
    "                                                ))\n",
    "    diabets_classifier.summary()\n",
    "    diabets_classifier.compile(\n",
    "        optimizer='Adam',\n",
    "        loss='binary_crossentropy',\n",
    "        metrics=['mse', tf.keras.metrics.FalseNegatives(),\n",
    "                tf.keras.metrics.Recall()]\n",
    "    )\n",
    "    diabets_classifier.fit(\n",
    "        X_train.to_numpy(),\n",
    "        y_train.to_numpy(),\n",
    "        validation_split=0.5,\n",
    "        epochs=20,\n",
    "        batch_size=10\n",
    "    )\n",
    "    return diabets_classifier\n"
   ]
  },
  {
   "attachments": {},
   "cell_type": "markdown",
   "metadata": {},
   "source": [
    "# Diabets KNN"
   ]
  },
  {
   "cell_type": "code",
   "execution_count": 20,
   "metadata": {},
   "outputs": [
    {
     "name": "stdout",
     "output_type": "stream",
     "text": [
      "Model: \"sequential_4\"\n",
      "_________________________________________________________________\n",
      " Layer (type)                Output Shape              Param #   \n",
      "=================================================================\n",
      " input (Dense)               (None, 10)                110       \n",
      "                                                                 \n",
      " hidden_layer_2 (Dense)      (None, 20)                220       \n",
      "                                                                 \n",
      " hidden_layer_3 (Dense)      (None, 30)                630       \n",
      "                                                                 \n",
      " hidden_layer_4 (Dense)      (None, 20)                620       \n",
      "                                                                 \n",
      " hidden_layer_5 (Dense)      (None, 10)                210       \n",
      "                                                                 \n",
      " hidden_layer_6 (Dense)      (None, 5)                 55        \n",
      "                                                                 \n",
      " output (Dense)              (None, 1)                 6         \n",
      "                                                                 \n",
      "=================================================================\n",
      "Total params: 1,851\n",
      "Trainable params: 1,851\n",
      "Non-trainable params: 0\n",
      "_________________________________________________________________\n",
      "Epoch 1/20\n",
      "348/348 [==============================] - 2s 3ms/step - loss: 0.6940 - mse: 0.2505 - false_negatives_4: 1204.0000 - recall_4: 0.3000 - val_loss: 0.6930 - val_mse: 0.2499 - val_false_negatives_4: 0.0000e+00 - val_recall_4: 1.0000\n",
      "Epoch 2/20\n",
      "348/348 [==============================] - 1s 3ms/step - loss: 0.6935 - mse: 0.2502 - false_negatives_4: 647.0000 - recall_4: 0.6238 - val_loss: 0.6938 - val_mse: 0.2503 - val_false_negatives_4: 1761.0000 - val_recall_4: 0.0000e+00\n",
      "Epoch 3/20\n",
      "348/348 [==============================] - 1s 3ms/step - loss: 0.6928 - mse: 0.2498 - false_negatives_4: 1501.0000 - recall_4: 0.1273 - val_loss: 0.6921 - val_mse: 0.2495 - val_false_negatives_4: 0.0000e+00 - val_recall_4: 1.0000\n",
      "Epoch 4/20\n",
      "348/348 [==============================] - 1s 2ms/step - loss: 0.6843 - mse: 0.2456 - false_negatives_4: 381.0000 - recall_4: 0.7785 - val_loss: 0.6718 - val_mse: 0.2394 - val_false_negatives_4: 737.0000 - val_recall_4: 0.5815\n",
      "Epoch 5/20\n",
      "348/348 [==============================] - 1s 3ms/step - loss: 0.6535 - mse: 0.2304 - false_negatives_4: 487.0000 - recall_4: 0.7169 - val_loss: 0.6491 - val_mse: 0.2284 - val_false_negatives_4: 464.0000 - val_recall_4: 0.7365\n",
      "Epoch 6/20\n",
      "348/348 [==============================] - 1s 2ms/step - loss: 0.6412 - mse: 0.2246 - false_negatives_4: 474.0000 - recall_4: 0.7244 - val_loss: 0.6484 - val_mse: 0.2281 - val_false_negatives_4: 557.0000 - val_recall_4: 0.6837\n",
      "Epoch 7/20\n",
      "348/348 [==============================] - 1s 2ms/step - loss: 0.6385 - mse: 0.2234 - false_negatives_4: 442.0000 - recall_4: 0.7430 - val_loss: 0.6462 - val_mse: 0.2271 - val_false_negatives_4: 513.0000 - val_recall_4: 0.7087\n",
      "Epoch 8/20\n",
      "348/348 [==============================] - 1s 2ms/step - loss: 0.6372 - mse: 0.2229 - false_negatives_4: 421.0000 - recall_4: 0.7552 - val_loss: 0.6440 - val_mse: 0.2261 - val_false_negatives_4: 374.0000 - val_recall_4: 0.7876\n",
      "Epoch 9/20\n",
      "348/348 [==============================] - 1s 3ms/step - loss: 0.6361 - mse: 0.2224 - false_negatives_4: 405.0000 - recall_4: 0.7645 - val_loss: 0.6465 - val_mse: 0.2273 - val_false_negatives_4: 536.0000 - val_recall_4: 0.6956\n",
      "Epoch 10/20\n",
      "348/348 [==============================] - 1s 3ms/step - loss: 0.6367 - mse: 0.2227 - false_negatives_4: 430.0000 - recall_4: 0.7500 - val_loss: 0.6424 - val_mse: 0.2254 - val_false_negatives_4: 423.0000 - val_recall_4: 0.7598\n",
      "Epoch 11/20\n",
      "348/348 [==============================] - 1s 2ms/step - loss: 0.6351 - mse: 0.2220 - false_negatives_4: 418.0000 - recall_4: 0.7570 - val_loss: 0.6415 - val_mse: 0.2250 - val_false_negatives_4: 419.0000 - val_recall_4: 0.7621\n",
      "Epoch 12/20\n",
      "348/348 [==============================] - 1s 3ms/step - loss: 0.6339 - mse: 0.2214 - false_negatives_4: 432.0000 - recall_4: 0.7488 - val_loss: 0.6404 - val_mse: 0.2245 - val_false_negatives_4: 394.0000 - val_recall_4: 0.7763\n",
      "Epoch 13/20\n",
      "348/348 [==============================] - 1s 3ms/step - loss: 0.6337 - mse: 0.2214 - false_negatives_4: 431.0000 - recall_4: 0.7494 - val_loss: 0.6395 - val_mse: 0.2241 - val_false_negatives_4: 382.0000 - val_recall_4: 0.7831\n",
      "Epoch 14/20\n",
      "348/348 [==============================] - 1s 2ms/step - loss: 0.6319 - mse: 0.2206 - false_negatives_4: 423.0000 - recall_4: 0.7541 - val_loss: 0.6389 - val_mse: 0.2239 - val_false_negatives_4: 420.0000 - val_recall_4: 0.7615\n",
      "Epoch 15/20\n",
      "348/348 [==============================] - 1s 2ms/step - loss: 0.6318 - mse: 0.2206 - false_negatives_4: 381.0000 - recall_4: 0.7785 - val_loss: 0.6392 - val_mse: 0.2240 - val_false_negatives_4: 457.0000 - val_recall_4: 0.7405\n",
      "Epoch 16/20\n",
      "348/348 [==============================] - 1s 2ms/step - loss: 0.6305 - mse: 0.2201 - false_negatives_4: 414.0000 - recall_4: 0.7593 - val_loss: 0.6371 - val_mse: 0.2231 - val_false_negatives_4: 431.0000 - val_recall_4: 0.7553\n",
      "Epoch 17/20\n",
      "348/348 [==============================] - 1s 3ms/step - loss: 0.6287 - mse: 0.2192 - false_negatives_4: 409.0000 - recall_4: 0.7622 - val_loss: 0.6354 - val_mse: 0.2224 - val_false_negatives_4: 363.0000 - val_recall_4: 0.7939\n",
      "Epoch 18/20\n",
      "348/348 [==============================] - 1s 2ms/step - loss: 0.6269 - mse: 0.2185 - false_negatives_4: 385.0000 - recall_4: 0.7762 - val_loss: 0.6350 - val_mse: 0.2222 - val_false_negatives_4: 403.0000 - val_recall_4: 0.7712\n",
      "Epoch 19/20\n",
      "348/348 [==============================] - 1s 3ms/step - loss: 0.6267 - mse: 0.2185 - false_negatives_4: 376.0000 - recall_4: 0.7814 - val_loss: 0.6368 - val_mse: 0.2231 - val_false_negatives_4: 488.0000 - val_recall_4: 0.7229\n",
      "Epoch 20/20\n",
      "348/348 [==============================] - 1s 3ms/step - loss: 0.6259 - mse: 0.2182 - false_negatives_4: 398.0000 - recall_4: 0.7686 - val_loss: 0.6359 - val_mse: 0.2227 - val_false_negatives_4: 498.0000 - val_recall_4: 0.7172\n"
     ]
    }
   ],
   "source": [
    "diabets_classifier = get_model(x_diabets_train, y_diabets_train)\n"
   ]
  },
  {
   "cell_type": "code",
   "execution_count": 21,
   "metadata": {},
   "outputs": [
    {
     "name": "stdout",
     "output_type": "stream",
     "text": [
      "73/73 [==============================] - 0s 1ms/step\n"
     ]
    },
    {
     "data": {
      "text/plain": [
       "array([0.54716337, 0.56565934, 0.6024111 , ..., 0.6109892 , 0.49134755,\n",
       "       0.58843464], dtype=float32)"
      ]
     },
     "execution_count": 21,
     "metadata": {},
     "output_type": "execute_result"
    }
   ],
   "source": [
    "diabets_predict = diabets_classifier.predict(x_diabets_test).T[0]\n",
    "diabets_predict\n",
    "# 1 min\n"
   ]
  },
  {
   "cell_type": "code",
   "execution_count": 22,
   "metadata": {},
   "outputs": [
    {
     "name": "stdout",
     "output_type": "stream",
     "text": [
      "              precision    recall  f1-score   support\n",
      "\n",
      "       False       0.64      0.65      0.64      1159\n",
      "        True       0.64      0.64      0.64      1157\n",
      "\n",
      "    accuracy                           0.64      2316\n",
      "   macro avg       0.64      0.64      0.64      2316\n",
      "weighted avg       0.64      0.64      0.64      2316\n",
      "\n"
     ]
    }
   ],
   "source": [
    "print(classification_report(diabets_predict > np.median(diabets_predict), y_diabets_test))\n"
   ]
  },
  {
   "attachments": {},
   "cell_type": "markdown",
   "metadata": {},
   "source": [
    "# Prediabets KNN"
   ]
  },
  {
   "cell_type": "code",
   "execution_count": 23,
   "metadata": {},
   "outputs": [
    {
     "name": "stdout",
     "output_type": "stream",
     "text": [
      "Model: \"sequential_5\"\n",
      "_________________________________________________________________\n",
      " Layer (type)                Output Shape              Param #   \n",
      "=================================================================\n",
      " input (Dense)               (None, 10)                110       \n",
      "                                                                 \n",
      " hidden_layer_2 (Dense)      (None, 20)                220       \n",
      "                                                                 \n",
      " hidden_layer_3 (Dense)      (None, 30)                630       \n",
      "                                                                 \n",
      " hidden_layer_4 (Dense)      (None, 20)                620       \n",
      "                                                                 \n",
      " hidden_layer_5 (Dense)      (None, 10)                210       \n",
      "                                                                 \n",
      " hidden_layer_6 (Dense)      (None, 5)                 55        \n",
      "                                                                 \n",
      " output (Dense)              (None, 1)                 6         \n",
      "                                                                 \n",
      "=================================================================\n",
      "Total params: 1,851\n",
      "Trainable params: 1,851\n",
      "Non-trainable params: 0\n",
      "_________________________________________________________________\n",
      "Epoch 1/20\n",
      "348/348 [==============================] - 2s 3ms/step - loss: 0.6945 - mse: 0.2507 - false_negatives_5: 1511.0000 - recall_5: 0.1215 - val_loss: 0.6932 - val_mse: 0.2500 - val_false_negatives_5: 1761.0000 - val_recall_5: 0.0000e+00\n",
      "Epoch 2/20\n",
      "348/348 [==============================] - 1s 3ms/step - loss: 0.6934 - mse: 0.2502 - false_negatives_5: 1078.0000 - recall_5: 0.3733 - val_loss: 0.6938 - val_mse: 0.2503 - val_false_negatives_5: 1761.0000 - val_recall_5: 0.0000e+00\n",
      "Epoch 3/20\n",
      "348/348 [==============================] - 1s 3ms/step - loss: 0.6931 - mse: 0.2500 - false_negatives_5: 1244.0000 - recall_5: 0.2767 - val_loss: 0.6924 - val_mse: 0.2496 - val_false_negatives_5: 0.0000e+00 - val_recall_5: 1.0000\n",
      "Epoch 4/20\n",
      "348/348 [==============================] - 1s 3ms/step - loss: 0.6889 - mse: 0.2479 - false_negatives_5: 947.0000 - recall_5: 0.4494 - val_loss: 0.6771 - val_mse: 0.2420 - val_false_negatives_5: 495.0000 - val_recall_5: 0.7189\n",
      "Epoch 5/20\n",
      "348/348 [==============================] - 1s 2ms/step - loss: 0.6563 - mse: 0.2318 - false_negatives_5: 474.0000 - recall_5: 0.7244 - val_loss: 0.6502 - val_mse: 0.2289 - val_false_negatives_5: 522.0000 - val_recall_5: 0.7036\n",
      "Epoch 6/20\n",
      "348/348 [==============================] - 1s 3ms/step - loss: 0.6424 - mse: 0.2253 - false_negatives_5: 460.0000 - recall_5: 0.7326 - val_loss: 0.6455 - val_mse: 0.2268 - val_false_negatives_5: 404.0000 - val_recall_5: 0.7706\n",
      "Epoch 7/20\n",
      "348/348 [==============================] - 1s 3ms/step - loss: 0.6397 - mse: 0.2240 - false_negatives_5: 415.0000 - recall_5: 0.7587 - val_loss: 0.6490 - val_mse: 0.2285 - val_false_negatives_5: 566.0000 - val_recall_5: 0.6786\n",
      "Epoch 8/20\n",
      "348/348 [==============================] - 1s 3ms/step - loss: 0.6377 - mse: 0.2231 - false_negatives_5: 437.0000 - recall_5: 0.7459 - val_loss: 0.6439 - val_mse: 0.2261 - val_false_negatives_5: 440.0000 - val_recall_5: 0.7501\n",
      "Epoch 9/20\n",
      "348/348 [==============================] - 1s 3ms/step - loss: 0.6369 - mse: 0.2229 - false_negatives_5: 403.0000 - recall_5: 0.7657 - val_loss: 0.6426 - val_mse: 0.2256 - val_false_negatives_5: 401.0000 - val_recall_5: 0.7723\n",
      "Epoch 10/20\n",
      "348/348 [==============================] - 1s 3ms/step - loss: 0.6353 - mse: 0.2221 - false_negatives_5: 419.0000 - recall_5: 0.7564 - val_loss: 0.6420 - val_mse: 0.2253 - val_false_negatives_5: 423.0000 - val_recall_5: 0.7598\n",
      "Epoch 11/20\n",
      "348/348 [==============================] - 1s 3ms/step - loss: 0.6349 - mse: 0.2219 - false_negatives_5: 415.0000 - recall_5: 0.7587 - val_loss: 0.6408 - val_mse: 0.2248 - val_false_negatives_5: 338.0000 - val_recall_5: 0.8081\n",
      "Epoch 12/20\n",
      "348/348 [==============================] - 1s 3ms/step - loss: 0.6343 - mse: 0.2217 - false_negatives_5: 400.0000 - recall_5: 0.7674 - val_loss: 0.6403 - val_mse: 0.2245 - val_false_negatives_5: 367.0000 - val_recall_5: 0.7916\n",
      "Epoch 13/20\n",
      "348/348 [==============================] - 1s 3ms/step - loss: 0.6330 - mse: 0.2212 - false_negatives_5: 395.0000 - recall_5: 0.7703 - val_loss: 0.6405 - val_mse: 0.2247 - val_false_negatives_5: 460.0000 - val_recall_5: 0.7388\n",
      "Epoch 14/20\n",
      "348/348 [==============================] - 1s 3ms/step - loss: 0.6316 - mse: 0.2206 - false_negatives_5: 407.0000 - recall_5: 0.7634 - val_loss: 0.6386 - val_mse: 0.2238 - val_false_negatives_5: 321.0000 - val_recall_5: 0.8177\n",
      "Epoch 15/20\n",
      "348/348 [==============================] - 1s 2ms/step - loss: 0.6314 - mse: 0.2205 - false_negatives_5: 389.0000 - recall_5: 0.7738 - val_loss: 0.6375 - val_mse: 0.2233 - val_false_negatives_5: 409.0000 - val_recall_5: 0.7677\n",
      "Epoch 16/20\n",
      "348/348 [==============================] - 1s 3ms/step - loss: 0.6300 - mse: 0.2200 - false_negatives_5: 377.0000 - recall_5: 0.7808 - val_loss: 0.6364 - val_mse: 0.2229 - val_false_negatives_5: 395.0000 - val_recall_5: 0.7757\n",
      "Epoch 17/20\n",
      "348/348 [==============================] - 1s 3ms/step - loss: 0.6286 - mse: 0.2194 - false_negatives_5: 384.0000 - recall_5: 0.7767 - val_loss: 0.6356 - val_mse: 0.2225 - val_false_negatives_5: 330.0000 - val_recall_5: 0.8126\n",
      "Epoch 18/20\n",
      "348/348 [==============================] - 1s 3ms/step - loss: 0.6286 - mse: 0.2194 - false_negatives_5: 382.0000 - recall_5: 0.7779 - val_loss: 0.6349 - val_mse: 0.2222 - val_false_negatives_5: 396.0000 - val_recall_5: 0.7751\n",
      "Epoch 19/20\n",
      "348/348 [==============================] - 1s 3ms/step - loss: 0.6265 - mse: 0.2185 - false_negatives_5: 371.0000 - recall_5: 0.7843 - val_loss: 0.6338 - val_mse: 0.2218 - val_false_negatives_5: 381.0000 - val_recall_5: 0.7836\n",
      "Epoch 20/20\n",
      "348/348 [==============================] - 1s 3ms/step - loss: 0.6259 - mse: 0.2183 - false_negatives_5: 358.0000 - recall_5: 0.7919 - val_loss: 0.6428 - val_mse: 0.2259 - val_false_negatives_5: 581.0000 - val_recall_5: 0.6701\n"
     ]
    }
   ],
   "source": [
    "pre_diabets_classifier = get_model(x_diabets_train, y_diabets_train)\n",
    "# 6 min\n"
   ]
  },
  {
   "cell_type": "code",
   "execution_count": 26,
   "metadata": {},
   "outputs": [
    {
     "name": "stdout",
     "output_type": "stream",
     "text": [
      "553/553 [==============================] - 1s 1ms/step\n"
     ]
    }
   ],
   "source": [
    "pre_diabets_predict = diabets_classifier.predict(x_pre_diabets_test).T[0]\n",
    "# 1 min\n"
   ]
  },
  {
   "cell_type": "code",
   "execution_count": 28,
   "metadata": {},
   "outputs": [
    {
     "name": "stdout",
     "output_type": "stream",
     "text": [
      "              precision    recall  f1-score   support\n",
      "\n",
      "       False       0.72      0.72      0.72      8837\n",
      "        True       0.72      0.72      0.72      8836\n",
      "\n",
      "    accuracy                           0.72     17673\n",
      "   macro avg       0.72      0.72      0.72     17673\n",
      "weighted avg       0.72      0.72      0.72     17673\n",
      "\n"
     ]
    }
   ],
   "source": [
    "print(classification_report(pre_diabets_predict > np.median(pre_diabets_predict), y_pre_diabets_test))\n"
   ]
  },
  {
   "attachments": {},
   "cell_type": "markdown",
   "metadata": {},
   "source": [
    "# Nondiabets KNN"
   ]
  },
  {
   "cell_type": "code",
   "execution_count": 29,
   "metadata": {},
   "outputs": [
    {
     "name": "stdout",
     "output_type": "stream",
     "text": [
      "Model: \"sequential_6\"\n",
      "_________________________________________________________________\n",
      " Layer (type)                Output Shape              Param #   \n",
      "=================================================================\n",
      " input (Dense)               (None, 10)                110       \n",
      "                                                                 \n",
      " hidden_layer_2 (Dense)      (None, 20)                220       \n",
      "                                                                 \n",
      " hidden_layer_3 (Dense)      (None, 30)                630       \n",
      "                                                                 \n",
      " hidden_layer_4 (Dense)      (None, 20)                620       \n",
      "                                                                 \n",
      " hidden_layer_5 (Dense)      (None, 10)                210       \n",
      "                                                                 \n",
      " hidden_layer_6 (Dense)      (None, 5)                 55        \n",
      "                                                                 \n",
      " output (Dense)              (None, 1)                 6         \n",
      "                                                                 \n",
      "=================================================================\n",
      "Total params: 1,851\n",
      "Trainable params: 1,851\n",
      "Non-trainable params: 0\n",
      "_________________________________________________________________\n",
      "Epoch 1/20\n",
      "9513/9513 [==============================] - 24s 2ms/step - loss: 0.4141 - mse: 0.1277 - false_negatives_6: 499.0000 - recall_6: 0.9938 - val_loss: 0.3651 - val_mse: 0.1139 - val_false_negatives_6: 0.0000e+00 - val_recall_6: 1.0000\n",
      "Epoch 2/20\n",
      "9513/9513 [==============================] - 23s 2ms/step - loss: 0.3596 - mse: 0.1124 - false_negatives_6: 81.0000 - recall_6: 0.9990 - val_loss: 0.3528 - val_mse: 0.1107 - val_false_negatives_6: 542.0000 - val_recall_6: 0.9932\n",
      "Epoch 3/20\n",
      "9513/9513 [==============================] - 22s 2ms/step - loss: 0.3522 - mse: 0.1104 - false_negatives_6: 1092.0000 - recall_6: 0.9864 - val_loss: 0.3479 - val_mse: 0.1093 - val_false_negatives_6: 1944.0000 - val_recall_6: 0.9757\n",
      "Epoch 4/20\n",
      "9513/9513 [==============================] - 22s 2ms/step - loss: 0.3494 - mse: 0.1096 - false_negatives_6: 1654.0000 - recall_6: 0.9794 - val_loss: 0.3462 - val_mse: 0.1088 - val_false_negatives_6: 2417.0000 - val_recall_6: 0.9698\n",
      "Epoch 5/20\n",
      "9513/9513 [==============================] - 23s 2ms/step - loss: 0.3486 - mse: 0.1094 - false_negatives_6: 1828.0000 - recall_6: 0.9772 - val_loss: 0.3465 - val_mse: 0.1089 - val_false_negatives_6: 1272.0000 - val_recall_6: 0.9841\n",
      "Epoch 6/20\n",
      "9513/9513 [==============================] - 23s 2ms/step - loss: 0.3480 - mse: 0.1091 - false_negatives_6: 1944.0000 - recall_6: 0.9757 - val_loss: 0.3470 - val_mse: 0.1093 - val_false_negatives_6: 757.0000 - val_recall_6: 0.9905\n",
      "Epoch 7/20\n",
      "9513/9513 [==============================] - 23s 2ms/step - loss: 0.3476 - mse: 0.1091 - false_negatives_6: 1968.0000 - recall_6: 0.9754 - val_loss: 0.3456 - val_mse: 0.1087 - val_false_negatives_6: 1341.0000 - val_recall_6: 0.9832\n",
      "Epoch 8/20\n",
      "9513/9513 [==============================] - 23s 2ms/step - loss: 0.3474 - mse: 0.1090 - false_negatives_6: 1978.0000 - recall_6: 0.9753 - val_loss: 0.3449 - val_mse: 0.1083 - val_false_negatives_6: 1913.0000 - val_recall_6: 0.9761\n",
      "Epoch 9/20\n",
      "9513/9513 [==============================] - 23s 2ms/step - loss: 0.3470 - mse: 0.1088 - false_negatives_6: 1994.0000 - recall_6: 0.9751 - val_loss: 0.3445 - val_mse: 0.1082 - val_false_negatives_6: 2401.0000 - val_recall_6: 0.9700\n",
      "Epoch 10/20\n",
      "9513/9513 [==============================] - 22s 2ms/step - loss: 0.3465 - mse: 0.1087 - false_negatives_6: 2097.0000 - recall_6: 0.9738 - val_loss: 0.3438 - val_mse: 0.1080 - val_false_negatives_6: 2401.0000 - val_recall_6: 0.9700\n",
      "Epoch 11/20\n",
      "9513/9513 [==============================] - 22s 2ms/step - loss: 0.3462 - mse: 0.1086 - false_negatives_6: 2072.0000 - recall_6: 0.9741 - val_loss: 0.3446 - val_mse: 0.1081 - val_false_negatives_6: 2635.0000 - val_recall_6: 0.9671\n",
      "Epoch 12/20\n",
      "9513/9513 [==============================] - 22s 2ms/step - loss: 0.3459 - mse: 0.1084 - false_negatives_6: 2066.0000 - recall_6: 0.9742 - val_loss: 0.3434 - val_mse: 0.1078 - val_false_negatives_6: 2273.0000 - val_recall_6: 0.9716\n",
      "Epoch 13/20\n",
      "9513/9513 [==============================] - 23s 2ms/step - loss: 0.3455 - mse: 0.1083 - false_negatives_6: 2086.0000 - recall_6: 0.9740 - val_loss: 0.3479 - val_mse: 0.1095 - val_false_negatives_6: 767.0000 - val_recall_6: 0.9904\n",
      "Epoch 14/20\n",
      "9513/9513 [==============================] - 23s 2ms/step - loss: 0.3452 - mse: 0.1081 - false_negatives_6: 2013.0000 - recall_6: 0.9749 - val_loss: 0.3436 - val_mse: 0.1079 - val_false_negatives_6: 1618.0000 - val_recall_6: 0.9798\n",
      "Epoch 15/20\n",
      "9513/9513 [==============================] - 22s 2ms/step - loss: 0.3451 - mse: 0.1081 - false_negatives_6: 2102.0000 - recall_6: 0.9738 - val_loss: 0.3435 - val_mse: 0.1076 - val_false_negatives_6: 2331.0000 - val_recall_6: 0.9709\n",
      "Epoch 16/20\n",
      "9513/9513 [==============================] - 22s 2ms/step - loss: 0.3448 - mse: 0.1079 - false_negatives_6: 2031.0000 - recall_6: 0.9746 - val_loss: 0.3431 - val_mse: 0.1077 - val_false_negatives_6: 2887.0000 - val_recall_6: 0.9639\n",
      "Epoch 17/20\n",
      "9513/9513 [==============================] - 22s 2ms/step - loss: 0.3447 - mse: 0.1079 - false_negatives_6: 1996.0000 - recall_6: 0.9751 - val_loss: 0.3455 - val_mse: 0.1087 - val_false_negatives_6: 1214.0000 - val_recall_6: 0.9848\n",
      "Epoch 18/20\n",
      "9513/9513 [==============================] - 22s 2ms/step - loss: 0.3446 - mse: 0.1079 - false_negatives_6: 2060.0000 - recall_6: 0.9743 - val_loss: 0.3422 - val_mse: 0.1074 - val_false_negatives_6: 1671.0000 - val_recall_6: 0.9791\n",
      "Epoch 19/20\n",
      "9513/9513 [==============================] - 22s 2ms/step - loss: 0.3444 - mse: 0.1078 - false_negatives_6: 2015.0000 - recall_6: 0.9748 - val_loss: 0.3470 - val_mse: 0.1089 - val_false_negatives_6: 911.0000 - val_recall_6: 0.9886\n",
      "Epoch 20/20\n",
      "9513/9513 [==============================] - 22s 2ms/step - loss: 0.3442 - mse: 0.1077 - false_negatives_6: 2016.0000 - recall_6: 0.9748 - val_loss: 0.3419 - val_mse: 0.1073 - val_false_negatives_6: 2187.0000 - val_recall_6: 0.9727\n"
     ]
    }
   ],
   "source": [
    "non_diabets_classifier = get_model(x_non_diabets_train, y_non_diabets_train)\n",
    "# 6 min\n"
   ]
  },
  {
   "cell_type": "code",
   "execution_count": 30,
   "metadata": {},
   "outputs": [
    {
     "name": "stdout",
     "output_type": "stream",
     "text": [
      "1982/1982 [==============================] - 2s 1ms/step\n"
     ]
    }
   ],
   "source": [
    "non_diabets_predict = diabets_classifier.predict(x_non_diabets_test).T[0]\n",
    "# 1 min\n"
   ]
  },
  {
   "cell_type": "code",
   "execution_count": 31,
   "metadata": {},
   "outputs": [
    {
     "name": "stdout",
     "output_type": "stream",
     "text": [
      "              precision    recall  f1-score   support\n",
      "\n",
      "       False       0.02      0.01      0.02     14226\n",
      "        True       0.74      0.80      0.77     49194\n",
      "\n",
      "    accuracy                           0.63     63420\n",
      "   macro avg       0.38      0.41      0.39     63420\n",
      "weighted avg       0.58      0.63      0.60     63420\n",
      "\n"
     ]
    }
   ],
   "source": [
    "print(classification_report(non_diabets_predict > np.median(x_non_diabets_test), y_non_diabets_test))\n"
   ]
  }
 ],
 "metadata": {
  "kernelspec": {
   "display_name": "Python 3",
   "language": "python",
   "name": "python3"
  },
  "language_info": {
   "codemirror_mode": {
    "name": "ipython",
    "version": 3
   },
   "file_extension": ".py",
   "mimetype": "text/x-python",
   "name": "python",
   "nbconvert_exporter": "python",
   "pygments_lexer": "ipython3",
   "version": "3.9.2"
  },
  "orig_nbformat": 4
 },
 "nbformat": 4,
 "nbformat_minor": 2
}

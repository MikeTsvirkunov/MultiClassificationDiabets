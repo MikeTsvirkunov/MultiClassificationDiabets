{
 "cells": [
  {
   "cell_type": "code",
   "execution_count": 1,
   "metadata": {},
   "outputs": [],
   "source": [
    "import pandas as pd\n",
    "import matplotlib.pyplot as plt\n",
    "import numpy as np\n",
    "from sklearn.model_selection import train_test_split\n",
    "import tensorflow as tf\n",
    "from sklearn.metrics import accuracy_score, confusion_matrix, classification_report, roc_curve, RocCurveDisplay, auc\n"
   ]
  },
  {
   "cell_type": "code",
   "execution_count": 2,
   "metadata": {},
   "outputs": [],
   "source": [
    "diabets_classes = pd.read_csv('../../DATA/diabets_classes.csv', index_col=False)\n",
    "diabets_x = diabets_classes.drop(['diabets'], axis=1)\n",
    "diabets = diabets_classes['diabets']\n",
    "pre_diabets_classes = pd.read_csv('../../DATA/pre_diabets_classes.csv', index_col=False)\n",
    "pre_diabets_x = pre_diabets_classes.drop(['pre_diabets'], axis=1)\n",
    "pre_diabets = pre_diabets_classes['pre_diabets']\n",
    "non_diabets_classes = pd.read_csv('../../DATA/non_diabets_classes.csv', index_col=False)\n",
    "non_diabets_x = non_diabets_classes.drop(['non_diabets'], axis=1)\n",
    "non_diabets = non_diabets_classes['non_diabets']\n"
   ]
  },
  {
   "cell_type": "code",
   "execution_count": 3,
   "metadata": {},
   "outputs": [],
   "source": [
    "x_diabets_train, x_diabets_test, y_diabets_train, y_diabets_test = train_test_split(diabets_x, diabets, test_size=0.25)\n",
    "x_pre_diabets_train, x_pre_diabets_test, y_pre_diabets_train, y_pre_diabets_test = train_test_split(pre_diabets_x, pre_diabets, test_size=0.25)\n",
    "x_non_diabets_train, x_non_diabets_test, y_non_diabets_train, y_non_diabets_test = train_test_split(non_diabets_x, non_diabets, test_size=0.25)"
   ]
  },
  {
   "cell_type": "code",
   "execution_count": 4,
   "metadata": {},
   "outputs": [],
   "source": [
    "def get_model(X_train, y_train):\n",
    "    diabets_classifier = tf.keras.models.Sequential()\n",
    "    diabets_classifier.add(tf.keras.layers.Dense(X_train.shape[1],\n",
    "                                                activation='sigmoid',\n",
    "                                                input_shape=(X_train.shape[1],),\n",
    "                                                name='input',\n",
    "                                                # kernel_regularizer=tf.keras.regularizers.L2(l2=1),\n",
    "                                                #   kernel_constraint=tf.keras.constraints.max_norm(1000.),\n",
    "                                                # bias_initializer=tf.keras.initializers.HeNormal,\n",
    "                                                use_bias=True\n",
    "                                                ))\n",
    "    diabets_classifier.add(tf.keras.layers.Dense(X_train.shape[1]*2,\n",
    "                                                activation='sigmoid',\n",
    "                                                name='hidden_layer_2',\n",
    "                                                # kernel_regularizer=tf.keras.regularizers.L2(l2=1),\n",
    "                                                #   kernel_constraint=tf.keras.constraints.max_norm(1000.),\n",
    "                                                # bias_initializer=tf.keras.initializers.HeNormal,\n",
    "                                                use_bias=True\n",
    "                                                ))\n",
    "    diabets_classifier.add(tf.keras.layers.Dense(X_train.shape[1]*3,\n",
    "                                                activation='sigmoid',\n",
    "                                                name='hidden_layer_3',\n",
    "                                                # kernel_regularizer=tf.keras.regularizers.L2(l2=1),\n",
    "                                                #   kernel_constraint=tf.keras.constraints.max_norm(1000.),\n",
    "                                                # bias_initializer=tf.keras.initializers.HeNormal,\n",
    "                                                use_bias=True\n",
    "                                                ))\n",
    "    diabets_classifier.add(tf.keras.layers.Dense(X_train.shape[1]*2,\n",
    "                                                 activation='sigmoid',\n",
    "                                                 name='hidden_layer_4',\n",
    "                                                 # kernel_regularizer=tf.keras.regularizers.L2(l2=1),\n",
    "                                                 #   kernel_constraint=tf.keras.constraints.max_norm(1000.),\n",
    "                                                 # bias_initializer=tf.keras.initializers.HeNormal,\n",
    "                                                 use_bias=True\n",
    "                                                 ))\n",
    "    diabets_classifier.add(tf.keras.layers.Dense(X_train.shape[1]*1,\n",
    "                                                 activation='sigmoid',\n",
    "                                                 name='hidden_layer_5',\n",
    "                                                 # kernel_regularizer=tf.keras.regularizers.L2(l2=1),\n",
    "                                                 #   kernel_constraint=tf.keras.constraints.max_norm(1000.),\n",
    "                                                 # bias_initializer=tf.keras.initializers.HeNormal,\n",
    "                                                 use_bias=True\n",
    "                                                 ))\n",
    "    diabets_classifier.add(tf.keras.layers.Dense(X_train.shape[1]//2,\n",
    "                                                 activation='sigmoid',\n",
    "                                                 name='hidden_layer_6',\n",
    "                                                 # kernel_regularizer=tf.keras.regularizers.L2(l2=1),\n",
    "                                                 #   kernel_constraint=tf.keras.constraints.max_norm(1000.),\n",
    "                                                 # bias_initializer=tf.keras.initializers.HeNormal,\n",
    "                                                 use_bias=True\n",
    "                                                 ))\n",
    "    diabets_classifier.add(tf.keras.layers.Dense(1,\n",
    "                                                name='output',\n",
    "                                                activation='sigmoid',\n",
    "                                                # kernel_regularizer=tf.keras.regularizers.L2(l2=1),\n",
    "                                                #   kernel_constraint=tf.keras.constraints.max_norm(1000.),\n",
    "                                                # bias_initializer=tf.keras.initializers.HeNormal,\n",
    "                                                use_bias=True\n",
    "                                                ))\n",
    "    diabets_classifier.summary()\n",
    "    diabets_classifier.compile(\n",
    "        optimizer='Adam',\n",
    "        loss='binary_crossentropy',\n",
    "        metrics=['mse', tf.keras.metrics.FalseNegatives(),\n",
    "                tf.keras.metrics.Recall()]\n",
    "    )\n",
    "    diabets_classifier.fit(\n",
    "        X_train.to_numpy(),\n",
    "        y_train.to_numpy(),\n",
    "        validation_split=0.5,\n",
    "        epochs=20,\n",
    "        batch_size=10\n",
    "    )\n",
    "    return diabets_classifier\n"
   ]
  },
  {
   "attachments": {},
   "cell_type": "markdown",
   "metadata": {},
   "source": [
    "# Diabets KNN"
   ]
  },
  {
   "cell_type": "code",
   "execution_count": 5,
   "metadata": {},
   "outputs": [
    {
     "name": "stdout",
     "output_type": "stream",
     "text": [
      "Model: \"sequential\"\n",
      "_________________________________________________________________\n",
      " Layer (type)                Output Shape              Param #   \n",
      "=================================================================\n",
      " input (Dense)               (None, 17)                306       \n",
      "                                                                 \n",
      " hidden_layer_2 (Dense)      (None, 34)                612       \n",
      "                                                                 \n",
      " hidden_layer_3 (Dense)      (None, 51)                1785      \n",
      "                                                                 \n",
      " hidden_layer_4 (Dense)      (None, 34)                1768      \n",
      "                                                                 \n",
      " hidden_layer_5 (Dense)      (None, 17)                595       \n",
      "                                                                 \n",
      " hidden_layer_6 (Dense)      (None, 8)                 144       \n",
      "                                                                 \n",
      " output (Dense)              (None, 1)                 9         \n",
      "                                                                 \n",
      "=================================================================\n",
      "Total params: 5,219\n",
      "Trainable params: 5,219\n",
      "Non-trainable params: 0\n",
      "_________________________________________________________________\n",
      "Epoch 1/20\n",
      "348/348 [==============================] - 2s 3ms/step - loss: 0.6935 - mse: 0.2502 - false_negatives: 961.0000 - recall: 0.4390 - val_loss: 0.6940 - val_mse: 0.2504 - val_false_negatives: 1745.0000 - val_recall: 0.0000e+00\n",
      "Epoch 2/20\n",
      "348/348 [==============================] - 1s 3ms/step - loss: 0.6941 - mse: 0.2505 - false_negatives: 1212.0000 - recall: 0.2925 - val_loss: 0.6924 - val_mse: 0.2496 - val_false_negatives: 0.0000e+00 - val_recall: 1.0000\n",
      "Epoch 3/20\n",
      "348/348 [==============================] - 1s 3ms/step - loss: 0.6823 - mse: 0.2446 - false_negatives: 579.0000 - recall: 0.6620 - val_loss: 0.6580 - val_mse: 0.2327 - val_false_negatives: 580.0000 - val_recall: 0.6676\n",
      "Epoch 4/20\n",
      "348/348 [==============================] - 1s 3ms/step - loss: 0.6461 - mse: 0.2272 - false_negatives: 416.0000 - recall: 0.7572 - val_loss: 0.6456 - val_mse: 0.2271 - val_false_negatives: 367.0000 - val_recall: 0.7897\n",
      "Epoch 5/20\n",
      "348/348 [==============================] - 1s 3ms/step - loss: 0.6409 - mse: 0.2249 - false_negatives: 371.0000 - recall: 0.7834 - val_loss: 0.6439 - val_mse: 0.2264 - val_false_negatives: 381.0000 - val_recall: 0.7817\n",
      "Epoch 6/20\n",
      "348/348 [==============================] - 1s 3ms/step - loss: 0.6382 - mse: 0.2238 - false_negatives: 356.0000 - recall: 0.7922 - val_loss: 0.6422 - val_mse: 0.2257 - val_false_negatives: 328.0000 - val_recall: 0.8120\n",
      "Epoch 7/20\n",
      "348/348 [==============================] - 1s 3ms/step - loss: 0.6362 - mse: 0.2229 - false_negatives: 351.0000 - recall: 0.7951 - val_loss: 0.6411 - val_mse: 0.2253 - val_false_negatives: 296.0000 - val_recall: 0.8304\n",
      "Epoch 8/20\n",
      "348/348 [==============================] - 1s 3ms/step - loss: 0.6331 - mse: 0.2217 - false_negatives: 329.0000 - recall: 0.8079 - val_loss: 0.6406 - val_mse: 0.2251 - val_false_negatives: 391.0000 - val_recall: 0.7759\n",
      "Epoch 9/20\n",
      "348/348 [==============================] - 1s 2ms/step - loss: 0.6349 - mse: 0.2225 - false_negatives: 339.0000 - recall: 0.8021 - val_loss: 0.6385 - val_mse: 0.2243 - val_false_negatives: 314.0000 - val_recall: 0.8201\n",
      "Epoch 10/20\n",
      "348/348 [==============================] - 1s 2ms/step - loss: 0.6325 - mse: 0.2214 - false_negatives: 343.0000 - recall: 0.7998 - val_loss: 0.6391 - val_mse: 0.2246 - val_false_negatives: 267.0000 - val_recall: 0.8470\n",
      "Epoch 11/20\n",
      "348/348 [==============================] - 1s 3ms/step - loss: 0.6310 - mse: 0.2209 - false_negatives: 328.0000 - recall: 0.8085 - val_loss: 0.6406 - val_mse: 0.2250 - val_false_negatives: 442.0000 - val_recall: 0.7467\n",
      "Epoch 12/20\n",
      "348/348 [==============================] - 1s 2ms/step - loss: 0.6300 - mse: 0.2204 - false_negatives: 330.0000 - recall: 0.8074 - val_loss: 0.6373 - val_mse: 0.2237 - val_false_negatives: 403.0000 - val_recall: 0.7691\n",
      "Epoch 13/20\n",
      "348/348 [==============================] - 1s 3ms/step - loss: 0.6283 - mse: 0.2197 - false_negatives: 321.0000 - recall: 0.8126 - val_loss: 0.6351 - val_mse: 0.2230 - val_false_negatives: 255.0000 - val_recall: 0.8539\n",
      "Epoch 14/20\n",
      "348/348 [==============================] - 1s 3ms/step - loss: 0.6283 - mse: 0.2197 - false_negatives: 326.0000 - recall: 0.8097 - val_loss: 0.6347 - val_mse: 0.2227 - val_false_negatives: 357.0000 - val_recall: 0.7954\n",
      "Epoch 15/20\n",
      "348/348 [==============================] - 1s 3ms/step - loss: 0.6271 - mse: 0.2191 - false_negatives: 343.0000 - recall: 0.7998 - val_loss: 0.6398 - val_mse: 0.2247 - val_false_negatives: 456.0000 - val_recall: 0.7387\n",
      "Epoch 16/20\n",
      "348/348 [==============================] - 1s 2ms/step - loss: 0.6282 - mse: 0.2197 - false_negatives: 331.0000 - recall: 0.8068 - val_loss: 0.6335 - val_mse: 0.2223 - val_false_negatives: 417.0000 - val_recall: 0.7610\n",
      "Epoch 17/20\n",
      "348/348 [==============================] - 1s 2ms/step - loss: 0.6263 - mse: 0.2190 - false_negatives: 344.0000 - recall: 0.7992 - val_loss: 0.6337 - val_mse: 0.2223 - val_false_negatives: 415.0000 - val_recall: 0.7622\n",
      "Epoch 18/20\n",
      "348/348 [==============================] - 1s 2ms/step - loss: 0.6273 - mse: 0.2194 - false_negatives: 341.0000 - recall: 0.8009 - val_loss: 0.6307 - val_mse: 0.2212 - val_false_negatives: 290.0000 - val_recall: 0.8338\n",
      "Epoch 19/20\n",
      "348/348 [==============================] - 1s 3ms/step - loss: 0.6254 - mse: 0.2186 - false_negatives: 329.0000 - recall: 0.8079 - val_loss: 0.6307 - val_mse: 0.2212 - val_false_negatives: 316.0000 - val_recall: 0.8189\n",
      "Epoch 20/20\n",
      "348/348 [==============================] - 1s 2ms/step - loss: 0.6249 - mse: 0.2184 - false_negatives: 332.0000 - recall: 0.8062 - val_loss: 0.6385 - val_mse: 0.2243 - val_false_negatives: 529.0000 - val_recall: 0.6968\n"
     ]
    }
   ],
   "source": [
    "diabets_classifier = get_model(x_diabets_train, y_diabets_train)\n"
   ]
  },
  {
   "cell_type": "code",
   "execution_count": 6,
   "metadata": {},
   "outputs": [
    {
     "name": "stdout",
     "output_type": "stream",
     "text": [
      "73/73 [==============================] - 0s 1ms/step\n"
     ]
    },
    {
     "data": {
      "text/plain": [
       "array([0.61975384, 0.5963406 , 0.25121632, ..., 0.5406073 , 0.6118195 ,\n",
       "       0.110283  ], dtype=float32)"
      ]
     },
     "execution_count": 6,
     "metadata": {},
     "output_type": "execute_result"
    }
   ],
   "source": [
    "diabets_predict = diabets_classifier.predict(x_diabets_test).T[0]\n",
    "diabets_predict\n",
    "# 1 min\n"
   ]
  },
  {
   "cell_type": "code",
   "execution_count": 7,
   "metadata": {},
   "outputs": [
    {
     "name": "stdout",
     "output_type": "stream",
     "text": [
      "              precision    recall  f1-score   support\n",
      "\n",
      "       False       0.66      0.65      0.65      1158\n",
      "        True       0.65      0.66      0.66      1158\n",
      "\n",
      "    accuracy                           0.66      2316\n",
      "   macro avg       0.66      0.66      0.66      2316\n",
      "weighted avg       0.66      0.66      0.66      2316\n",
      "\n"
     ]
    }
   ],
   "source": [
    "print(classification_report(diabets_predict > np.median(diabets_predict), y_diabets_test))\n"
   ]
  },
  {
   "attachments": {},
   "cell_type": "markdown",
   "metadata": {},
   "source": [
    "# Prediabets KNN"
   ]
  },
  {
   "cell_type": "code",
   "execution_count": 8,
   "metadata": {},
   "outputs": [
    {
     "name": "stdout",
     "output_type": "stream",
     "text": [
      "Model: \"sequential_1\"\n",
      "_________________________________________________________________\n",
      " Layer (type)                Output Shape              Param #   \n",
      "=================================================================\n",
      " input (Dense)               (None, 17)                306       \n",
      "                                                                 \n",
      " hidden_layer_2 (Dense)      (None, 34)                612       \n",
      "                                                                 \n",
      " hidden_layer_3 (Dense)      (None, 51)                1785      \n",
      "                                                                 \n",
      " hidden_layer_4 (Dense)      (None, 34)                1768      \n",
      "                                                                 \n",
      " hidden_layer_5 (Dense)      (None, 17)                595       \n",
      "                                                                 \n",
      " hidden_layer_6 (Dense)      (None, 8)                 144       \n",
      "                                                                 \n",
      " output (Dense)              (None, 1)                 9         \n",
      "                                                                 \n",
      "=================================================================\n",
      "Total params: 5,219\n",
      "Trainable params: 5,219\n",
      "Non-trainable params: 0\n",
      "_________________________________________________________________\n",
      "Epoch 1/20\n",
      "348/348 [==============================] - 2s 3ms/step - loss: 0.7182 - mse: 0.2612 - false_negatives_1: 591.0000 - recall_1: 0.6550 - val_loss: 0.6932 - val_mse: 0.2500 - val_false_negatives_1: 0.0000e+00 - val_recall_1: 1.0000\n",
      "Epoch 2/20\n",
      "348/348 [==============================] - 1s 3ms/step - loss: 0.6937 - mse: 0.2503 - false_negatives_1: 1291.0000 - recall_1: 0.2464 - val_loss: 0.6932 - val_mse: 0.2500 - val_false_negatives_1: 1745.0000 - val_recall_1: 0.0000e+00\n",
      "Epoch 3/20\n",
      "348/348 [==============================] - 1s 2ms/step - loss: 0.6938 - mse: 0.2503 - false_negatives_1: 1104.0000 - recall_1: 0.3555 - val_loss: 0.6949 - val_mse: 0.2509 - val_false_negatives_1: 1745.0000 - val_recall_1: 0.0000e+00\n",
      "Epoch 4/20\n",
      "348/348 [==============================] - 1s 2ms/step - loss: 0.6931 - mse: 0.2500 - false_negatives_1: 1189.0000 - recall_1: 0.3059 - val_loss: 0.6932 - val_mse: 0.2500 - val_false_negatives_1: 1745.0000 - val_recall_1: 0.0000e+00\n",
      "Epoch 5/20\n",
      "348/348 [==============================] - 1s 2ms/step - loss: 0.6906 - mse: 0.2487 - false_negatives_1: 976.0000 - recall_1: 0.4302 - val_loss: 0.6798 - val_mse: 0.2433 - val_false_negatives_1: 731.0000 - val_recall_1: 0.5811\n",
      "Epoch 6/20\n",
      "348/348 [==============================] - 1s 3ms/step - loss: 0.6603 - mse: 0.2338 - false_negatives_1: 498.0000 - recall_1: 0.7093 - val_loss: 0.6527 - val_mse: 0.2302 - val_false_negatives_1: 554.0000 - val_recall_1: 0.6825\n",
      "Epoch 7/20\n",
      "348/348 [==============================] - 1s 2ms/step - loss: 0.6483 - mse: 0.2281 - false_negatives_1: 431.0000 - recall_1: 0.7484 - val_loss: 0.6487 - val_mse: 0.2284 - val_false_negatives_1: 471.0000 - val_recall_1: 0.7301\n",
      "Epoch 8/20\n",
      "348/348 [==============================] - 1s 3ms/step - loss: 0.6435 - mse: 0.2259 - false_negatives_1: 384.0000 - recall_1: 0.7758 - val_loss: 0.6473 - val_mse: 0.2278 - val_false_negatives_1: 438.0000 - val_recall_1: 0.7490\n",
      "Epoch 9/20\n",
      "348/348 [==============================] - 1s 2ms/step - loss: 0.6413 - mse: 0.2249 - false_negatives_1: 384.0000 - recall_1: 0.7758 - val_loss: 0.6462 - val_mse: 0.2273 - val_false_negatives_1: 426.0000 - val_recall_1: 0.7559\n",
      "Epoch 10/20\n",
      "348/348 [==============================] - 1s 2ms/step - loss: 0.6401 - mse: 0.2244 - false_negatives_1: 371.0000 - recall_1: 0.7834 - val_loss: 0.6446 - val_mse: 0.2266 - val_false_negatives_1: 341.0000 - val_recall_1: 0.8046\n",
      "Epoch 11/20\n",
      "348/348 [==============================] - 1s 2ms/step - loss: 0.6391 - mse: 0.2241 - false_negatives_1: 345.0000 - recall_1: 0.7986 - val_loss: 0.6458 - val_mse: 0.2272 - val_false_negatives_1: 433.0000 - val_recall_1: 0.7519\n",
      "Epoch 12/20\n",
      "348/348 [==============================] - 1s 2ms/step - loss: 0.6376 - mse: 0.2233 - false_negatives_1: 342.0000 - recall_1: 0.8004 - val_loss: 0.6477 - val_mse: 0.2280 - val_false_negatives_1: 463.0000 - val_recall_1: 0.7347\n",
      "Epoch 13/20\n",
      "348/348 [==============================] - 1s 2ms/step - loss: 0.6370 - mse: 0.2231 - false_negatives_1: 345.0000 - recall_1: 0.7986 - val_loss: 0.6426 - val_mse: 0.2257 - val_false_negatives_1: 369.0000 - val_recall_1: 0.7885\n",
      "Epoch 14/20\n",
      "348/348 [==============================] - 1s 2ms/step - loss: 0.6358 - mse: 0.2226 - false_negatives_1: 340.0000 - recall_1: 0.8015 - val_loss: 0.6442 - val_mse: 0.2264 - val_false_negatives_1: 430.0000 - val_recall_1: 0.7536\n",
      "Epoch 15/20\n",
      "348/348 [==============================] - 1s 3ms/step - loss: 0.6358 - mse: 0.2226 - false_negatives_1: 347.0000 - recall_1: 0.7974 - val_loss: 0.6421 - val_mse: 0.2255 - val_false_negatives_1: 394.0000 - val_recall_1: 0.7742\n",
      "Epoch 16/20\n",
      "348/348 [==============================] - 1s 2ms/step - loss: 0.6342 - mse: 0.2219 - false_negatives_1: 335.0000 - recall_1: 0.8044 - val_loss: 0.6423 - val_mse: 0.2256 - val_false_negatives_1: 396.0000 - val_recall_1: 0.7731\n",
      "Epoch 17/20\n",
      "348/348 [==============================] - 1s 2ms/step - loss: 0.6328 - mse: 0.2213 - false_negatives_1: 332.0000 - recall_1: 0.8062 - val_loss: 0.6499 - val_mse: 0.2291 - val_false_negatives_1: 560.0000 - val_recall_1: 0.6791\n",
      "Epoch 18/20\n",
      "348/348 [==============================] - 1s 3ms/step - loss: 0.6326 - mse: 0.2212 - false_negatives_1: 339.0000 - recall_1: 0.8021 - val_loss: 0.6384 - val_mse: 0.2241 - val_false_negatives_1: 260.0000 - val_recall_1: 0.8510\n",
      "Epoch 19/20\n",
      "348/348 [==============================] - 1s 2ms/step - loss: 0.6320 - mse: 0.2209 - false_negatives_1: 311.0000 - recall_1: 0.8184 - val_loss: 0.6411 - val_mse: 0.2251 - val_false_negatives_1: 444.0000 - val_recall_1: 0.7456\n",
      "Epoch 20/20\n",
      "348/348 [==============================] - 1s 2ms/step - loss: 0.6323 - mse: 0.2212 - false_negatives_1: 315.0000 - recall_1: 0.8161 - val_loss: 0.6384 - val_mse: 0.2240 - val_false_negatives_1: 401.0000 - val_recall_1: 0.7702\n"
     ]
    }
   ],
   "source": [
    "pre_diabets_classifier = get_model(x_diabets_train, y_diabets_train)\n",
    "# 6 min\n"
   ]
  },
  {
   "cell_type": "code",
   "execution_count": 9,
   "metadata": {},
   "outputs": [
    {
     "name": "stdout",
     "output_type": "stream",
     "text": [
      "553/553 [==============================] - 1s 1ms/step\n"
     ]
    }
   ],
   "source": [
    "pre_diabets_predict = diabets_classifier.predict(x_pre_diabets_test).T[0]\n",
    "# 1 min\n"
   ]
  },
  {
   "cell_type": "code",
   "execution_count": 10,
   "metadata": {},
   "outputs": [
    {
     "name": "stdout",
     "output_type": "stream",
     "text": [
      "              precision    recall  f1-score   support\n",
      "\n",
      "       False       0.72      0.73      0.72      8837\n",
      "        True       0.72      0.72      0.72      8836\n",
      "\n",
      "    accuracy                           0.72     17673\n",
      "   macro avg       0.72      0.72      0.72     17673\n",
      "weighted avg       0.72      0.72      0.72     17673\n",
      "\n"
     ]
    }
   ],
   "source": [
    "print(classification_report(pre_diabets_predict > np.median(pre_diabets_predict), y_pre_diabets_test))\n"
   ]
  },
  {
   "attachments": {},
   "cell_type": "markdown",
   "metadata": {},
   "source": [
    "# Nondiabets KNN"
   ]
  },
  {
   "cell_type": "code",
   "execution_count": 11,
   "metadata": {},
   "outputs": [
    {
     "name": "stdout",
     "output_type": "stream",
     "text": [
      "Model: \"sequential_2\"\n",
      "_________________________________________________________________\n",
      " Layer (type)                Output Shape              Param #   \n",
      "=================================================================\n",
      " input (Dense)               (None, 17)                306       \n",
      "                                                                 \n",
      " hidden_layer_2 (Dense)      (None, 34)                612       \n",
      "                                                                 \n",
      " hidden_layer_3 (Dense)      (None, 51)                1785      \n",
      "                                                                 \n",
      " hidden_layer_4 (Dense)      (None, 34)                1768      \n",
      "                                                                 \n",
      " hidden_layer_5 (Dense)      (None, 17)                595       \n",
      "                                                                 \n",
      " hidden_layer_6 (Dense)      (None, 8)                 144       \n",
      "                                                                 \n",
      " output (Dense)              (None, 1)                 9         \n",
      "                                                                 \n",
      "=================================================================\n",
      "Total params: 5,219\n",
      "Trainable params: 5,219\n",
      "Non-trainable params: 0\n",
      "_________________________________________________________________\n",
      "Epoch 1/20\n",
      "9513/9513 [==============================] - 24s 2ms/step - loss: 0.3678 - mse: 0.1145 - false_negatives_2: 4.0000 - recall_2: 1.0000 - val_loss: 0.3531 - val_mse: 0.1109 - val_false_negatives_2: 0.0000e+00 - val_recall_2: 1.0000\n",
      "Epoch 2/20\n",
      "9513/9513 [==============================] - 23s 2ms/step - loss: 0.3488 - mse: 0.1095 - false_negatives_2: 801.0000 - recall_2: 0.9900 - val_loss: 0.3484 - val_mse: 0.1094 - val_false_negatives_2: 1151.0000 - val_recall_2: 0.9856\n",
      "Epoch 3/20\n",
      "9513/9513 [==============================] - 23s 2ms/step - loss: 0.3455 - mse: 0.1085 - false_negatives_2: 1647.0000 - recall_2: 0.9795 - val_loss: 0.3450 - val_mse: 0.1085 - val_false_negatives_2: 1853.0000 - val_recall_2: 0.9768\n",
      "Epoch 4/20\n",
      "9513/9513 [==============================] - 22s 2ms/step - loss: 0.3445 - mse: 0.1082 - false_negatives_2: 2061.0000 - recall_2: 0.9743 - val_loss: 0.3482 - val_mse: 0.1096 - val_false_negatives_2: 626.0000 - val_recall_2: 0.9922\n",
      "Epoch 5/20\n",
      "9513/9513 [==============================] - 22s 2ms/step - loss: 0.3438 - mse: 0.1080 - false_negatives_2: 2035.0000 - recall_2: 0.9746 - val_loss: 0.3441 - val_mse: 0.1083 - val_false_negatives_2: 2512.0000 - val_recall_2: 0.9686\n",
      "Epoch 6/20\n",
      "9513/9513 [==============================] - 22s 2ms/step - loss: 0.3436 - mse: 0.1079 - false_negatives_2: 2147.0000 - recall_2: 0.9732 - val_loss: 0.3450 - val_mse: 0.1085 - val_false_negatives_2: 1163.0000 - val_recall_2: 0.9855\n",
      "Epoch 7/20\n",
      "9513/9513 [==============================] - 22s 2ms/step - loss: 0.3432 - mse: 0.1078 - false_negatives_2: 2176.0000 - recall_2: 0.9729 - val_loss: 0.3517 - val_mse: 0.1100 - val_false_negatives_2: 1393.0000 - val_recall_2: 0.9826\n",
      "Epoch 8/20\n",
      "9513/9513 [==============================] - 22s 2ms/step - loss: 0.3425 - mse: 0.1076 - false_negatives_2: 2205.0000 - recall_2: 0.9725 - val_loss: 0.3439 - val_mse: 0.1080 - val_false_negatives_2: 2431.0000 - val_recall_2: 0.9696\n",
      "Epoch 9/20\n",
      "9513/9513 [==============================] - 22s 2ms/step - loss: 0.3425 - mse: 0.1076 - false_negatives_2: 2190.0000 - recall_2: 0.9727 - val_loss: 0.3432 - val_mse: 0.1079 - val_false_negatives_2: 2230.0000 - val_recall_2: 0.9721\n",
      "Epoch 10/20\n",
      "9513/9513 [==============================] - 22s 2ms/step - loss: 0.3421 - mse: 0.1074 - false_negatives_2: 2262.0000 - recall_2: 0.9718 - val_loss: 0.3429 - val_mse: 0.1078 - val_false_negatives_2: 2304.0000 - val_recall_2: 0.9712\n",
      "Epoch 11/20\n",
      "9513/9513 [==============================] - 23s 2ms/step - loss: 0.3417 - mse: 0.1073 - false_negatives_2: 2253.0000 - recall_2: 0.9719 - val_loss: 0.3428 - val_mse: 0.1079 - val_false_negatives_2: 1362.0000 - val_recall_2: 0.9830\n",
      "Epoch 12/20\n",
      "9513/9513 [==============================] - 22s 2ms/step - loss: 0.3415 - mse: 0.1072 - false_negatives_2: 2205.0000 - recall_2: 0.9725 - val_loss: 0.3422 - val_mse: 0.1075 - val_false_negatives_2: 2399.0000 - val_recall_2: 0.9700\n",
      "Epoch 13/20\n",
      "9513/9513 [==============================] - 22s 2ms/step - loss: 0.3412 - mse: 0.1071 - false_negatives_2: 2205.0000 - recall_2: 0.9725 - val_loss: 0.3418 - val_mse: 0.1074 - val_false_negatives_2: 2316.0000 - val_recall_2: 0.9711\n",
      "Epoch 14/20\n",
      "9513/9513 [==============================] - 22s 2ms/step - loss: 0.3408 - mse: 0.1069 - false_negatives_2: 2216.0000 - recall_2: 0.9724 - val_loss: 0.3419 - val_mse: 0.1074 - val_false_negatives_2: 1520.0000 - val_recall_2: 0.9810\n",
      "Epoch 15/20\n",
      "9513/9513 [==============================] - 22s 2ms/step - loss: 0.3405 - mse: 0.1068 - false_negatives_2: 2131.0000 - recall_2: 0.9734 - val_loss: 0.3454 - val_mse: 0.1089 - val_false_negatives_2: 4323.0000 - val_recall_2: 0.9460\n",
      "Epoch 16/20\n",
      "9513/9513 [==============================] - 22s 2ms/step - loss: 0.3403 - mse: 0.1068 - false_negatives_2: 2227.0000 - recall_2: 0.9722 - val_loss: 0.3428 - val_mse: 0.1077 - val_false_negatives_2: 1296.0000 - val_recall_2: 0.9838\n",
      "Epoch 17/20\n",
      "9513/9513 [==============================] - 22s 2ms/step - loss: 0.3402 - mse: 0.1067 - false_negatives_2: 2170.0000 - recall_2: 0.9729 - val_loss: 0.3421 - val_mse: 0.1076 - val_false_negatives_2: 911.0000 - val_recall_2: 0.9886\n",
      "Epoch 18/20\n",
      "9513/9513 [==============================] - 22s 2ms/step - loss: 0.3400 - mse: 0.1067 - false_negatives_2: 2087.0000 - recall_2: 0.9740 - val_loss: 0.3408 - val_mse: 0.1071 - val_false_negatives_2: 2641.0000 - val_recall_2: 0.9670\n",
      "Epoch 19/20\n",
      "9513/9513 [==============================] - 22s 2ms/step - loss: 0.3397 - mse: 0.1066 - false_negatives_2: 2050.0000 - recall_2: 0.9744 - val_loss: 0.3410 - val_mse: 0.1071 - val_false_negatives_2: 1526.0000 - val_recall_2: 0.9809\n",
      "Epoch 20/20\n",
      "9513/9513 [==============================] - 22s 2ms/step - loss: 0.3397 - mse: 0.1065 - false_negatives_2: 2030.0000 - recall_2: 0.9747 - val_loss: 0.3436 - val_mse: 0.1080 - val_false_negatives_2: 3478.0000 - val_recall_2: 0.9565\n"
     ]
    }
   ],
   "source": [
    "non_diabets_classifier = get_model(x_non_diabets_train, y_non_diabets_train)\n",
    "# 6 min\n"
   ]
  },
  {
   "cell_type": "code",
   "execution_count": 12,
   "metadata": {},
   "outputs": [
    {
     "name": "stdout",
     "output_type": "stream",
     "text": [
      "   1/1982 [..............................] - ETA: 35s"
     ]
    },
    {
     "name": "stdout",
     "output_type": "stream",
     "text": [
      "1982/1982 [==============================] - 2s 1ms/step\n"
     ]
    }
   ],
   "source": [
    "non_diabets_predict = diabets_classifier.predict(x_non_diabets_test).T[0]\n",
    "# 1 min\n"
   ]
  },
  {
   "cell_type": "code",
   "execution_count": 13,
   "metadata": {},
   "outputs": [
    {
     "name": "stdout",
     "output_type": "stream",
     "text": [
      "              precision    recall  f1-score   support\n",
      "\n",
      "       False       0.01      0.01      0.01     11434\n",
      "        True       0.79      0.81      0.80     51986\n",
      "\n",
      "    accuracy                           0.67     63420\n",
      "   macro avg       0.40      0.41      0.41     63420\n",
      "weighted avg       0.65      0.67      0.66     63420\n",
      "\n"
     ]
    }
   ],
   "source": [
    "print(classification_report(non_diabets_predict > np.median(x_non_diabets_test), y_non_diabets_test))\n"
   ]
  }
 ],
 "metadata": {
  "kernelspec": {
   "display_name": "Python 3",
   "language": "python",
   "name": "python3"
  },
  "language_info": {
   "codemirror_mode": {
    "name": "ipython",
    "version": 3
   },
   "file_extension": ".py",
   "mimetype": "text/x-python",
   "name": "python",
   "nbconvert_exporter": "python",
   "pygments_lexer": "ipython3",
   "version": "3.9.2"
  },
  "orig_nbformat": 4
 },
 "nbformat": 4,
 "nbformat_minor": 2
}

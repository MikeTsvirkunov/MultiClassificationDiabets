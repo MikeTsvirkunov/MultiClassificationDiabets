{
 "cells": [
  {
   "cell_type": "code",
   "execution_count": 1,
   "metadata": {},
   "outputs": [],
   "source": [
    "from sklearn.tree import DecisionTreeClassifier\n",
    "import pandas as pd\n",
    "import numpy as np\n",
    "import matplotlib.pyplot as plt\n",
    "from sklearn.model_selection import train_test_split\n",
    "from sklearn.model_selection import GridSearchCV, RandomizedSearchCV\n",
    "from sklearn.metrics import accuracy_score, confusion_matrix, classification_report, roc_curve, RocCurveDisplay, auc\n",
    "from sklearn.preprocessing import LabelEncoder\n"
   ]
  },
  {
   "cell_type": "code",
   "execution_count": 2,
   "metadata": {},
   "outputs": [],
   "source": [
    "diabets_classes = pd.read_csv('../../DATA/diabets_classes.csv', index_col=False)\n",
    "diabets_x = diabets_classes.drop(['diabets'], axis=1)\n",
    "diabets = diabets_classes['diabets']\n",
    "pre_diabets_classes = pd.read_csv('../../DATA/pre_diabets_classes.csv', index_col=False)\n",
    "pre_diabets_x = pre_diabets_classes.drop(['pre_diabets'], axis=1)\n",
    "pre_diabets = pre_diabets_classes['pre_diabets']\n",
    "non_diabets_classes = pd.read_csv('../../DATA/non_diabets_classes.csv', index_col=False)\n",
    "non_diabets_x = non_diabets_classes.drop(['non_diabets'], axis=1)\n",
    "non_diabets = non_diabets_classes['non_diabets']\n"
   ]
  },
  {
   "cell_type": "code",
   "execution_count": 3,
   "metadata": {},
   "outputs": [],
   "source": [
    "x_diabets_train, x_diabets_test, y_diabets_train, y_diabets_test = train_test_split(diabets_x, diabets, test_size=0.25)\n",
    "x_pre_diabets_train, x_pre_diabets_test, y_pre_diabets_train, y_pre_diabets_test = train_test_split(pre_diabets_x, pre_diabets, test_size=0.25)\n",
    "x_non_diabets_train, x_non_diabets_test, y_non_diabets_train, y_non_diabets_test = train_test_split(non_diabets_x, non_diabets, test_size=0.25)"
   ]
  },
  {
   "attachments": {},
   "cell_type": "markdown",
   "metadata": {},
   "source": [
    "# Diabets KNN"
   ]
  },
  {
   "cell_type": "code",
   "execution_count": 4,
   "metadata": {},
   "outputs": [],
   "source": [
    "params = {'criterion': ['gini', 'entropy', 'log_loss'], \n",
    "          'max_depth': np.arange(3, 15)}\n"
   ]
  },
  {
   "cell_type": "code",
   "execution_count": 5,
   "metadata": {},
   "outputs": [],
   "source": [
    "diabets_classifier = GridSearchCV(DecisionTreeClassifier(),\n",
    "                                  params,\n",
    "                                  n_jobs=4,\n",
    "                                  scoring='accuracy'\n",
    "                                  ).fit(x_diabets_train, y_diabets_train)\n",
    "\n",
    "# 6 min\n"
   ]
  },
  {
   "cell_type": "code",
   "execution_count": 6,
   "metadata": {},
   "outputs": [],
   "source": [
    "diabets_predict = diabets_classifier.predict(x_diabets_test)\n",
    "# 1 min\n"
   ]
  },
  {
   "cell_type": "code",
   "execution_count": 7,
   "metadata": {},
   "outputs": [
    {
     "name": "stdout",
     "output_type": "stream",
     "text": [
      "              precision    recall  f1-score   support\n",
      "\n",
      "         0.0       0.75      0.82      0.79     49141\n",
      "         1.0       0.84      0.77      0.80     57711\n",
      "\n",
      "    accuracy                           0.80    106852\n",
      "   macro avg       0.80      0.80      0.80    106852\n",
      "weighted avg       0.80      0.80      0.80    106852\n",
      "\n"
     ]
    }
   ],
   "source": [
    "print(classification_report(diabets_predict, y_diabets_test))\n"
   ]
  },
  {
   "attachments": {},
   "cell_type": "markdown",
   "metadata": {},
   "source": [
    "# Prediabets KNN"
   ]
  },
  {
   "cell_type": "code",
   "execution_count": 8,
   "metadata": {},
   "outputs": [],
   "source": [
    "pre_diabets_classifier = GridSearchCV(DecisionTreeClassifier(),\n",
    "                                      params,\n",
    "                                      n_jobs=4,\n",
    "                                      scoring='accuracy'\n",
    "                                      ).fit(x_pre_diabets_train, y_pre_diabets_train)\n",
    "# 6 min\n"
   ]
  },
  {
   "cell_type": "code",
   "execution_count": 9,
   "metadata": {},
   "outputs": [],
   "source": [
    "pre_diabets_predict = diabets_classifier.predict(x_pre_diabets_test)\n",
    "# 1 min\n"
   ]
  },
  {
   "cell_type": "code",
   "execution_count": 10,
   "metadata": {},
   "outputs": [
    {
     "name": "stdout",
     "output_type": "stream",
     "text": [
      "              precision    recall  f1-score   support\n",
      "\n",
      "         0.0       0.57      0.52      0.54     58987\n",
      "         1.0       0.47      0.52      0.49     47865\n",
      "\n",
      "    accuracy                           0.52    106852\n",
      "   macro avg       0.52      0.52      0.52    106852\n",
      "weighted avg       0.52      0.52      0.52    106852\n",
      "\n"
     ]
    }
   ],
   "source": [
    "print(classification_report(pre_diabets_predict, y_pre_diabets_test))\n"
   ]
  },
  {
   "attachments": {},
   "cell_type": "markdown",
   "metadata": {},
   "source": [
    "# Nondiabets KNN"
   ]
  },
  {
   "cell_type": "code",
   "execution_count": 11,
   "metadata": {},
   "outputs": [],
   "source": [
    "non_diabets_classifier = GridSearchCV(DecisionTreeClassifier(),\n",
    "                                      params,\n",
    "                                      n_jobs=4,\n",
    "                                      scoring='accuracy'\n",
    "                                      ).fit(x_non_diabets_train, y_non_diabets_train)\n"
   ]
  },
  {
   "cell_type": "code",
   "execution_count": 12,
   "metadata": {},
   "outputs": [],
   "source": [
    "non_diabets_predict = diabets_classifier.predict(x_non_diabets_test)\n",
    "# 1 min\n"
   ]
  },
  {
   "cell_type": "code",
   "execution_count": 13,
   "metadata": {},
   "outputs": [
    {
     "name": "stdout",
     "output_type": "stream",
     "text": [
      "              precision    recall  f1-score   support\n",
      "\n",
      "         0.0       0.34      0.26      0.30     70867\n",
      "         1.0       0.02      0.02      0.02     35985\n",
      "\n",
      "    accuracy                           0.18    106852\n",
      "   macro avg       0.18      0.14      0.16    106852\n",
      "weighted avg       0.23      0.18      0.20    106852\n",
      "\n"
     ]
    }
   ],
   "source": [
    "print(classification_report(non_diabets_predict, y_non_diabets_test))\n"
   ]
  }
 ],
 "metadata": {
  "kernelspec": {
   "display_name": "Python 3",
   "language": "python",
   "name": "python3"
  },
  "language_info": {
   "codemirror_mode": {
    "name": "ipython",
    "version": 3
   },
   "file_extension": ".py",
   "mimetype": "text/x-python",
   "name": "python",
   "nbconvert_exporter": "python",
   "pygments_lexer": "ipython3",
   "version": "3.9.2"
  },
  "orig_nbformat": 4
 },
 "nbformat": 4,
 "nbformat_minor": 2
}

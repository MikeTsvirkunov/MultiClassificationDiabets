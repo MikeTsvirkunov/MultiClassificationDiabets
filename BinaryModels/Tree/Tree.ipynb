{
 "cells": [
  {
   "cell_type": "code",
   "execution_count": 2,
   "metadata": {},
   "outputs": [],
   "source": [
    "from sklearn.tree import DecisionTreeClassifier\n",
    "import pandas as pd\n",
    "import numpy as np\n",
    "import matplotlib.pyplot as plt\n",
    "from sklearn.model_selection import train_test_split\n",
    "from sklearn.model_selection import GridSearchCV, RandomizedSearchCV\n",
    "from sklearn.metrics import accuracy_score, confusion_matrix, classification_report, roc_curve, RocCurveDisplay, auc\n",
    "from sklearn.preprocessing import LabelEncoder\n"
   ]
  },
  {
   "cell_type": "code",
   "execution_count": 4,
   "metadata": {},
   "outputs": [],
   "source": [
    "diabets_classes = pd.read_csv('../../DATA/diabets_classes.csv', index_col=False)\n",
    "diabets_x = diabets_classes.drop(['diabets'], axis=1)\n",
    "diabets = diabets_classes['diabets']\n",
    "pre_diabets_classes = pd.read_csv('../../DATA/pre_diabets_classes.csv', index_col=False)\n",
    "pre_diabets_x = pre_diabets_classes.drop(['pre_diabets'], axis=1)\n",
    "pre_diabets = pre_diabets_classes['pre_diabets']\n",
    "non_diabets_classes = pd.read_csv('../../DATA/non_diabets_classes.csv', index_col=False)\n",
    "non_diabets_x = non_diabets_classes.drop(['non_diabets'], axis=1)\n",
    "non_diabets = non_diabets_classes['non_diabets']\n"
   ]
  },
  {
   "cell_type": "code",
   "execution_count": 5,
   "metadata": {},
   "outputs": [],
   "source": [
    "x_diabets_train, x_diabets_test, y_diabets_train, y_diabets_test = train_test_split(diabets_x, diabets, test_size=0.25)\n",
    "x_pre_diabets_train, x_pre_diabets_test, y_pre_diabets_train, y_pre_diabets_test = train_test_split(pre_diabets_x, pre_diabets, test_size=0.25)\n",
    "x_non_diabets_train, x_non_diabets_test, y_non_diabets_train, y_non_diabets_test = train_test_split(non_diabets_x, non_diabets, test_size=0.25)"
   ]
  },
  {
   "attachments": {},
   "cell_type": "markdown",
   "metadata": {},
   "source": [
    "# Diabets KNN"
   ]
  },
  {
   "cell_type": "code",
   "execution_count": 6,
   "metadata": {},
   "outputs": [],
   "source": [
    "params = {'criterion': ['gini', 'entropy', 'log_loss'], \n",
    "          'max_depth': np.arange(3, 15)}\n"
   ]
  },
  {
   "cell_type": "code",
   "execution_count": 7,
   "metadata": {},
   "outputs": [],
   "source": [
    "diabets_classifier = GridSearchCV(DecisionTreeClassifier(),\n",
    "                                  params,\n",
    "                                  n_jobs=4,\n",
    "                                  scoring='accuracy'\n",
    "                                  ).fit(x_diabets_train, y_diabets_train)\n",
    "\n",
    "# 6 min\n"
   ]
  },
  {
   "cell_type": "code",
   "execution_count": 8,
   "metadata": {},
   "outputs": [],
   "source": [
    "diabets_predict = diabets_classifier.predict(x_diabets_test)\n",
    "# 1 min\n"
   ]
  },
  {
   "cell_type": "code",
   "execution_count": 9,
   "metadata": {},
   "outputs": [
    {
     "name": "stdout",
     "output_type": "stream",
     "text": [
      "              precision    recall  f1-score   support\n",
      "\n",
      "         0.0       0.51      0.69      0.59       880\n",
      "         1.0       0.76      0.60      0.67      1436\n",
      "\n",
      "    accuracy                           0.63      2316\n",
      "   macro avg       0.64      0.65      0.63      2316\n",
      "weighted avg       0.67      0.63      0.64      2316\n",
      "\n"
     ]
    }
   ],
   "source": [
    "print(classification_report(diabets_predict, y_diabets_test))\n"
   ]
  },
  {
   "attachments": {},
   "cell_type": "markdown",
   "metadata": {},
   "source": [
    "# Prediabets KNN"
   ]
  },
  {
   "cell_type": "code",
   "execution_count": 12,
   "metadata": {},
   "outputs": [],
   "source": [
    "pre_diabets_classifier = GridSearchCV(DecisionTreeClassifier(),\n",
    "                                      params,\n",
    "                                      n_jobs=4,\n",
    "                                      scoring='accuracy'\n",
    "                                      ).fit(x_pre_diabets_train, y_pre_diabets_train)\n",
    "# 6 min\n"
   ]
  },
  {
   "cell_type": "code",
   "execution_count": 13,
   "metadata": {},
   "outputs": [],
   "source": [
    "pre_diabets_predict = diabets_classifier.predict(x_pre_diabets_test)\n",
    "# 1 min\n"
   ]
  },
  {
   "cell_type": "code",
   "execution_count": 14,
   "metadata": {},
   "outputs": [
    {
     "name": "stdout",
     "output_type": "stream",
     "text": [
      "              precision    recall  f1-score   support\n",
      "\n",
      "         0.0       0.56      0.76      0.65      6590\n",
      "         1.0       0.82      0.65      0.73     11083\n",
      "\n",
      "    accuracy                           0.69     17673\n",
      "   macro avg       0.69      0.71      0.69     17673\n",
      "weighted avg       0.73      0.69      0.70     17673\n",
      "\n"
     ]
    }
   ],
   "source": [
    "print(classification_report(pre_diabets_predict, y_pre_diabets_test))\n"
   ]
  },
  {
   "attachments": {},
   "cell_type": "markdown",
   "metadata": {},
   "source": [
    "# Nondiabets KNN"
   ]
  },
  {
   "cell_type": "code",
   "execution_count": 15,
   "metadata": {},
   "outputs": [],
   "source": [
    "non_diabets_classifier = GridSearchCV(DecisionTreeClassifier(),\n",
    "                                      params,\n",
    "                                      n_jobs=4,\n",
    "                                      scoring='accuracy'\n",
    "                                      ).fit(x_non_diabets_train, y_non_diabets_train)\n"
   ]
  },
  {
   "cell_type": "code",
   "execution_count": 16,
   "metadata": {},
   "outputs": [],
   "source": [
    "non_diabets_predict = diabets_classifier.predict(x_non_diabets_test)\n",
    "# 1 min\n"
   ]
  },
  {
   "cell_type": "code",
   "execution_count": 17,
   "metadata": {},
   "outputs": [
    {
     "name": "stdout",
     "output_type": "stream",
     "text": [
      "              precision    recall  f1-score   support\n",
      "\n",
      "         0.0       0.18      0.06      0.09     32367\n",
      "         1.0       0.43      0.74      0.54     31053\n",
      "\n",
      "    accuracy                           0.39     63420\n",
      "   macro avg       0.31      0.40      0.31     63420\n",
      "weighted avg       0.30      0.39      0.31     63420\n",
      "\n"
     ]
    }
   ],
   "source": [
    "print(classification_report(non_diabets_predict, y_non_diabets_test))\n"
   ]
  }
 ],
 "metadata": {
  "kernelspec": {
   "display_name": "Python 3",
   "language": "python",
   "name": "python3"
  },
  "language_info": {
   "codemirror_mode": {
    "name": "ipython",
    "version": 3
   },
   "file_extension": ".py",
   "mimetype": "text/x-python",
   "name": "python",
   "nbconvert_exporter": "python",
   "pygments_lexer": "ipython3",
   "version": "3.9.2"
  },
  "orig_nbformat": 4
 },
 "nbformat": 4,
 "nbformat_minor": 2
}

{
 "cells": [
  {
   "cell_type": "code",
   "execution_count": 1,
   "metadata": {},
   "outputs": [],
   "source": [
    "import pandas as pd\n",
    "import numpy as np\n",
    "import matplotlib.pyplot as plt\n",
    "from sklearn.metrics import accuracy_score, f1_score, recall_score, precision_score, classification_report, roc_curve, RocCurveDisplay, roc_auc_score\n",
    "from sklearn.naive_bayes import GaussianNB\n",
    "from sklearn.model_selection import GridSearchCV\n",
    "from sklearn.model_selection import train_test_split\n"
   ]
  },
  {
   "cell_type": "code",
   "execution_count": 2,
   "metadata": {},
   "outputs": [],
   "source": [
    "diabets_classes = pd.read_csv('../../DATA/diabets_classes.csv', index_col=False)\n",
    "diabets_x = diabets_classes.drop(['diabets'], axis=1)\n",
    "diabets = diabets_classes['diabets']\n",
    "pre_diabets_classes = pd.read_csv('../../DATA/pre_diabets_classes.csv', index_col=False)\n",
    "pre_diabets_x = pre_diabets_classes.drop(['pre_diabets'], axis=1)\n",
    "pre_diabets = pre_diabets_classes['pre_diabets']\n",
    "non_diabets_classes = pd.read_csv('../../DATA/non_diabets_classes.csv', index_col=False)\n",
    "non_diabets_x = non_diabets_classes.drop(['non_diabets'], axis=1)\n",
    "non_diabets = non_diabets_classes['non_diabets']\n"
   ]
  },
  {
   "cell_type": "code",
   "execution_count": 3,
   "metadata": {},
   "outputs": [],
   "source": [
    "x_diabets_train, x_diabets_test, y_diabets_train, y_diabets_test = train_test_split(diabets_x, diabets, test_size=0.25)\n",
    "x_pre_diabets_train, x_pre_diabets_test, y_pre_diabets_train, y_pre_diabets_test = train_test_split(pre_diabets_x, pre_diabets, test_size=0.25)\n",
    "x_non_diabets_train, x_non_diabets_test, y_non_diabets_train, y_non_diabets_test = train_test_split(non_diabets_x, non_diabets, test_size=0.25)"
   ]
  },
  {
   "attachments": {},
   "cell_type": "markdown",
   "metadata": {},
   "source": [
    "# Diabets KNN"
   ]
  },
  {
   "cell_type": "code",
   "execution_count": 5,
   "metadata": {},
   "outputs": [],
   "source": [
    "diabets_classifier = GaussianNB().fit(x_diabets_train, y_diabets_train)\n",
    "# 6 min\n"
   ]
  },
  {
   "cell_type": "code",
   "execution_count": 6,
   "metadata": {},
   "outputs": [],
   "source": [
    "diabets_predict = diabets_classifier.predict(x_diabets_test)\n",
    "# 1 min\n"
   ]
  },
  {
   "cell_type": "code",
   "execution_count": 7,
   "metadata": {},
   "outputs": [
    {
     "name": "stdout",
     "output_type": "stream",
     "text": [
      "              precision    recall  f1-score   support\n",
      "\n",
      "         0.0       0.57      0.67      0.62       958\n",
      "         1.0       0.73      0.64      0.68      1358\n",
      "\n",
      "    accuracy                           0.65      2316\n",
      "   macro avg       0.65      0.66      0.65      2316\n",
      "weighted avg       0.67      0.65      0.66      2316\n",
      "\n"
     ]
    }
   ],
   "source": [
    "print(classification_report(diabets_predict, y_diabets_test))\n"
   ]
  },
  {
   "attachments": {},
   "cell_type": "markdown",
   "metadata": {},
   "source": [
    "# Prediabets KNN"
   ]
  },
  {
   "cell_type": "code",
   "execution_count": 8,
   "metadata": {},
   "outputs": [],
   "source": [
    "pre_diabets_classifier = GaussianNB().fit(x_diabets_train, y_diabets_train)\n",
    "# 6 min\n"
   ]
  },
  {
   "cell_type": "code",
   "execution_count": 9,
   "metadata": {},
   "outputs": [],
   "source": [
    "pre_diabets_predict = diabets_classifier.predict(x_pre_diabets_test)\n",
    "# 1 min\n"
   ]
  },
  {
   "cell_type": "code",
   "execution_count": 10,
   "metadata": {},
   "outputs": [
    {
     "name": "stdout",
     "output_type": "stream",
     "text": [
      "              precision    recall  f1-score   support\n",
      "\n",
      "         0.0       0.61      0.77      0.68      6923\n",
      "         1.0       0.82      0.69      0.75     10750\n",
      "\n",
      "    accuracy                           0.72     17673\n",
      "   macro avg       0.72      0.73      0.72     17673\n",
      "weighted avg       0.74      0.72      0.72     17673\n",
      "\n"
     ]
    }
   ],
   "source": [
    "print(classification_report(pre_diabets_predict, y_pre_diabets_test))\n"
   ]
  },
  {
   "attachments": {},
   "cell_type": "markdown",
   "metadata": {},
   "source": [
    "# Nondiabets KNN"
   ]
  },
  {
   "cell_type": "code",
   "execution_count": 12,
   "metadata": {},
   "outputs": [],
   "source": [
    "non_diabets_classifier = GaussianNB().fit(x_non_diabets_train, y_non_diabets_train)\n",
    "# 6 min\n"
   ]
  },
  {
   "cell_type": "code",
   "execution_count": 13,
   "metadata": {},
   "outputs": [],
   "source": [
    "non_diabets_predict = diabets_classifier.predict(x_non_diabets_test)\n",
    "# 1 min\n"
   ]
  },
  {
   "cell_type": "code",
   "execution_count": 14,
   "metadata": {},
   "outputs": [
    {
     "name": "stdout",
     "output_type": "stream",
     "text": [
      "              precision    recall  f1-score   support\n",
      "\n",
      "         0.0       0.18      0.05      0.08     35039\n",
      "         1.0       0.38      0.71      0.49     28381\n",
      "\n",
      "    accuracy                           0.35     63420\n",
      "   macro avg       0.28      0.38      0.29     63420\n",
      "weighted avg       0.27      0.35      0.27     63420\n",
      "\n"
     ]
    }
   ],
   "source": [
    "print(classification_report(non_diabets_predict, y_non_diabets_test))\n"
   ]
  }
 ],
 "metadata": {
  "kernelspec": {
   "display_name": "Python 3",
   "language": "python",
   "name": "python3"
  },
  "language_info": {
   "codemirror_mode": {
    "name": "ipython",
    "version": 3
   },
   "file_extension": ".py",
   "mimetype": "text/x-python",
   "name": "python",
   "nbconvert_exporter": "python",
   "pygments_lexer": "ipython3",
   "version": "3.9.2"
  },
  "orig_nbformat": 4
 },
 "nbformat": 4,
 "nbformat_minor": 2
}

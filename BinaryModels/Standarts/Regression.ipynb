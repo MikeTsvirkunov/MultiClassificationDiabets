{
 "cells": [
  {
   "cell_type": "code",
   "execution_count": 4,
   "metadata": {},
   "outputs": [],
   "source": [
    "import pandas as pd\n",
    "import numpy as np\n",
    "import matplotlib.pyplot as plt\n",
    "from sklearn.metrics import accuracy_score, f1_score, recall_score, precision_score, classification_report, roc_curve, RocCurveDisplay, roc_auc_score\n",
    "from sklearn.linear_model import LogisticRegression\n",
    "from sklearn.model_selection import GridSearchCV\n",
    "from sklearn.model_selection import train_test_split\n"
   ]
  },
  {
   "cell_type": "code",
   "execution_count": 3,
   "metadata": {},
   "outputs": [],
   "source": [
    "diabets_classes = pd.read_csv('../../DATA/diabets_classes.csv', index_col=False)\n",
    "diabets_x = diabets_classes.drop(['diabets'], axis=1)\n",
    "diabets = diabets_classes['diabets']\n",
    "pre_diabets_classes = pd.read_csv('../../DATA/pre_diabets_classes.csv', index_col=False)\n",
    "pre_diabets_x = pre_diabets_classes.drop(['pre_diabets'], axis=1)\n",
    "pre_diabets = pre_diabets_classes['pre_diabets']\n",
    "non_diabets_classes = pd.read_csv('../../DATA/non_diabets_classes.csv', index_col=False)\n",
    "non_diabets_x = non_diabets_classes.drop(['non_diabets'], axis=1)\n",
    "non_diabets = non_diabets_classes['non_diabets']\n"
   ]
  },
  {
   "cell_type": "code",
   "execution_count": 7,
   "metadata": {},
   "outputs": [],
   "source": [
    "x_diabets_train, x_diabets_test, y_diabets_train, y_diabets_test = train_test_split(diabets_x, diabets, test_size=0.25)\n",
    "x_pre_diabets_train, x_pre_diabets_test, y_pre_diabets_train, y_pre_diabets_test = train_test_split(pre_diabets_x, pre_diabets, test_size=0.25)\n",
    "x_non_diabets_train, x_non_diabets_test, y_non_diabets_train, y_non_diabets_test = train_test_split(non_diabets_x, non_diabets, test_size=0.25)"
   ]
  },
  {
   "cell_type": "code",
   "execution_count": 17,
   "metadata": {},
   "outputs": [],
   "source": [
    "def show_regression_params(lr, c):\n",
    "    print(abs(lr.best_estimator_.coef_).mean(axis=0))\n",
    "    plt.bar(c, abs(lr.best_estimator_.coef_).mean(axis=0))\n",
    "    plt.xticks(rotation=90)\n",
    "    plt.axhline(abs(lr.best_estimator_.coef_).mean(axis=0).mean(), color='red')\n",
    "    plt.axhline(np.median(abs(lr.best_estimator_.coef_).mean(axis=0)), color='green')\n"
   ]
  },
  {
   "attachments": {},
   "cell_type": "markdown",
   "metadata": {},
   "source": [
    "# Diabets KNN"
   ]
  },
  {
   "cell_type": "code",
   "execution_count": 18,
   "metadata": {},
   "outputs": [],
   "source": [
    "diabets_classifier = GridSearchCV(LogisticRegression(penalty='l2', solver='lbfgs'),\n",
    "                                        {'C': [1e-5, 1e-4, 1e-3,\n",
    "                                               1e-2, 1e-1, 1, 10, 100]},\n",
    "                                        n_jobs=4,\n",
    "                                        scoring='accuracy'\n",
    "                                        ).fit(x_diabets_train, y_diabets_train)\n",
    "\n",
    "# 6 min\n"
   ]
  },
  {
   "cell_type": "code",
   "execution_count": 9,
   "metadata": {},
   "outputs": [],
   "source": [
    "diabets_predict = diabets_classifier.predict(x_diabets_test)\n",
    "# 1 min\n"
   ]
  },
  {
   "cell_type": "code",
   "execution_count": 19,
   "metadata": {},
   "outputs": [
    {
     "name": "stdout",
     "output_type": "stream",
     "text": [
      "[0.19096575 0.49197131 0.70949874 4.12778925 0.04828158 0.31402813\n",
      " 0.85292816 0.27603502 1.4462878  0.49967465]\n"
     ]
    },
    {
     "data": {
      "image/png": "[encoded data removed]",
      "text/plain": [
       "<Figure size 432x288 with 1 Axes>"
      ]
     },
     "metadata": {
      "needs_background": "light"
     },
     "output_type": "display_data"
    }
   ],
   "source": [
    "show_regression_params(diabets_classifier, x_diabets_train.columns)\n"
   ]
  },
  {
   "cell_type": "code",
   "execution_count": 10,
   "metadata": {},
   "outputs": [
    {
     "name": "stdout",
     "output_type": "stream",
     "text": [
      "              precision    recall  f1-score   support\n",
      "\n",
      "         0.0       0.64      0.67      0.66      1102\n",
      "         1.0       0.69      0.66      0.67      1214\n",
      "\n",
      "    accuracy                           0.67      2316\n",
      "   macro avg       0.67      0.67      0.67      2316\n",
      "weighted avg       0.67      0.67      0.67      2316\n",
      "\n"
     ]
    }
   ],
   "source": [
    "print(classification_report(diabets_predict, y_diabets_test))\n"
   ]
  },
  {
   "attachments": {},
   "cell_type": "markdown",
   "metadata": {},
   "source": [
    "# Prediabets KNN"
   ]
  },
  {
   "cell_type": "code",
   "execution_count": 11,
   "metadata": {},
   "outputs": [],
   "source": [
    "pre_diabets_classifier = GridSearchCV(LogisticRegression(penalty='l2', solver='lbfgs'),\n",
    "                                              {'C': [1e-5, 1e-4, 1e-3, 1e-2, 1e-1, 1, 10, 100]},\n",
    "                                              n_jobs=4,\n",
    "                                              scoring='accuracy'\n",
    "                                              ).fit(x_pre_diabets_train, y_pre_diabets_train)\n",
    "# 6 min\n"
   ]
  },
  {
   "cell_type": "code",
   "execution_count": null,
   "metadata": {},
   "outputs": [],
   "source": [
    "GridSearchCV(LogisticRegression(penalty='l2', solver='lbfgs'),\n",
    "                                              {'C': [1e-5, 1e-4, 1e-3, 1e-2, 1e-1, 1, 10, 100]},\n",
    "                                              n_jobs=4,\n",
    "                                              scoring='accuracy'\n",
    "                                              ).fit(x_pre_diabets_train, y_pre_diabets_train)\n",
    "# 6 min\n"
   ]
  },
  {
   "cell_type": "code",
   "execution_count": 12,
   "metadata": {},
   "outputs": [],
   "source": [
    "pre_diabets_predict = diabets_classifier.predict(x_pre_diabets_test)\n",
    "# 1 min\n"
   ]
  },
  {
   "cell_type": "code",
   "execution_count": 20,
   "metadata": {},
   "outputs": [
    {
     "name": "stdout",
     "output_type": "stream",
     "text": [
      "[0.77381928 0.61596262 1.36597503 6.31911083 0.70651607 0.02514007\n",
      " 2.38805615 0.22094104 1.84624413 0.41161798]\n"
     ]
    },
    {
     "data": {
      "image/png": "[encoded data removed]",
      "text/plain": [
       "<Figure size 432x288 with 1 Axes>"
      ]
     },
     "metadata": {
      "needs_background": "light"
     },
     "output_type": "display_data"
    }
   ],
   "source": [
    "show_regression_params(pre_diabets_classifier, x_pre_diabets_train.columns)\n"
   ]
  },
  {
   "cell_type": "code",
   "execution_count": 13,
   "metadata": {},
   "outputs": [
    {
     "name": "stdout",
     "output_type": "stream",
     "text": [
      "              precision    recall  f1-score   support\n",
      "\n",
      "         0.0       0.69      0.76      0.72      7999\n",
      "         1.0       0.78      0.72      0.75      9674\n",
      "\n",
      "    accuracy                           0.74     17673\n",
      "   macro avg       0.74      0.74      0.74     17673\n",
      "weighted avg       0.74      0.74      0.74     17673\n",
      "\n"
     ]
    }
   ],
   "source": [
    "print(classification_report(pre_diabets_predict, y_pre_diabets_test))\n"
   ]
  },
  {
   "attachments": {},
   "cell_type": "markdown",
   "metadata": {},
   "source": [
    "# Nondiabets KNN"
   ]
  },
  {
   "cell_type": "code",
   "execution_count": 14,
   "metadata": {},
   "outputs": [],
   "source": [
    "non_diabets_classifier = GridSearchCV(LogisticRegression(penalty='l2', solver='lbfgs'),\n",
    "                                      {'C': [1e-5, 1e-4, 1e-3,\n",
    "                                             1e-2, 1e-1, 1, 10, 100]},\n",
    "                                      n_jobs=4,\n",
    "                                      scoring='accuracy'\n",
    "                                      ).fit(x_non_diabets_train, y_non_diabets_train)\n"
   ]
  },
  {
   "cell_type": "code",
   "execution_count": 21,
   "metadata": {},
   "outputs": [
    {
     "name": "stdout",
     "output_type": "stream",
     "text": [
      "[0.73960918 0.63018559 1.18695056 5.28869504 0.69752153 0.05973095\n",
      " 2.12487202 0.13389158 1.55413361 0.40498608]\n"
     ]
    },
    {
     "data": {
      "image/png": "[encoded data removed]",
      "text/plain": [
       "<Figure size 432x288 with 1 Axes>"
      ]
     },
     "metadata": {
      "needs_background": "light"
     },
     "output_type": "display_data"
    }
   ],
   "source": [
    "show_regression_params(non_diabets_classifier, x_non_diabets_train.columns)\n"
   ]
  },
  {
   "cell_type": "code",
   "execution_count": 15,
   "metadata": {},
   "outputs": [],
   "source": [
    "non_diabets_predict = diabets_classifier.predict(x_non_diabets_test)\n",
    "# 1 min\n"
   ]
  },
  {
   "cell_type": "code",
   "execution_count": 16,
   "metadata": {},
   "outputs": [
    {
     "name": "stdout",
     "output_type": "stream",
     "text": [
      "              precision    recall  f1-score   support\n",
      "\n",
      "         0.0       0.23      0.06      0.09     39238\n",
      "         1.0       0.31      0.68      0.42     24182\n",
      "\n",
      "    accuracy                           0.29     63420\n",
      "   macro avg       0.27      0.37      0.26     63420\n",
      "weighted avg       0.26      0.29      0.22     63420\n",
      "\n"
     ]
    }
   ],
   "source": [
    "print(classification_report(non_diabets_predict, y_non_diabets_test))\n"
   ]
  }
 ],
 "metadata": {
  "kernelspec": {
   "display_name": "Python 3",
   "language": "python",
   "name": "python3"
  },
  "language_info": {
   "codemirror_mode": {
    "name": "ipython",
    "version": 3
   },
   "file_extension": ".py",
   "mimetype": "text/x-python",
   "name": "python",
   "nbconvert_exporter": "python",
   "pygments_lexer": "ipython3",
   "version": "3.9.2"
  },
  "orig_nbformat": 4
 },
 "nbformat": 4,
 "nbformat_minor": 2
}
